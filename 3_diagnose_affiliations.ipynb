{
 "cells": [
  {
   "cell_type": "code",
   "execution_count": null,
   "metadata": {},
   "outputs": [],
   "source": [
    "import csv\n",
    "from dotenv import load_dotenv\n",
    "import json\n",
    "import os\n",
    "import requests"
   ]
  },
  {
   "cell_type": "code",
   "execution_count": null,
   "metadata": {},
   "outputs": [],
   "source": [
    "load_dotenv()\n",
    "\n",
    "ES_HOST=\"https://cluster.elasticsearch.dataesr.ovh\"\n",
    "ES_INDEX=\"bso-publications\"\n",
    "\n",
    "# Access the environment variables from the .env file\n",
    "ES_TOKEN=os.getenv(\"ES_TOKEN\")"
   ]
  },
  {
   "cell_type": "code",
   "execution_count": null,
   "metadata": {},
   "outputs": [],
   "source": [
    "with open(\"doi_error_reason.csv\", newline='') as csvfile:\n",
    "  rows = csv.reader(csvfile)\n",
    "  # Skip headers\n",
    "  next(rows, None)\n",
    "  errors = []\n",
    "  for row in rows:\n",
    "    doi = row[0].lower()\n",
    "    error_code = row[1]\n",
    "    error_reason = row[2]\n",
    "    openalex_authorships = requests.get(f\"https://api.openalex.org/works/https://doi.org/{doi}\").json().get(\"authorships\", [])\n",
    "    openalex_french_institutions = []\n",
    "    for openalex_author in openalex_authorships:\n",
    "      openalex_french_institutions += [openalex_institution.get(\"display_name\") for openalex_institution in openalex_author.get(\"institutions\") if openalex_institution.get(\"country_code\", \"\").lower() == \"fr\"]\n",
    "    openalex_french_institutions = list(set(openalex_french_institutions))\n",
    "    openalex_french_raw_affiliations = [author.get(\"raw_affiliation_strings\") for author in openalex_authorships if \"FR\" in author.get(\"countries\", [])]\n",
    "    openalex_french_raw_affiliations = [j for openalex_affiliation in openalex_french_raw_affiliations for j in openalex_affiliation]\n",
    "    openalex_french_raw_affiliations = list(set(openalex_french_raw_affiliations))\n",
    "    fosm_data = requests.get(f\"{ES_HOST}/{ES_INDEX}/_search?q=all_ids:\\\"doi{doi}\\\"\", headers={\"Authorization\": f\"Basic {ES_TOKEN}\"}).json()\n",
    "    fosm_hits = fosm_data.get(\"hits\", {}).get(\"hits\", [])\n",
    "    if len(fosm_hits) > 0:\n",
    "      fosm_affiliations = fosm_hits[0].get(\"_source\", {}).get(\"affiliations\", [])\n",
    "      fosm_affiliations = [aff.get(\"name\", \"\").replace(\";\", \",\") for aff in fosm_affiliations if \"fr\" in aff.get(\"detected_countries\", [])]\n",
    "    else:\n",
    "      fosm_affiliations = []\n",
    "    errors.append([doi, error_code, error_reason, \"; \".join(fosm_affiliations), openalex_french_institutions, openalex_french_raw_affiliations])\n",
    "with open(\"doi_error_reason.csv\", \"w\", encoding=\"UTF8\") as f:\n",
    "  writer = csv.writer(f)\n",
    "  writer.writerow([\"doi\", \"error_code\", \"error_reason\", \"fosm_institutions\", \"openalex_french_institutions\", \"openalex_french_raw_affiliations\"])\n",
    "  for error in errors:\n",
    "    writer.writerow(error)"
   ]
  },
  {
   "cell_type": "code",
   "execution_count": null,
   "metadata": {},
   "outputs": [],
   "source": [
    "with open(\"doi_error_reason.csv\", newline='') as csvfile:\n",
    "  rows = csv.reader(csvfile)\n",
    "  # Skip headers\n",
    "  next(rows, None)\n",
    "  for row in rows:\n",
    "    openalex_french_raw_affiliations = row[-1]\n",
    "    countries = []\n",
    "    for openalex_french_raw_affiliation in eval(openalex_french_raw_affiliations):\n",
    "      r = requests.post(\"https://affiliation-matcher.staging.dataesr.ovh/match\", json={ \"type\": \"country\", \"year\": \"2022\", \"verbose\": True, \"query\": openalex_french_raw_affiliation })\n",
    "      countries.append(r.json().get(\"results\", []))\n",
    "    countries = [j for sub in countries for j in sub]\n",
    "    countries = list(set(countries))\n",
    "    print(countries)"
   ]
  },
  {
   "cell_type": "code",
   "execution_count": null,
   "metadata": {},
   "outputs": [],
   "source": [
    "data = []\n",
    "for error in errors:\n",
    "  affiliation_matcher_countries_affiliations = []\n",
    "  for openalex_affiliation in error.get(\"openalex_affiliations\", []):\n",
    "    r = requests.post(\"https://affiliation-matcher.staging.dataesr.ovh/match\", json={ \"type\": \"country\", \"year\": \"2022\", \"verbose\": True, \"query\": openalex_affiliation })\n",
    "    affiliation_matcher_countries_affiliations += r.json().get(\"results\", [])\n",
    "  affiliation_matcher_countries_affiliations = list(set(affiliation_matcher_countries_affiliations))\n",
    "  affiliation_matcher_countries_institutions = []\n",
    "  for openalex_institution in error.get(\"openalex_institutions\", []):\n",
    "    r = requests.post(\"https://affiliation-matcher.staging.dataesr.ovh/match\", json={ \"type\": \"country\", \"query\": openalex_institution })\n",
    "    affiliation_matcher_countries_institutions += r.json().get(\"results\", [])\n",
    "  affiliation_matcher_countries_institutions = list(set(affiliation_matcher_countries_institutions))\n",
    "  is_false_positive = \"fr\" not in affiliation_matcher_countries_affiliations\n",
    "  data.append({\n",
    "    \"doi\": error.get(\"doi\"),\n",
    "    \"openalex_institutions\": error.get(\"openalex_institutions\"),\n",
    "    \"openalex_affiliations\": error.get(\"openalex_affiliations\"),\n",
    "    \"affiliation_matcher_countries_affiliations\": affiliation_matcher_countries_affiliations,\n",
    "    \"affiliation_matcher_countries_institutions\": affiliation_matcher_countries_institutions,\n",
    "    \"is_false_positive\": is_false_positive\n",
    "  })\n",
    "with open(\"data_file.json\", \"w\") as jsonfile:\n",
    "    json.dump(data, jsonfile, indent=4)\n",
    "print(len(data))\n",
    "print(len([d for d in data if d.get(\"is_false_positive\")]))"
   ]
  }
 ],
 "metadata": {
  "kernelspec": {
   "display_name": "Python 3",
   "language": "python",
   "name": "python3"
  },
  "language_info": {
   "codemirror_mode": {
    "name": "ipython",
    "version": 3
   },
   "file_extension": ".py",
   "mimetype": "text/x-python",
   "name": "python",
   "nbconvert_exporter": "python",
   "pygments_lexer": "ipython3",
   "version": "3.10.12"
  },
  "orig_nbformat": 4
 },
 "nbformat": 4,
 "nbformat_minor": 2
}
