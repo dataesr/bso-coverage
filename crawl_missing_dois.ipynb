{
 "cells": [
  {
   "cell_type": "code",
   "execution_count": null,
   "metadata": {},
   "outputs": [],
   "source": [
    "import csv\n",
    "from dotenv import load_dotenv\n",
    "import os\n",
    "import requests"
   ]
  },
  {
   "cell_type": "code",
   "execution_count": null,
   "metadata": {},
   "outputs": [],
   "source": [
    "load_dotenv()\n",
    "\n",
    "URL_UPW = os.getenv(\"URL_UPW\")"
   ]
  },
  {
   "cell_type": "code",
   "execution_count": null,
   "metadata": {},
   "outputs": [],
   "source": [
    "with open(\"output/doi_of_publications_from_openalex_missing_in_fosm_from_2021.csv\", newline='') as csvfile:\n",
    "  rows = csv.reader(csvfile)\n",
    "  dois = [row[0] for row in rows]\n",
    "  list = []\n",
    "  for doi in dois:\n",
    "    url = f\"http://doi.org/{doi}\"\n",
    "    unpaywall_url = f\"https://api.unpaywall.org/v2/{doi}?email=bso@recherche.gouv.fr\"\n",
    "    unpaywall_response = requests.get(unpaywall_url)\n",
    "    if unpaywall_response.status_code != 200:\n",
    "      print(f\"error while fetching data from unpaywall for DOI {doi}\")\n",
    "      continue\n",
    "    title = unpaywall_response.json().get(\"title\")\n",
    "    if not title:\n",
    "      print(f\"unpaywall has no title for DOI {doi}\")\n",
    "      continue\n",
    "    if len(title) == 0:\n",
    "      print(f\"title is empty string on unpaywall for DOI {doi}\")\n",
    "      continue\n",
    "    list.append({ \"url\": url, \"title\": title })\n",
    "\n",
    "requests.post(f\"{URL_UPW}/forward\", json={ \"url\": \"http://crawler:5001/crawl\", \"params\": {\"list\": list } })"
   ]
  }
 ],
 "metadata": {
  "kernelspec": {
   "display_name": "venv",
   "language": "python",
   "name": "python3"
  },
  "language_info": {
   "codemirror_mode": {
    "name": "ipython",
    "version": 3
   },
   "file_extension": ".py",
   "mimetype": "text/x-python",
   "name": "python",
   "nbconvert_exporter": "python",
   "pygments_lexer": "ipython3",
   "version": "3.10.12"
  },
  "orig_nbformat": 4
 },
 "nbformat": 4,
 "nbformat_minor": 2
}
