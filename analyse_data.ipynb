{
 "cells": [
  {
   "cell_type": "code",
   "execution_count": null,
   "metadata": {},
   "outputs": [],
   "source": [
    "import matplotlib.pyplot as plt\n",
    "import pymongo"
   ]
  },
  {
   "cell_type": "code",
   "execution_count": null,
   "metadata": {},
   "outputs": [],
   "source": [
    "MONGO_DB = \"bsocoverage\"\n",
    "MONGO_COLLECTION = \"publications\""
   ]
  },
  {
   "cell_type": "code",
   "execution_count": null,
   "metadata": {},
   "outputs": [],
   "source": [
    "mongo_database = pymongo.MongoClient()[MONGO_DB]\n",
    "mongo_collection = mongo_database[MONGO_COLLECTION]"
   ]
  },
  {
   "cell_type": "code",
   "execution_count": null,
   "metadata": {},
   "outputs": [],
   "source": [
    "# Total in database\n",
    "total_count = mongo_collection.count_documents({})\n",
    "print(f\"Total count : {total_count}\")\n",
    "# FOSM\n",
    "total_fosm = mongo_collection.count_documents({\"is_in_fosm\": True})\n",
    "total_fosm_percent = (total_fosm / total_count) * 100\n",
    "print(\n",
    "    f\"Total FOSM : {total_fosm} (i.e. {total_fosm_percent:.0f} % of the total)\")\n",
    "# OpenAlex\n",
    "total_openalex = mongo_collection.count_documents({\"is_in_openalex\": True})\n",
    "total_openalex_percent = (total_openalex / total_count) * 100\n",
    "print(\n",
    "    f\"Total OpenAlex : {total_openalex} (i.e. {total_openalex_percent:.0f} % of the total)\")\n",
    "# In FOSM and in OpenAlex\n",
    "total_fosm_openalex = mongo_collection.count_documents(\n",
    "    {\"is_in_fosm\": True, \"is_in_openalex\": True})\n",
    "total_fosm_openalex_percent = (total_fosm_openalex / total_count) * 100\n",
    "print(\n",
    "    f\"Total FOSM and OpenAlex : {total_fosm_openalex} (i.e. {total_fosm_openalex_percent:.0f} % of the total)\")"
   ]
  },
  {
   "cell_type": "code",
   "execution_count": null,
   "metadata": {},
   "outputs": [],
   "source": [
    "agg_results = mongo_collection.aggregate([\n",
    "    {\"$match\": {\"is_in_openalex\": True, \"is_in_fosm\": {\"$exists\": False}}},\n",
    "    {\"$group\": {\"_id\": \"$year\", \"count\": {\"$sum\": 1}}},\n",
    "    {\"$sort\": {\"_id\": 1}}\n",
    "])\n",
    "agg_results = [d for d in agg_results]\n",
    "print(agg_results)"
   ]
  },
  {
   "cell_type": "code",
   "execution_count": null,
   "metadata": {},
   "outputs": [],
   "source": [
    "fig = plt.figure()\n",
    "ax = fig.add_axes([0, 0, 1, 1])\n",
    "labels = [f\"{d.get('_id')} ({d.get('count')})\" for d in agg_results]\n",
    "print([d for d in agg_results])\n",
    "count = [d.get(\"count\") for d in agg_results]\n",
    "ax.bar(labels, count)\n",
    "plt.xticks(rotation=90)\n",
    "plt.savefig(\"repartition_by_year_of_publications_from_openalex_missing_in_fosm.png\", bbox_inches='tight')\n",
    "plt.show()"
   ]
  }
 ],
 "metadata": {
  "kernelspec": {
   "display_name": "venv",
   "language": "python",
   "name": "python3"
  },
  "language_info": {
   "codemirror_mode": {
    "name": "ipython",
    "version": 3
   },
   "file_extension": ".py",
   "mimetype": "text/x-python",
   "name": "python",
   "nbconvert_exporter": "python",
   "pygments_lexer": "ipython3",
   "version": "3.10.12"
  },
  "orig_nbformat": 4
 },
 "nbformat": 4,
 "nbformat_minor": 2
}
