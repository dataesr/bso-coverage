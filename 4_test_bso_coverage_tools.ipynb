{
 "cells": [
  {
   "cell_type": "code",
   "execution_count": 36,
   "metadata": {},
   "outputs": [
    {
     "name": "stdout",
     "output_type": "stream",
     "text": [
      "The autoreload extension is already loaded. To reload it, use:\n",
      "  %reload_ext autoreload\n"
     ]
    }
   ],
   "source": [
    "import pandas as pd\n",
    "import bso_coverage_tools as bct\n",
    "from pprint import pprint\n",
    "import seaborn as sns\n",
    "import requests\n",
    "sns.set_theme(palette=\"pastel\")\n",
    "%load_ext autoreload\n",
    "%autoreload 2"
   ]
  },
  {
   "cell_type": "code",
   "execution_count": 3,
   "metadata": {},
   "outputs": [],
   "source": [
    "test_df = pd.read_csv(\"output/150_doi_of_publications_from_openalex_missing_in_bso.csv\", index_col=[0])\n",
    "elsevier_df = pd.read_json(\"output/elsevier_doi_of_publications_from_openalex_missing_in_bso.json\")"
   ]
  },
  {
   "cell_type": "code",
   "execution_count": null,
   "metadata": {},
   "outputs": [],
   "source": [
    "elsevier_df.head()"
   ]
  },
  {
   "cell_type": "code",
   "execution_count": 55,
   "metadata": {},
   "outputs": [
    {
     "data": {
      "text/html": [
       "<div>\n",
       "<style scoped>\n",
       "    .dataframe tbody tr th:only-of-type {\n",
       "        vertical-align: middle;\n",
       "    }\n",
       "\n",
       "    .dataframe tbody tr th {\n",
       "        vertical-align: top;\n",
       "    }\n",
       "\n",
       "    .dataframe thead th {\n",
       "        text-align: right;\n",
       "    }\n",
       "</style>\n",
       "<table border=\"1\" class=\"dataframe\">\n",
       "  <thead>\n",
       "    <tr style=\"text-align: right;\">\n",
       "      <th></th>\n",
       "      <th>index</th>\n",
       "      <th>doi</th>\n",
       "      <th>last_state</th>\n",
       "      <th>last_error</th>\n",
       "      <th>last_error_data</th>\n",
       "    </tr>\n",
       "  </thead>\n",
       "  <tbody>\n",
       "    <tr>\n",
       "      <th>0</th>\n",
       "      <td>100</td>\n",
       "      <td>10.1016/j.annonc.2021.09.019</td>\n",
       "      <td>IN_FOSM_FR</td>\n",
       "      <td>MISMATCH_TYPE</td>\n",
       "      <td>(journal-article, article)</td>\n",
       "    </tr>\n",
       "    <tr>\n",
       "      <th>1</th>\n",
       "      <td>198</td>\n",
       "      <td>10.1016/s2213-8587(21)00235-7</td>\n",
       "      <td>IN_FOSM_FR</td>\n",
       "      <td>MISMATCH_TYPE</td>\n",
       "      <td>(journal-article, article)</td>\n",
       "    </tr>\n",
       "    <tr>\n",
       "      <th>2</th>\n",
       "      <td>229</td>\n",
       "      <td>10.1016/s0140-6736(21)01960-7</td>\n",
       "      <td>IN_FOSM_FR</td>\n",
       "      <td>MISMATCH_TYPE</td>\n",
       "      <td>(journal-article, article)</td>\n",
       "    </tr>\n",
       "    <tr>\n",
       "      <th>3</th>\n",
       "      <td>239</td>\n",
       "      <td>10.1074/jbc</td>\n",
       "      <td>DOI_FOUND</td>\n",
       "      <td>DOI_NO_PUBLICATION_YEAR</td>\n",
       "      <td>None</td>\n",
       "    </tr>\n",
       "    <tr>\n",
       "      <th>4</th>\n",
       "      <td>251</td>\n",
       "      <td>10.1016/j.ijhm.2020.102723</td>\n",
       "      <td>IN_FOSM_FR</td>\n",
       "      <td>MISMATCH_TYPE</td>\n",
       "      <td>(journal-article, article)</td>\n",
       "    </tr>\n",
       "  </tbody>\n",
       "</table>\n",
       "</div>"
      ],
      "text/plain": [
       "   index                            doi  last_state               last_error  \\\n",
       "0    100   10.1016/j.annonc.2021.09.019  IN_FOSM_FR            MISMATCH_TYPE   \n",
       "1    198  10.1016/s2213-8587(21)00235-7  IN_FOSM_FR            MISMATCH_TYPE   \n",
       "2    229  10.1016/s0140-6736(21)01960-7  IN_FOSM_FR            MISMATCH_TYPE   \n",
       "3    239                    10.1074/jbc   DOI_FOUND  DOI_NO_PUBLICATION_YEAR   \n",
       "4    251     10.1016/j.ijhm.2020.102723  IN_FOSM_FR            MISMATCH_TYPE   \n",
       "\n",
       "              last_error_data  \n",
       "0  (journal-article, article)  \n",
       "1  (journal-article, article)  \n",
       "2  (journal-article, article)  \n",
       "3                        None  \n",
       "4  (journal-article, article)  "
      ]
     },
     "metadata": {},
     "output_type": "display_data"
    }
   ],
   "source": [
    "res = bct.analyse_from_openalex(elsevier_df.head(5), cli=False)\n",
    "display(res)"
   ]
  },
  {
   "cell_type": "code",
   "execution_count": 17,
   "metadata": {},
   "outputs": [
    {
     "data": {
      "text/plain": [
       "<Axes: xlabel='count', ylabel='last_state'>"
      ]
     },
     "execution_count": 17,
     "metadata": {},
     "output_type": "execute_result"
    },
    {
     "data": {
      "image/png": "[encoded data removed]",
      "text/plain": [
       "<Figure size 640x480 with 1 Axes>"
      ]
     },
     "metadata": {},
     "output_type": "display_data"
    }
   ],
   "source": [
    "sns.countplot(res, y=\"last_state\", hue=\"last_state\")"
   ]
  },
  {
   "cell_type": "code",
   "execution_count": 36,
   "metadata": {},
   "outputs": [],
   "source": [
    "test_doi = \"10.1016/j.euf.2020.10.008\""
   ]
  },
  {
   "cell_type": "code",
   "execution_count": 53,
   "metadata": {},
   "outputs": [],
   "source": [
    "res = bct.analyse_from_dois([test_doi, \"10.1074/jbc\"], cli=False)"
   ]
  },
  {
   "cell_type": "code",
   "execution_count": 54,
   "metadata": {},
   "outputs": [
    {
     "data": {
      "text/html": [
       "<div>\n",
       "<style scoped>\n",
       "    .dataframe tbody tr th:only-of-type {\n",
       "        vertical-align: middle;\n",
       "    }\n",
       "\n",
       "    .dataframe tbody tr th {\n",
       "        vertical-align: top;\n",
       "    }\n",
       "\n",
       "    .dataframe thead th {\n",
       "        text-align: right;\n",
       "    }\n",
       "</style>\n",
       "<table border=\"1\" class=\"dataframe\">\n",
       "  <thead>\n",
       "    <tr style=\"text-align: right;\">\n",
       "      <th></th>\n",
       "      <th>index</th>\n",
       "      <th>doi</th>\n",
       "      <th>last_state</th>\n",
       "      <th>last_error</th>\n",
       "      <th>last_error_data</th>\n",
       "    </tr>\n",
       "  </thead>\n",
       "  <tbody>\n",
       "    <tr>\n",
       "      <th>0</th>\n",
       "      <td>0</td>\n",
       "      <td>10.1016/j.euf.2020.10.008</td>\n",
       "      <td>IN_FOSM_FR</td>\n",
       "      <td>MISMATCH_TYPE</td>\n",
       "      <td>(journal-article, article)</td>\n",
       "    </tr>\n",
       "    <tr>\n",
       "      <th>1</th>\n",
       "      <td>1</td>\n",
       "      <td>10.1074/jbc</td>\n",
       "      <td>DOI_FOUND</td>\n",
       "      <td>DOI_NO_PUBLICATION_YEAR</td>\n",
       "      <td>None</td>\n",
       "    </tr>\n",
       "  </tbody>\n",
       "</table>\n",
       "</div>"
      ],
      "text/plain": [
       "   index                        doi  last_state               last_error  \\\n",
       "0      0  10.1016/j.euf.2020.10.008  IN_FOSM_FR            MISMATCH_TYPE   \n",
       "1      1                10.1074/jbc   DOI_FOUND  DOI_NO_PUBLICATION_YEAR   \n",
       "\n",
       "              last_error_data  \n",
       "0  (journal-article, article)  \n",
       "1                        None  "
      ]
     },
     "execution_count": 54,
     "metadata": {},
     "output_type": "execute_result"
    }
   ],
   "source": [
    "res"
   ]
  }
 ],
 "metadata": {
  "kernelspec": {
   "display_name": "Python 3",
   "language": "python",
   "name": "python3"
  },
  "language_info": {
   "codemirror_mode": {
    "name": "ipython",
    "version": 3
   },
   "file_extension": ".py",
   "mimetype": "text/x-python",
   "name": "python",
   "nbconvert_exporter": "python",
   "pygments_lexer": "ipython3",
   "version": "3.11.5"
  },
  "orig_nbformat": 4
 },
 "nbformat": 4,
 "nbformat_minor": 2
}
