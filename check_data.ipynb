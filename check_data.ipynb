{
 "cells": [
  {
   "cell_type": "code",
   "execution_count": null,
   "metadata": {},
   "outputs": [],
   "source": [
    "import pymongo"
   ]
  },
  {
   "cell_type": "code",
   "execution_count": null,
   "metadata": {},
   "outputs": [],
   "source": [
    "MONGO_DB = \"bsocoverage\"\n",
    "MONGO_COLLECTION = \"publications\""
   ]
  },
  {
   "cell_type": "code",
   "execution_count": null,
   "metadata": {},
   "outputs": [],
   "source": [
    "mongo_database = pymongo.MongoClient()[MONGO_DB]\n",
    "mongo_collection = mongo_database[MONGO_COLLECTION]"
   ]
  },
  {
   "cell_type": "code",
   "execution_count": null,
   "metadata": {},
   "outputs": [],
   "source": [
    "# Check publication year consistency accross FOSM and OpenAlex\n",
    "print('id,year_fosm,year_openalex')\n",
    "for publication in mongo_collection.find():\n",
    "    if publication.get(\"year_fosm\") and publication.get(\"year_openalex\") and publication.get(\"year_fosm\") != publication.get(\"year_openalex\"):\n",
    "        print(f\"{publication.get('id')},{publication.get('year_fosm')},{publication.get('year_openalex')}\")\n",
    "# See errors in errors_publication_year.csv"
   ]
  },
  {
   "cell_type": "code",
   "execution_count": null,
   "metadata": {},
   "outputs": [],
   "source": [
    "actions = []\n",
    "for publication in mongo_collection.find():\n",
    "  if publication.get(\"year_fosm\"):\n",
    "    actions.append(pymongo.UpdateOne({ \"id\": publication.get(\"id\") }, { \"$set\": { \"year\": publication.get(\"year_fosm\") } }, upsert=True))\n",
    "  elif publication.get(\"year_openalex\"):\n",
    "    actions.append(pymongo.UpdateOne({ \"id\": publication.get(\"id\") }, { \"$set\": { \"year\": publication.get(\"year_openalex\") } }, upsert=True))\n",
    "if len(actions) > 0:\n",
    "  mongo_collection.bulk_write(actions, ordered=False)"
   ]
  }
 ],
 "metadata": {
  "kernelspec": {
   "display_name": "venv",
   "language": "python",
   "name": "python3"
  },
  "language_info": {
   "codemirror_mode": {
    "name": "ipython",
    "version": 3
   },
   "file_extension": ".py",
   "mimetype": "text/x-python",
   "name": "python",
   "nbconvert_exporter": "python",
   "pygments_lexer": "ipython3",
   "version": "3.10.12"
  },
  "orig_nbformat": 4
 },
 "nbformat": 4,
 "nbformat_minor": 2
}
