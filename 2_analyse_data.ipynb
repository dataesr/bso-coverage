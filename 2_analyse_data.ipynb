{
   "cells": [
      {
         "cell_type": "code",
         "execution_count": null,
         "metadata": {},
         "outputs": [],
         "source": [
            "import csv\n",
            "from dotenv import load_dotenv\n",
            "import matplotlib.pyplot as plt\n",
            "import os\n",
            "import pymongo"
         ]
      },
      {
         "cell_type": "code",
         "execution_count": null,
         "metadata": {},
         "outputs": [],
         "source": [
            "load_dotenv()\n",
            "\n",
            "MONGO_DB=\"bsocoverage\"\n",
            "MONGO_COLLECTION=\"publications\"\n",
            "\n",
            "# Access the environment variables from the .env file\n",
            "MONGO_URI=os.getenv(\"MONGO_URI\", \"mongodb://localhost:27017/\")"
         ]
      },
      {
         "cell_type": "code",
         "execution_count": null,
         "metadata": {},
         "outputs": [],
         "source": [
            "mongo_database = pymongo.MongoClient(MONGO_URI)[MONGO_DB]\n",
            "mongo_collection = mongo_database[MONGO_COLLECTION]"
         ]
      },
      {
         "cell_type": "code",
         "execution_count": 21,
         "metadata": {},
         "outputs": [],
         "source": [
            "# Total in database\n",
            "total_count = mongo_collection.count_documents({})\n",
            "print(f\"Total count : {total_count}\")\n",
            "# FOSM\n",
            "total_fosm = mongo_collection.count_documents({\"is_in_fosm\": True})\n",
            "total_fosm_percent = (total_fosm / total_count) * 100\n",
            "print(\n",
            "    f\"Total FOSM : {total_fosm} (i.e. {total_fosm_percent:.0f} % of the total)\")\n",
            "# OpenAlex\n",
            "total_openalex = mongo_collection.count_documents({\"is_in_openalex\": True})\n",
            "total_openalex_percent = (total_openalex / total_count) * 100\n",
            "print(\n",
            "    f\"Total OpenAlex : {total_openalex} (i.e. {total_openalex_percent:.0f} % of the total)\")\n",
            "# In FOSM and in OpenAlex\n",
            "total_fosm_openalex = mongo_collection.count_documents(\n",
            "    {\"is_in_fosm\": True, \"is_in_openalex\": True})\n",
            "total_fosm_openalex_percent = (total_fosm_openalex / total_count) * 100\n",
            "print(\n",
            "    f\"Total FOSM and OpenAlex : {total_fosm_openalex} (i.e. {total_fosm_openalex_percent:.0f} % of the total)\")"
         ]
      },
      {
         "cell_type": "code",
         "execution_count": 23,
         "metadata": {},
         "outputs": [],
         "source": [
            "# Repartition by year of publications\n",
            "agg_results = mongo_collection.aggregate([\n",
            "    {\"$match\": {\"is_in_openalex\": True, \"is_in_fosm\": {\"$exists\": False}}},\n",
            "    {\"$group\": {\"_id\": \"$openalex.publication_year\", \"count\": {\"$sum\": 1}}},\n",
            "    {\"$sort\": {\"_id\": 1}}\n",
            "])\n",
            "agg_results = [d for d in agg_results]\n",
            "fig = plt.figure()\n",
            "ax = fig.add_axes([0, 0, 1, 1])\n",
            "labels = [f\"{d.get('_id')} ({d.get('count')})\" for d in agg_results]\n",
            "count = [d.get(\"count\") for d in agg_results]\n",
            "ax.bar(labels, count)\n",
            "plt.xticks(rotation=90)\n",
            "plt.savefig(\"output/repartition_by_year_of_publications_from_openalex_missing_in_fosm.png\", bbox_inches='tight')\n",
            "plt.show()"
         ]
      },
      {
         "cell_type": "code",
         "execution_count": 24,
         "metadata": {},
         "outputs": [],
         "source": [
            "# List errors about publication year consistency accross FOSM and OpenAlex\n",
            "with open(\"output/errors_publication_year.csv\", \"w\", encoding=\"UTF8\") as f:\n",
            "    writer = csv.writer(f)\n",
            "    writer.writerow([\"id\", \"year_fosm\", \"year_openalex\"])\n",
            "    for publication in mongo_collection.find():\n",
            "        if publication.get(\"year_fosm\") and publication.get(\"year_openalex\") and publication.get(\"year_fosm\") != publication.get(\"year_openalex\"):\n",
            "            writer.writerow([publication.get('id'), publication.get('year_fosm'), publication.get('year_openalex')])"
         ]
      },
      {
         "cell_type": "code",
         "execution_count": null,
         "metadata": {},
         "outputs": [],
         "source": [
            "# List 200 DOI from 2021 existing in OpenAlex but missing in FOSM\n",
            "results = mongo_collection.find({ \"is_in_openalex\": True, \"is_in_fosm\": { \"$exists\": False }, \"year\": 2021 }).limit(200)\n",
            "with open(\"output/200_doi_of_publications_from_openalex_missing_in_fosm_from_2021.csv\", \"w\", encoding=\"UTF8\") as f:\n",
            "  writer = csv.writer(f)\n",
            "  writer.writerow([\"doi\"])\n",
            "  for result in results:\n",
            "    writer.writerow([result.get(\"id\")])"
         ]
      }
   ],
   "metadata": {
      "kernelspec": {
         "display_name": "venv",
         "language": "python",
         "name": "python3"
      },
      "language_info": {
         "codemirror_mode": {
            "name": "ipython",
            "version": 3
         },
         "file_extension": ".py",
         "mimetype": "text/x-python",
         "name": "python",
         "nbconvert_exporter": "python",
         "pygments_lexer": "ipython3",
         "version": "3.10.12"
      },
      "orig_nbformat": 4
   },
   "nbformat": 4,
   "nbformat_minor": 2
}