{
 "cells": [
  {
   "cell_type": "code",
   "execution_count": null,
   "metadata": {},
   "outputs": [],
   "source": [
    "from dotenv import load_dotenv\n",
    "import os\n",
    "import pymongo\n",
    "import requests"
   ]
  },
  {
   "cell_type": "code",
   "execution_count": null,
   "metadata": {},
   "outputs": [],
   "source": [
    "FOSM_BASE_URL = \"https://cluster.elasticsearch.dataesr.ovh\"\n",
    "FOSM_INDEX = \"bso-publications-20230728\"\n",
    "FOSM_LIMIT = 0  # Set to 0 for no limit\n",
    "FOSM_PAGE_SIZE = 10000  # Maximum is 10000\n",
    "MONGO_DB = \"bsocoverage\"\n",
    "MONGO_COLLECTION = \"publications\"\n",
    "OA_LIMIT = 0  # Set to 0 for no limit\n",
    "OA_MAX_RETRY = 5\n",
    "OA_PAGE_SIZE = 200  # Maximum is 200\n",
    "\n",
    "# Access the environment variables from the .env file\n",
    "FOSM_AUTHORIZATION=os.environ.get(\"FOSM_AUTHORIZATION\")\n",
    "OA_API_KEY=os.environ.get(\"OA_API_KEY\")"
   ]
  },
  {
   "cell_type": "code",
   "execution_count": null,
   "metadata": {},
   "outputs": [],
   "source": [
    "mongo_database = pymongo.MongoClient()[MONGO_DB]\n",
    "mongo_collection = mongo_database[MONGO_COLLECTION]\n",
    "# mongo_collection.drop()\n",
    "# mongo_collection.create_index([(\"doi\", pymongo.ASCENDING)], unique=True)"
   ]
  },
  {
   "cell_type": "code",
   "execution_count": null,
   "metadata": {},
   "outputs": [],
   "source": [
    "# Number of publications in French OSM\n",
    "r = requests.get(\"/\".join([FOSM_BASE_URL, FOSM_INDEX, \"_count\"]),\n",
    "                 headers={\"Authorization\": f\"Basic {FOSM_AUTHORIZATION}\"})\n",
    "fosm_total_count = r.json().get(\"count\")\n",
    "fosm_total_count"
   ]
  },
  {
   "cell_type": "code",
   "execution_count": null,
   "metadata": {},
   "outputs": [],
   "source": [
    "# Number of publications with DOI in French OSM\n",
    "r = requests.get(\"/\".join([FOSM_BASE_URL, FOSM_INDEX, \"_count?q=doi:*\"]),\n",
    "                 headers={\"Authorization\": f\"Basic {FOSM_AUTHORIZATION}\"})\n",
    "fosm_doi_count = r.json().get(\"count\")\n",
    "fosm_doi_count"
   ]
  },
  {
   "cell_type": "code",
   "execution_count": null,
   "metadata": {},
   "outputs": [],
   "source": [
    "def get_fosm_publications(pit, total_results_count, search_after=None):\n",
    "    json = {\"size\": FOSM_PAGE_SIZE, \"query\": {\"exists\": {\"field\": \"doi\"}},\n",
    "            \"pit\": {\"id\":  pit, \"keep_alive\": \"1m\"}, \"sort\": [\"_doc\"]}\n",
    "    if search_after:\n",
    "        json[\"search_after\"] = search_after\n",
    "        json[\"track_total_hits\"] = False\n",
    "    r = requests.get(\"/\".join([FOSM_BASE_URL, \"_search\"]),\n",
    "                     headers={\"Authorization\": f\"Basic {FOSM_AUTHORIZATION}\"}, json=json)\n",
    "    response = r.json()\n",
    "    results = response.get(\"hits\").get(\"hits\")\n",
    "    actions = []\n",
    "    for publication in results:\n",
    "        doi = publication.get(\"_source\").get(\"doi\")\n",
    "        publication = {\n",
    "            \"all_ids\": publication.get(\"_source\").get(\"external_ids\"),\n",
    "            \"doi\": doi,\n",
    "            \"is_in_fosm\": True,\n",
    "        }\n",
    "        actions.append(pymongo.UpdateOne(\n",
    "            {\"doi\": doi}, {\"$set\": publication}, upsert=True))\n",
    "    mongo_collection.bulk_write(actions, ordered=False)\n",
    "    total_results_count += len(results)\n",
    "    search_after = results[len(results) - 1].get(\"sort\")\n",
    "    next_pit = response.get(\"pit_id\")\n",
    "    del json\n",
    "    del r\n",
    "    del response\n",
    "    del results\n",
    "    del actions\n",
    "    print('{:.0f} %'.format((total_results_count / fosm_doi_count) * 100))\n",
    "    if FOSM_LIMIT == 0 or total_results_count < FOSM_LIMIT:\n",
    "        return get_fosm_publications(next_pit, total_results_count, search_after)\n",
    "    else:\n",
    "        return total_results_count"
   ]
  },
  {
   "cell_type": "code",
   "execution_count": null,
   "metadata": {},
   "outputs": [],
   "source": [
    "# Get Point In Time\n",
    "r = requests.post(\"/\".join([FOSM_BASE_URL, FOSM_INDEX, \"_pit?keep_alive=1m\"]),\n",
    "                  headers={\"Authorization\": f\"Basic {FOSM_AUTHORIZATION}\"})\n",
    "pit = r.json().get(\"id\")\n",
    "# Collect all publications with DOI in French OSM\n",
    "fosm_publications = get_fosm_publications(pit, 0)\n",
    "print(fosm_publications)\n",
    "# Delete Point In Time\n",
    "r = requests.delete(\"/\".join([FOSM_BASE_URL, \"_pit\"]), headers={\"Authorization\": f\"Basic {FOSM_AUTHORIZATION}\"}, json={\"id\": pit})"
   ]
  },
  {
   "cell_type": "code",
   "execution_count": null,
   "metadata": {},
   "outputs": [],
   "source": [
    "# Number of French publications in OpenAlex\n",
    "r = requests.get(\n",
    "    f\"https://api.openalex.org/works?filter=institutions.country_code:FR&api_key={OA_API_KEY}\")\n",
    "openalex_total_count = r.json().get(\"meta\").get(\"count\")\n",
    "openalex_total_count"
   ]
  },
  {
   "cell_type": "code",
   "execution_count": null,
   "metadata": {},
   "outputs": [],
   "source": [
    "def get_openalex_publications(cursor, total_results_count, retry_count):\n",
    "    try:\n",
    "        print(f\"{total_results_count} {cursor}\")\n",
    "        r = requests.get(\n",
    "            f\"https://api.openalex.org/works?filter=institutions.country_code:FR&per-page={OA_PAGE_SIZE}&api_key={OA_API_KEY}&cursor={cursor}\")\n",
    "        response = r.json()\n",
    "        results = response.get(\"results\")\n",
    "        actions = []\n",
    "        for publication in results:\n",
    "            doi = publication.get(\"doi\")\n",
    "            if doi:\n",
    "                doi = doi.replace(\"https://doi.org/\", \"\")\n",
    "                publication = {\n",
    "                    \"all_ids\": [{\"id_type\": k, \"id_value\": v} for k, v in publication.get(\"ids\").items()],\n",
    "                    \"doi\": doi,\n",
    "                    \"is_in_openalex\": True,\n",
    "                }\n",
    "                actions.append(pymongo.UpdateOne(\n",
    "                    {\"doi\": doi}, {\"$set\": publication}, upsert=True))\n",
    "        mongo_collection.bulk_write(actions, ordered=False)\n",
    "        results_count = len(results)\n",
    "        total_results_count += results_count\n",
    "        next_cursor = response.get(\"meta\").get(\"next_cursor\")\n",
    "        del r\n",
    "        del response\n",
    "        del results\n",
    "        del actions\n",
    "        # print('{:.0f} %'.format((total_results_count / openalex_total_count) * 100))\n",
    "        if next_cursor is not None and results_count > 0 and (OA_LIMIT == 0 or len(total_results_count) < OA_LIMIT):\n",
    "            return get_openalex_publications(next_cursor, total_results_count, retry_count)\n",
    "        else:\n",
    "            return total_results_count\n",
    "    except Exception as e:\n",
    "        print('error')\n",
    "        if hasattr(e, 'message'):\n",
    "            print(e.message)\n",
    "        else:\n",
    "            print(e)\n",
    "        if retry_count < OA_MAX_RETRY:\n",
    "            retry_count = retry_count + 1\n",
    "            return get_openalex_publications(cursor, total_results_count, retry_count)\n",
    "        else:\n",
    "            print(\"Too many retries\")"
   ]
  },
  {
   "cell_type": "code",
   "execution_count": null,
   "metadata": {},
   "outputs": [],
   "source": [
    "# Collect all French publications with DOI in OpenAlex\n",
    "openalex_publications = get_openalex_publications(\"*\", 0, 0)\n",
    "openalex_publications"
   ]
  }
 ],
 "metadata": {
  "kernelspec": {
   "display_name": "Python 3 (ipykernel)",
   "language": "python",
   "name": "python3"
  },
  "language_info": {
   "codemirror_mode": {
    "name": "ipython",
    "version": 3
   },
   "file_extension": ".py",
   "mimetype": "text/x-python",
   "name": "python",
   "nbconvert_exporter": "python",
   "pygments_lexer": "ipython3",
   "version": "3.10.12"
  }
 },
 "nbformat": 4,
 "nbformat_minor": 2
}
