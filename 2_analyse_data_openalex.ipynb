{
 "cells": [
  {
   "cell_type": "code",
   "execution_count": 1,
   "metadata": {},
   "outputs": [],
   "source": [
    "import duckdb\n",
    "import json\n",
    "import pandas as pd\n",
    "import matplotlib.pyplot as plt\n",
    "import seaborn as sns\n",
    "import plotly.graph_objects as go\n",
    "import requests\n",
    "import mercury\n",
    "sns.set_theme(palette=\"Set2\")"
   ]
  },
  {
   "cell_type": "code",
   "execution_count": 21,
   "metadata": {},
   "outputs": [
    {
     "data": {
      "text/plain": [
       "<duckdb.duckdb.DuckDBPyConnection at 0x1ca46b05670>"
      ]
     },
     "execution_count": 21,
     "metadata": {},
     "output_type": "execute_result"
    }
   ],
   "source": [
    "# Merge parquet files\n",
    "duckdb.execute(\"\"\"\n",
    "COPY (SELECT * FROM 'data/openalex/*.parquet') TO 'data/openalex/openalex.parquet' (FORMAT 'parquet');\n",
    "\"\"\")"
   ]
  },
  {
   "cell_type": "code",
   "execution_count": 22,
   "metadata": {},
   "outputs": [
    {
     "data": {
      "text/html": [
       "<div>\n",
       "<style scoped>\n",
       "    .dataframe tbody tr th:only-of-type {\n",
       "        vertical-align: middle;\n",
       "    }\n",
       "\n",
       "    .dataframe tbody tr th {\n",
       "        vertical-align: top;\n",
       "    }\n",
       "\n",
       "    .dataframe thead th {\n",
       "        text-align: right;\n",
       "    }\n",
       "</style>\n",
       "<table border=\"1\" class=\"dataframe\">\n",
       "  <thead>\n",
       "    <tr style=\"text-align: right;\">\n",
       "      <th></th>\n",
       "      <th>id</th>\n",
       "      <th>doi</th>\n",
       "      <th>year</th>\n",
       "      <th>type</th>\n",
       "      <th>type_crossref</th>\n",
       "      <th>institutions</th>\n",
       "      <th>countries</th>\n",
       "      <th>primary_location</th>\n",
       "      <th>is_oa</th>\n",
       "      <th>coverage.last_state</th>\n",
       "      <th>coverage.last_error</th>\n",
       "      <th>coverage.last_error_data</th>\n",
       "    </tr>\n",
       "  </thead>\n",
       "  <tbody>\n",
       "    <tr>\n",
       "      <th>0</th>\n",
       "      <td>https://openalex.org/W3103145119</td>\n",
       "      <td>https://doi.org/10.1038/s41592-019-0686-2</td>\n",
       "      <td>2020</td>\n",
       "      <td>article</td>\n",
       "      <td>journal-article</td>\n",
       "      <td>[Universidade Federal de Minas Gerais, Univers...</td>\n",
       "      <td>[FR, NL, AU, JP, RU, CA, FI, BR, GB, CZ, EE, US]</td>\n",
       "      <td>Nature Methods</td>\n",
       "      <td>True</td>\n",
       "      <td>IN_FOSM_FR</td>\n",
       "      <td>MISMATCH_TYPE</td>\n",
       "      <td>('journal-article', 'article')</td>\n",
       "    </tr>\n",
       "    <tr>\n",
       "      <th>1</th>\n",
       "      <td>https://openalex.org/W2970684805</td>\n",
       "      <td>https://doi.org/10.1136/bmj.l4898</td>\n",
       "      <td>2019</td>\n",
       "      <td>article</td>\n",
       "      <td>journal-article</td>\n",
       "      <td>[Cochrane, Monash University, Inserm, Harvard–...</td>\n",
       "      <td>[FR, AU, CA, GB, DK, US]</td>\n",
       "      <td>BMJ</td>\n",
       "      <td>True</td>\n",
       "      <td>IN_FOSM_FR</td>\n",
       "      <td>MISMATCH_TYPE</td>\n",
       "      <td>('journal-article', 'article')</td>\n",
       "    </tr>\n",
       "    <tr>\n",
       "      <th>2</th>\n",
       "      <td>https://openalex.org/W2798336535</td>\n",
       "      <td>https://doi.org/10.1051/0004-6361/201833051</td>\n",
       "      <td>2018</td>\n",
       "      <td>article</td>\n",
       "      <td>journal-article</td>\n",
       "      <td>[Laboratoire de Physique de l'ENS, Laboratoire...</td>\n",
       "      <td>[CN, RU, CU, AT, SE, FR, RS, IL, BR, ZA, MA, S...</td>\n",
       "      <td>Astronomy and Astrophysics</td>\n",
       "      <td>True</td>\n",
       "      <td>IN_FOSM_FR</td>\n",
       "      <td>MISMATCH_TYPE</td>\n",
       "      <td>('journal-article', 'article')</td>\n",
       "    </tr>\n",
       "    <tr>\n",
       "      <th>3</th>\n",
       "      <td>https://openalex.org/W2900756811</td>\n",
       "      <td>https://doi.org/10.1080/20013078.2018.1535750</td>\n",
       "      <td>2018</td>\n",
       "      <td>article</td>\n",
       "      <td>journal-article</td>\n",
       "      <td>[Women &amp; Infants Hospital of Rhode Island, Cas...</td>\n",
       "      <td>[TW, CN, GR, RU, MT, AT, NO, GM, IR, SI, SE, F...</td>\n",
       "      <td>Journal of extracellular vesicles</td>\n",
       "      <td>True</td>\n",
       "      <td>IN_FOSM_FR</td>\n",
       "      <td>MISMATCH_TYPE</td>\n",
       "      <td>('journal-article', 'article')</td>\n",
       "    </tr>\n",
       "    <tr>\n",
       "      <th>4</th>\n",
       "      <td>https://openalex.org/W2777074421</td>\n",
       "      <td>https://doi.org/10.1016/s1474-4422(17)30470-2</td>\n",
       "      <td>2018</td>\n",
       "      <td>article</td>\n",
       "      <td>journal-article</td>\n",
       "      <td>[University of California, San Francisco, Medi...</td>\n",
       "      <td>[DE, AR, FR, ES, NL, AU, CA, JP, AT, CH, GB, D...</td>\n",
       "      <td>Lancet Neurology</td>\n",
       "      <td>True</td>\n",
       "      <td>IN_FOSM_FR</td>\n",
       "      <td>MISMATCH_TYPE</td>\n",
       "      <td>('journal-article', 'article')</td>\n",
       "    </tr>\n",
       "  </tbody>\n",
       "</table>\n",
       "</div>"
      ],
      "text/plain": [
       "                                 id  \\\n",
       "0  https://openalex.org/W3103145119   \n",
       "1  https://openalex.org/W2970684805   \n",
       "2  https://openalex.org/W2798336535   \n",
       "3  https://openalex.org/W2900756811   \n",
       "4  https://openalex.org/W2777074421   \n",
       "\n",
       "                                             doi  year     type  \\\n",
       "0      https://doi.org/10.1038/s41592-019-0686-2  2020  article   \n",
       "1              https://doi.org/10.1136/bmj.l4898  2019  article   \n",
       "2    https://doi.org/10.1051/0004-6361/201833051  2018  article   \n",
       "3  https://doi.org/10.1080/20013078.2018.1535750  2018  article   \n",
       "4  https://doi.org/10.1016/s1474-4422(17)30470-2  2018  article   \n",
       "\n",
       "     type_crossref                                       institutions  \\\n",
       "0  journal-article  [Universidade Federal de Minas Gerais, Univers...   \n",
       "1  journal-article  [Cochrane, Monash University, Inserm, Harvard–...   \n",
       "2  journal-article  [Laboratoire de Physique de l'ENS, Laboratoire...   \n",
       "3  journal-article  [Women & Infants Hospital of Rhode Island, Cas...   \n",
       "4  journal-article  [University of California, San Francisco, Medi...   \n",
       "\n",
       "                                           countries  \\\n",
       "0   [FR, NL, AU, JP, RU, CA, FI, BR, GB, CZ, EE, US]   \n",
       "1                           [FR, AU, CA, GB, DK, US]   \n",
       "2  [CN, RU, CU, AT, SE, FR, RS, IL, BR, ZA, MA, S...   \n",
       "3  [TW, CN, GR, RU, MT, AT, NO, GM, IR, SI, SE, F...   \n",
       "4  [DE, AR, FR, ES, NL, AU, CA, JP, AT, CH, GB, D...   \n",
       "\n",
       "                    primary_location  is_oa coverage.last_state  \\\n",
       "0                     Nature Methods   True          IN_FOSM_FR   \n",
       "1                                BMJ   True          IN_FOSM_FR   \n",
       "2         Astronomy and Astrophysics   True          IN_FOSM_FR   \n",
       "3  Journal of extracellular vesicles   True          IN_FOSM_FR   \n",
       "4                   Lancet Neurology   True          IN_FOSM_FR   \n",
       "\n",
       "  coverage.last_error        coverage.last_error_data  \n",
       "0       MISMATCH_TYPE  ('journal-article', 'article')  \n",
       "1       MISMATCH_TYPE  ('journal-article', 'article')  \n",
       "2       MISMATCH_TYPE  ('journal-article', 'article')  \n",
       "3       MISMATCH_TYPE  ('journal-article', 'article')  \n",
       "4       MISMATCH_TYPE  ('journal-article', 'article')  "
      ]
     },
     "metadata": {},
     "output_type": "display_data"
    },
    {
     "name": "stdout",
     "output_type": "stream",
     "text": [
      "(127073, 12)\n"
     ]
    }
   ],
   "source": [
    "# Build dataframe\n",
    "df = pd.read_parquet(\"data/openalex/openalex.parquet\")\n",
    "display(df.head(5))\n",
    "print(df.shape)"
   ]
  },
  {
   "cell_type": "raw",
   "metadata": {},
   "source": [
    "# Tests ...\n",
    "test13 = pd.read_parquet(\"data/openalex/part_013.parquet\")\n",
    "test14 = pd.read_parquet(\"data/openalex/part_014.parquet\")\n",
    "with open(f\"data/openalex/part_013.jsonl\") as f:\n",
    "            for line in f:\n",
    "                json13 = json.loads(line)\n",
    "                break\n",
    "with open(f\"data/openalex/part_014.jsonl\") as f:\n",
    "            for line in f:\n",
    "                json14 = json.loads(line)\n",
    "                break"
   ]
  },
  {
   "cell_type": "markdown",
   "metadata": {},
   "source": [
    "# Sankey graph"
   ]
  },
  {
   "cell_type": "code",
   "execution_count": 23,
   "metadata": {},
   "outputs": [],
   "source": [
    "# Build Sankey data\n",
    "labels = [\"OpenAlex\", \"UNDEFINED\", \"DOI_FOUND\", \"CRAWLED\", \"PARSED\", \"PARSED_FR\", \"IN_FOSM\", \"IN_FOSM_FR\", \n",
    "          \"BAD_DOI\", \"DOI_NO_ACCESS\", \"DOI_NO_CROSSREF\", \"DOI_NO_UNPAYWALL\", \"DOI_NO_PUBLICATION_YEAR\",\n",
    "          \"DOI_EARLY_PUBLICATION_YEAR\", \"DOI_LATE_PUBLICATION_YEAR\", \"NOT_PARSED_FR\", \"NOT_PARSED\", \n",
    "          \"NOT_CRAWLED\", \"ALEX_DOI_NOT_FOUND\", \"ALEX_AUTHORSHIPS_NOT_FOUND\", \"ALEX_YEAR_NOT_FOUND\", \n",
    "          \"ALEX_TYPE_NOT_FOUND\", \"FOSM_YEAR_NOT_FOUND\", \"FOSM_TYPE_NOT_FOUND\", \"MISMATCH_YEAR\", \n",
    "          \"MISMATCH_TYPE\", \"MISMATCH_FRENCH_AFFILIATION\", \"OK\"]\n",
    "palette = [\"#d9d9d9\", \"#d9d9d9\", \"#ccebc5\", \"#fb8072\", \"#bebada\", \"#ffffb3\", \"#8dd3c7\", \"#b3de69\",\n",
    "           \"#bc80bd\", \"#bc80bd\", \"#bc80bd\", \"#bc80bd\", \"#bc80bd\",\n",
    "           \"#bc80bd\", \"#bc80bd\", \"#bebada\", \"#fb8072\",\n",
    "           \"#ccebc5\", \"#80b1d3\", \"#80b1d3\", \"#80b1d3\",\n",
    "           \"#80b1d3\", \"#ffed6f\", \"#ffed6f\", \"#fdb462\",\n",
    "           \"#fdb462\", \"#fdb462\", \"#b3de69\"]\n",
    "sources = []\n",
    "targets = []\n",
    "values = []\n",
    "colors = []"
   ]
  },
  {
   "cell_type": "code",
   "execution_count": 24,
   "metadata": {},
   "outputs": [],
   "source": [
    "# Correct journal-article / article error\n",
    "df.loc[df[\"coverage.last_error_data\"] == \"('journal-article', 'article')\", \"coverage.last_error\"] = \"OK\"\n",
    "df.loc[df[\"coverage.last_error\"] == \"OK\", \"coverage.last_error_data\"] = None\n",
    "\n",
    "# Correct doi missing error\n",
    "df.loc[df[\"doi\"].isnull(), \"coverage.last_state\"] = \"UNDEFINED\"\n",
    "df.loc[df[\"doi\"].isnull(), \"coverage.last_error\"] = \"ALEX_DOI_NOT_FOUND\""
   ]
  },
  {
   "cell_type": "code",
   "execution_count": 25,
   "metadata": {},
   "outputs": [
    {
     "name": "stdout",
     "output_type": "stream",
     "text": [
      "{'IN_FOSM_FR': 80128, 'UNDEFINED': 31206, 'PARSED_FR': 7296, 'PARSED': 5024, 'DOI_FOUND': 3271, 'CRAWLED': 89, 'IN_FOSM': 59}\n",
      "[0, 0, 0, 0, 0, 0, 0] [7, 1, 5, 4, 2, 3, 6] [80128, 31206, 7296, 5024, 3271, 89, 59]\n"
     ]
    }
   ],
   "source": [
    "# Add publications states\n",
    "states_dict = df[\"coverage.last_state\"].value_counts().to_dict()\n",
    "print(states_dict)\n",
    "for key in states_dict:\n",
    "    sources.append(labels.index(\"OpenAlex\"))\n",
    "    targets.append(labels.index(key))\n",
    "    values.append(states_dict.get(key))\n",
    "    colors.append(palette[labels.index(key)])\n",
    "\n",
    "print(sources, targets, values)"
   ]
  },
  {
   "cell_type": "code",
   "execution_count": 26,
   "metadata": {},
   "outputs": [
    {
     "data": {
      "text/html": [
       "<div>\n",
       "<style scoped>\n",
       "    .dataframe tbody tr th:only-of-type {\n",
       "        vertical-align: middle;\n",
       "    }\n",
       "\n",
       "    .dataframe tbody tr th {\n",
       "        vertical-align: top;\n",
       "    }\n",
       "\n",
       "    .dataframe thead th {\n",
       "        text-align: right;\n",
       "    }\n",
       "</style>\n",
       "<table border=\"1\" class=\"dataframe\">\n",
       "  <thead>\n",
       "    <tr style=\"text-align: right;\">\n",
       "      <th></th>\n",
       "      <th>coverage.last_state</th>\n",
       "      <th>coverage.last_error</th>\n",
       "      <th>size</th>\n",
       "    </tr>\n",
       "  </thead>\n",
       "  <tbody>\n",
       "    <tr>\n",
       "      <th>0</th>\n",
       "      <td>CRAWLED</td>\n",
       "      <td>NOT_PARSED</td>\n",
       "      <td>89</td>\n",
       "    </tr>\n",
       "    <tr>\n",
       "      <th>1</th>\n",
       "      <td>DOI_FOUND</td>\n",
       "      <td>DOI_LATE_PUBLICATION_YEAR</td>\n",
       "      <td>2072</td>\n",
       "    </tr>\n",
       "    <tr>\n",
       "      <th>2</th>\n",
       "      <td>DOI_FOUND</td>\n",
       "      <td>DOI_NO_CROSSREF</td>\n",
       "      <td>285</td>\n",
       "    </tr>\n",
       "    <tr>\n",
       "      <th>3</th>\n",
       "      <td>DOI_FOUND</td>\n",
       "      <td>DOI_NO_PUBLICATION_YEAR</td>\n",
       "      <td>29</td>\n",
       "    </tr>\n",
       "    <tr>\n",
       "      <th>4</th>\n",
       "      <td>DOI_FOUND</td>\n",
       "      <td>DOI_NO_UNPAYWALL</td>\n",
       "      <td>4</td>\n",
       "    </tr>\n",
       "    <tr>\n",
       "      <th>5</th>\n",
       "      <td>DOI_FOUND</td>\n",
       "      <td>NOT_CRAWLED</td>\n",
       "      <td>881</td>\n",
       "    </tr>\n",
       "    <tr>\n",
       "      <th>6</th>\n",
       "      <td>IN_FOSM</td>\n",
       "      <td>MISMATCH_FRENCH_AFFILIATION</td>\n",
       "      <td>30</td>\n",
       "    </tr>\n",
       "    <tr>\n",
       "      <th>7</th>\n",
       "      <td>IN_FOSM</td>\n",
       "      <td>MISMATCH_TYPE</td>\n",
       "      <td>13</td>\n",
       "    </tr>\n",
       "    <tr>\n",
       "      <th>8</th>\n",
       "      <td>IN_FOSM</td>\n",
       "      <td>OK</td>\n",
       "      <td>16</td>\n",
       "    </tr>\n",
       "    <tr>\n",
       "      <th>9</th>\n",
       "      <td>IN_FOSM_FR</td>\n",
       "      <td>MISMATCH_TYPE</td>\n",
       "      <td>5916</td>\n",
       "    </tr>\n",
       "    <tr>\n",
       "      <th>10</th>\n",
       "      <td>IN_FOSM_FR</td>\n",
       "      <td>MISMATCH_YEAR</td>\n",
       "      <td>166</td>\n",
       "    </tr>\n",
       "    <tr>\n",
       "      <th>11</th>\n",
       "      <td>IN_FOSM_FR</td>\n",
       "      <td>OK</td>\n",
       "      <td>74046</td>\n",
       "    </tr>\n",
       "    <tr>\n",
       "      <th>12</th>\n",
       "      <td>PARSED</td>\n",
       "      <td>NOT_PARSED_FR</td>\n",
       "      <td>5024</td>\n",
       "    </tr>\n",
       "    <tr>\n",
       "      <th>13</th>\n",
       "      <td>PARSED_FR</td>\n",
       "      <td>OK</td>\n",
       "      <td>7296</td>\n",
       "    </tr>\n",
       "    <tr>\n",
       "      <th>14</th>\n",
       "      <td>UNDEFINED</td>\n",
       "      <td>ALEX_DOI_NOT_FOUND</td>\n",
       "      <td>30951</td>\n",
       "    </tr>\n",
       "    <tr>\n",
       "      <th>15</th>\n",
       "      <td>UNDEFINED</td>\n",
       "      <td>DOI_NO_ACCESS</td>\n",
       "      <td>255</td>\n",
       "    </tr>\n",
       "  </tbody>\n",
       "</table>\n",
       "</div>"
      ],
      "text/plain": [
       "   coverage.last_state          coverage.last_error   size\n",
       "0              CRAWLED                   NOT_PARSED     89\n",
       "1            DOI_FOUND    DOI_LATE_PUBLICATION_YEAR   2072\n",
       "2            DOI_FOUND              DOI_NO_CROSSREF    285\n",
       "3            DOI_FOUND      DOI_NO_PUBLICATION_YEAR     29\n",
       "4            DOI_FOUND             DOI_NO_UNPAYWALL      4\n",
       "5            DOI_FOUND                  NOT_CRAWLED    881\n",
       "6              IN_FOSM  MISMATCH_FRENCH_AFFILIATION     30\n",
       "7              IN_FOSM                MISMATCH_TYPE     13\n",
       "8              IN_FOSM                           OK     16\n",
       "9           IN_FOSM_FR                MISMATCH_TYPE   5916\n",
       "10          IN_FOSM_FR                MISMATCH_YEAR    166\n",
       "11          IN_FOSM_FR                           OK  74046\n",
       "12              PARSED                NOT_PARSED_FR   5024\n",
       "13           PARSED_FR                           OK   7296\n",
       "14           UNDEFINED           ALEX_DOI_NOT_FOUND  30951\n",
       "15           UNDEFINED                DOI_NO_ACCESS    255"
      ]
     },
     "metadata": {},
     "output_type": "display_data"
    },
    {
     "name": "stdout",
     "output_type": "stream",
     "text": [
      "[0, 0, 0, 0, 0, 0, 0, 3, 2, 2, 2, 2, 2, 6, 6, 6, 7, 7, 7, 4, 5, 1, 1] [7, 1, 5, 4, 2, 3, 6, 16, 14, 10, 12, 11, 17, 26, 25, 27, 25, 24, 27, 15, 27, 18, 9] [80128, 31206, 7296, 5024, 3271, 89, 59, 89, 2072, 285, 29, 4, 881, 30, 13, 16, 5916, 166, 74046, 5024, 7296, 30951, 255]\n"
     ]
    }
   ],
   "source": [
    "# Add publications errors\n",
    "grouped_df = df.groupby(by=[\"coverage.last_state\", \"coverage.last_error\"], as_index=False).size()\n",
    "display(grouped_df)\n",
    "for index, row in grouped_df.iterrows():\n",
    "    sources.append(labels.index(row[\"coverage.last_state\"]))\n",
    "    targets.append(labels.index(row[\"coverage.last_error\"]))\n",
    "    values.append(row[\"size\"])\n",
    "    colors.append(palette[labels.index(row[\"coverage.last_error\"])])\n",
    "\n",
    "print(sources, targets, values)"
   ]
  },
  {
   "cell_type": "code",
   "execution_count": 27,
   "metadata": {},
   "outputs": [
    {
     "data": {
      "text/html": [
       "<div>\n",
       "<style scoped>\n",
       "    .dataframe tbody tr th:only-of-type {\n",
       "        vertical-align: middle;\n",
       "    }\n",
       "\n",
       "    .dataframe tbody tr th {\n",
       "        vertical-align: top;\n",
       "    }\n",
       "\n",
       "    .dataframe thead th {\n",
       "        text-align: right;\n",
       "    }\n",
       "</style>\n",
       "<table border=\"1\" class=\"dataframe\">\n",
       "  <thead>\n",
       "    <tr style=\"text-align: right;\">\n",
       "      <th></th>\n",
       "      <th>coverage.last_error</th>\n",
       "      <th>coverage.last_error_data</th>\n",
       "      <th>size</th>\n",
       "    </tr>\n",
       "  </thead>\n",
       "  <tbody>\n",
       "    <tr>\n",
       "      <th>0</th>\n",
       "      <td>ALEX_DOI_NOT_FOUND</td>\n",
       "      <td>None</td>\n",
       "      <td>30951</td>\n",
       "    </tr>\n",
       "    <tr>\n",
       "      <th>1</th>\n",
       "      <td>DOI_LATE_PUBLICATION_YEAR</td>\n",
       "      <td>('publication_year', 2022)</td>\n",
       "      <td>194</td>\n",
       "    </tr>\n",
       "    <tr>\n",
       "      <th>2</th>\n",
       "      <td>DOI_LATE_PUBLICATION_YEAR</td>\n",
       "      <td>('publication_year', 2023)</td>\n",
       "      <td>1860</td>\n",
       "    </tr>\n",
       "    <tr>\n",
       "      <th>3</th>\n",
       "      <td>DOI_LATE_PUBLICATION_YEAR</td>\n",
       "      <td>('publication_year', 2024)</td>\n",
       "      <td>18</td>\n",
       "    </tr>\n",
       "    <tr>\n",
       "      <th>4</th>\n",
       "      <td>DOI_NO_ACCESS</td>\n",
       "      <td>('doi_status_code', 404)</td>\n",
       "      <td>241</td>\n",
       "    </tr>\n",
       "    <tr>\n",
       "      <th>...</th>\n",
       "      <td>...</td>\n",
       "      <td>...</td>\n",
       "      <td>...</td>\n",
       "    </tr>\n",
       "    <tr>\n",
       "      <th>72</th>\n",
       "      <td>MISMATCH_YEAR</td>\n",
       "      <td>(2022, 2023)</td>\n",
       "      <td>26</td>\n",
       "    </tr>\n",
       "    <tr>\n",
       "      <th>73</th>\n",
       "      <td>MISMATCH_YEAR</td>\n",
       "      <td>(2023, 2022)</td>\n",
       "      <td>1</td>\n",
       "    </tr>\n",
       "    <tr>\n",
       "      <th>74</th>\n",
       "      <td>NOT_CRAWLED</td>\n",
       "      <td>None</td>\n",
       "      <td>881</td>\n",
       "    </tr>\n",
       "    <tr>\n",
       "      <th>75</th>\n",
       "      <td>NOT_PARSED</td>\n",
       "      <td>None</td>\n",
       "      <td>89</td>\n",
       "    </tr>\n",
       "    <tr>\n",
       "      <th>76</th>\n",
       "      <td>NOT_PARSED_FR</td>\n",
       "      <td>None</td>\n",
       "      <td>5024</td>\n",
       "    </tr>\n",
       "  </tbody>\n",
       "</table>\n",
       "<p>77 rows × 3 columns</p>\n",
       "</div>"
      ],
      "text/plain": [
       "          coverage.last_error    coverage.last_error_data   size\n",
       "0          ALEX_DOI_NOT_FOUND                        None  30951\n",
       "1   DOI_LATE_PUBLICATION_YEAR  ('publication_year', 2022)    194\n",
       "2   DOI_LATE_PUBLICATION_YEAR  ('publication_year', 2023)   1860\n",
       "3   DOI_LATE_PUBLICATION_YEAR  ('publication_year', 2024)     18\n",
       "4               DOI_NO_ACCESS    ('doi_status_code', 404)    241\n",
       "..                        ...                         ...    ...\n",
       "72              MISMATCH_YEAR                (2022, 2023)     26\n",
       "73              MISMATCH_YEAR                (2023, 2022)      1\n",
       "74                NOT_CRAWLED                        None    881\n",
       "75                 NOT_PARSED                        None     89\n",
       "76              NOT_PARSED_FR                        None   5024\n",
       "\n",
       "[77 rows x 3 columns]"
      ]
     },
     "metadata": {},
     "output_type": "display_data"
    }
   ],
   "source": [
    "grouped_df = df.groupby(by=[\"coverage.last_error\", \"coverage.last_error_data\"], as_index=False).size()\n",
    "display(grouped_df)"
   ]
  },
  {
   "cell_type": "code",
   "execution_count": 28,
   "metadata": {},
   "outputs": [
    {
     "data": {
      "application/vnd.plotly.v1+json": {
       "config": {
        "plotlyServerURL": "https://plot.ly"
       },
       "data": [
        {
         "link": {
          "color": [
           "#b3de69",
           "#d9d9d9",
           "#ffffb3",
           "#bebada",
           "#ccebc5",
           "#fb8072",
           "#8dd3c7",
           "#fb8072",
           "#bc80bd",
           "#bc80bd",
           "#bc80bd",
           "#bc80bd",
           "#ccebc5",
           "#fdb462",
           "#fdb462",
           "#b3de69",
           "#fdb462",
           "#fdb462",
           "#b3de69",
           "#bebada",
           "#b3de69",
           "#80b1d3",
           "#bc80bd"
          ],
          "source": [
           0,
           0,
           0,
           0,
           0,
           0,
           0,
           3,
           2,
           2,
           2,
           2,
           2,
           6,
           6,
           6,
           7,
           7,
           7,
           4,
           5,
           1,
           1
          ],
          "target": [
           7,
           1,
           5,
           4,
           2,
           3,
           6,
           16,
           14,
           10,
           12,
           11,
           17,
           26,
           25,
           27,
           25,
           24,
           27,
           15,
           27,
           18,
           9
          ],
          "value": [
           80128,
           31206,
           7296,
           5024,
           3271,
           89,
           59,
           89,
           2072,
           285,
           29,
           4,
           881,
           30,
           13,
           16,
           5916,
           166,
           74046,
           5024,
           7296,
           30951,
           255
          ]
         },
         "node": {
          "color": "blue",
          "hovertemplate": "%{label}<br > %{value} publications<extra></extra>",
          "label": [
           "OpenAlex",
           "UNDEFINED",
           "DOI_FOUND",
           "CRAWLED",
           "PARSED",
           "PARSED_FR",
           "IN_FOSM",
           "IN_FOSM_FR",
           "BAD_DOI",
           "DOI_NO_ACCESS",
           "DOI_NO_CROSSREF",
           "DOI_NO_UNPAYWALL",
           "DOI_NO_PUBLICATION_YEAR",
           "DOI_EARLY_PUBLICATION_YEAR",
           "DOI_LATE_PUBLICATION_YEAR",
           "NOT_PARSED_FR",
           "NOT_PARSED",
           "NOT_CRAWLED",
           "ALEX_DOI_NOT_FOUND",
           "ALEX_AUTHORSHIPS_NOT_FOUND",
           "ALEX_YEAR_NOT_FOUND",
           "ALEX_TYPE_NOT_FOUND",
           "FOSM_YEAR_NOT_FOUND",
           "FOSM_TYPE_NOT_FOUND",
           "MISMATCH_YEAR",
           "MISMATCH_TYPE",
           "MISMATCH_FRENCH_AFFILIATION",
           "OK"
          ],
          "line": {
           "color": "black",
           "width": 0.5
          },
          "pad": 15,
          "thickness": 20
         },
         "type": "sankey"
        }
       ],
       "layout": {
        "font": {
         "size": 10
        },
        "template": {
         "data": {
          "bar": [
           {
            "error_x": {
             "color": "#2a3f5f"
            },
            "error_y": {
             "color": "#2a3f5f"
            },
            "marker": {
             "line": {
              "color": "#E5ECF6",
              "width": 0.5
             },
             "pattern": {
              "fillmode": "overlay",
              "size": 10,
              "solidity": 0.2
             }
            },
            "type": "bar"
           }
          ],
          "barpolar": [
           {
            "marker": {
             "line": {
              "color": "#E5ECF6",
              "width": 0.5
             },
             "pattern": {
              "fillmode": "overlay",
              "size": 10,
              "solidity": 0.2
             }
            },
            "type": "barpolar"
           }
          ],
          "carpet": [
           {
            "aaxis": {
             "endlinecolor": "#2a3f5f",
             "gridcolor": "white",
             "linecolor": "white",
             "minorgridcolor": "white",
             "startlinecolor": "#2a3f5f"
            },
            "baxis": {
             "endlinecolor": "#2a3f5f",
             "gridcolor": "white",
             "linecolor": "white",
             "minorgridcolor": "white",
             "startlinecolor": "#2a3f5f"
            },
            "type": "carpet"
           }
          ],
          "choropleth": [
           {
            "colorbar": {
             "outlinewidth": 0,
             "ticks": ""
            },
            "type": "choropleth"
           }
          ],
          "contour": [
           {
            "colorbar": {
             "outlinewidth": 0,
             "ticks": ""
            },
            "colorscale": [
             [
              0,
              "#0d0887"
             ],
             [
              0.1111111111111111,
              "#46039f"
             ],
             [
              0.2222222222222222,
              "#7201a8"
             ],
             [
              0.3333333333333333,
              "#9c179e"
             ],
             [
              0.4444444444444444,
              "#bd3786"
             ],
             [
              0.5555555555555556,
              "#d8576b"
             ],
             [
              0.6666666666666666,
              "#ed7953"
             ],
             [
              0.7777777777777778,
              "#fb9f3a"
             ],
             [
              0.8888888888888888,
              "#fdca26"
             ],
             [
              1,
              "#f0f921"
             ]
            ],
            "type": "contour"
           }
          ],
          "contourcarpet": [
           {
            "colorbar": {
             "outlinewidth": 0,
             "ticks": ""
            },
            "type": "contourcarpet"
           }
          ],
          "heatmap": [
           {
            "colorbar": {
             "outlinewidth": 0,
             "ticks": ""
            },
            "colorscale": [
             [
              0,
              "#0d0887"
             ],
             [
              0.1111111111111111,
              "#46039f"
             ],
             [
              0.2222222222222222,
              "#7201a8"
             ],
             [
              0.3333333333333333,
              "#9c179e"
             ],
             [
              0.4444444444444444,
              "#bd3786"
             ],
             [
              0.5555555555555556,
              "#d8576b"
             ],
             [
              0.6666666666666666,
              "#ed7953"
             ],
             [
              0.7777777777777778,
              "#fb9f3a"
             ],
             [
              0.8888888888888888,
              "#fdca26"
             ],
             [
              1,
              "#f0f921"
             ]
            ],
            "type": "heatmap"
           }
          ],
          "heatmapgl": [
           {
            "colorbar": {
             "outlinewidth": 0,
             "ticks": ""
            },
            "colorscale": [
             [
              0,
              "#0d0887"
             ],
             [
              0.1111111111111111,
              "#46039f"
             ],
             [
              0.2222222222222222,
              "#7201a8"
             ],
             [
              0.3333333333333333,
              "#9c179e"
             ],
             [
              0.4444444444444444,
              "#bd3786"
             ],
             [
              0.5555555555555556,
              "#d8576b"
             ],
             [
              0.6666666666666666,
              "#ed7953"
             ],
             [
              0.7777777777777778,
              "#fb9f3a"
             ],
             [
              0.8888888888888888,
              "#fdca26"
             ],
             [
              1,
              "#f0f921"
             ]
            ],
            "type": "heatmapgl"
           }
          ],
          "histogram": [
           {
            "marker": {
             "pattern": {
              "fillmode": "overlay",
              "size": 10,
              "solidity": 0.2
             }
            },
            "type": "histogram"
           }
          ],
          "histogram2d": [
           {
            "colorbar": {
             "outlinewidth": 0,
             "ticks": ""
            },
            "colorscale": [
             [
              0,
              "#0d0887"
             ],
             [
              0.1111111111111111,
              "#46039f"
             ],
             [
              0.2222222222222222,
              "#7201a8"
             ],
             [
              0.3333333333333333,
              "#9c179e"
             ],
             [
              0.4444444444444444,
              "#bd3786"
             ],
             [
              0.5555555555555556,
              "#d8576b"
             ],
             [
              0.6666666666666666,
              "#ed7953"
             ],
             [
              0.7777777777777778,
              "#fb9f3a"
             ],
             [
              0.8888888888888888,
              "#fdca26"
             ],
             [
              1,
              "#f0f921"
             ]
            ],
            "type": "histogram2d"
           }
          ],
          "histogram2dcontour": [
           {
            "colorbar": {
             "outlinewidth": 0,
             "ticks": ""
            },
            "colorscale": [
             [
              0,
              "#0d0887"
             ],
             [
              0.1111111111111111,
              "#46039f"
             ],
             [
              0.2222222222222222,
              "#7201a8"
             ],
             [
              0.3333333333333333,
              "#9c179e"
             ],
             [
              0.4444444444444444,
              "#bd3786"
             ],
             [
              0.5555555555555556,
              "#d8576b"
             ],
             [
              0.6666666666666666,
              "#ed7953"
             ],
             [
              0.7777777777777778,
              "#fb9f3a"
             ],
             [
              0.8888888888888888,
              "#fdca26"
             ],
             [
              1,
              "#f0f921"
             ]
            ],
            "type": "histogram2dcontour"
           }
          ],
          "mesh3d": [
           {
            "colorbar": {
             "outlinewidth": 0,
             "ticks": ""
            },
            "type": "mesh3d"
           }
          ],
          "parcoords": [
           {
            "line": {
             "colorbar": {
              "outlinewidth": 0,
              "ticks": ""
             }
            },
            "type": "parcoords"
           }
          ],
          "pie": [
           {
            "automargin": true,
            "type": "pie"
           }
          ],
          "scatter": [
           {
            "fillpattern": {
             "fillmode": "overlay",
             "size": 10,
             "solidity": 0.2
            },
            "type": "scatter"
           }
          ],
          "scatter3d": [
           {
            "line": {
             "colorbar": {
              "outlinewidth": 0,
              "ticks": ""
             }
            },
            "marker": {
             "colorbar": {
              "outlinewidth": 0,
              "ticks": ""
             }
            },
            "type": "scatter3d"
           }
          ],
          "scattercarpet": [
           {
            "marker": {
             "colorbar": {
              "outlinewidth": 0,
              "ticks": ""
             }
            },
            "type": "scattercarpet"
           }
          ],
          "scattergeo": [
           {
            "marker": {
             "colorbar": {
              "outlinewidth": 0,
              "ticks": ""
             }
            },
            "type": "scattergeo"
           }
          ],
          "scattergl": [
           {
            "marker": {
             "colorbar": {
              "outlinewidth": 0,
              "ticks": ""
             }
            },
            "type": "scattergl"
           }
          ],
          "scattermapbox": [
           {
            "marker": {
             "colorbar": {
              "outlinewidth": 0,
              "ticks": ""
             }
            },
            "type": "scattermapbox"
           }
          ],
          "scatterpolar": [
           {
            "marker": {
             "colorbar": {
              "outlinewidth": 0,
              "ticks": ""
             }
            },
            "type": "scatterpolar"
           }
          ],
          "scatterpolargl": [
           {
            "marker": {
             "colorbar": {
              "outlinewidth": 0,
              "ticks": ""
             }
            },
            "type": "scatterpolargl"
           }
          ],
          "scatterternary": [
           {
            "marker": {
             "colorbar": {
              "outlinewidth": 0,
              "ticks": ""
             }
            },
            "type": "scatterternary"
           }
          ],
          "surface": [
           {
            "colorbar": {
             "outlinewidth": 0,
             "ticks": ""
            },
            "colorscale": [
             [
              0,
              "#0d0887"
             ],
             [
              0.1111111111111111,
              "#46039f"
             ],
             [
              0.2222222222222222,
              "#7201a8"
             ],
             [
              0.3333333333333333,
              "#9c179e"
             ],
             [
              0.4444444444444444,
              "#bd3786"
             ],
             [
              0.5555555555555556,
              "#d8576b"
             ],
             [
              0.6666666666666666,
              "#ed7953"
             ],
             [
              0.7777777777777778,
              "#fb9f3a"
             ],
             [
              0.8888888888888888,
              "#fdca26"
             ],
             [
              1,
              "#f0f921"
             ]
            ],
            "type": "surface"
           }
          ],
          "table": [
           {
            "cells": {
             "fill": {
              "color": "#EBF0F8"
             },
             "line": {
              "color": "white"
             }
            },
            "header": {
             "fill": {
              "color": "#C8D4E3"
             },
             "line": {
              "color": "white"
             }
            },
            "type": "table"
           }
          ]
         },
         "layout": {
          "annotationdefaults": {
           "arrowcolor": "#2a3f5f",
           "arrowhead": 0,
           "arrowwidth": 1
          },
          "autotypenumbers": "strict",
          "coloraxis": {
           "colorbar": {
            "outlinewidth": 0,
            "ticks": ""
           }
          },
          "colorscale": {
           "diverging": [
            [
             0,
             "#8e0152"
            ],
            [
             0.1,
             "#c51b7d"
            ],
            [
             0.2,
             "#de77ae"
            ],
            [
             0.3,
             "#f1b6da"
            ],
            [
             0.4,
             "#fde0ef"
            ],
            [
             0.5,
             "#f7f7f7"
            ],
            [
             0.6,
             "#e6f5d0"
            ],
            [
             0.7,
             "#b8e186"
            ],
            [
             0.8,
             "#7fbc41"
            ],
            [
             0.9,
             "#4d9221"
            ],
            [
             1,
             "#276419"
            ]
           ],
           "sequential": [
            [
             0,
             "#0d0887"
            ],
            [
             0.1111111111111111,
             "#46039f"
            ],
            [
             0.2222222222222222,
             "#7201a8"
            ],
            [
             0.3333333333333333,
             "#9c179e"
            ],
            [
             0.4444444444444444,
             "#bd3786"
            ],
            [
             0.5555555555555556,
             "#d8576b"
            ],
            [
             0.6666666666666666,
             "#ed7953"
            ],
            [
             0.7777777777777778,
             "#fb9f3a"
            ],
            [
             0.8888888888888888,
             "#fdca26"
            ],
            [
             1,
             "#f0f921"
            ]
           ],
           "sequentialminus": [
            [
             0,
             "#0d0887"
            ],
            [
             0.1111111111111111,
             "#46039f"
            ],
            [
             0.2222222222222222,
             "#7201a8"
            ],
            [
             0.3333333333333333,
             "#9c179e"
            ],
            [
             0.4444444444444444,
             "#bd3786"
            ],
            [
             0.5555555555555556,
             "#d8576b"
            ],
            [
             0.6666666666666666,
             "#ed7953"
            ],
            [
             0.7777777777777778,
             "#fb9f3a"
            ],
            [
             0.8888888888888888,
             "#fdca26"
            ],
            [
             1,
             "#f0f921"
            ]
           ]
          },
          "colorway": [
           "#636efa",
           "#EF553B",
           "#00cc96",
           "#ab63fa",
           "#FFA15A",
           "#19d3f3",
           "#FF6692",
           "#B6E880",
           "#FF97FF",
           "#FECB52"
          ],
          "font": {
           "color": "#2a3f5f"
          },
          "geo": {
           "bgcolor": "white",
           "lakecolor": "white",
           "landcolor": "#E5ECF6",
           "showlakes": true,
           "showland": true,
           "subunitcolor": "white"
          },
          "hoverlabel": {
           "align": "left"
          },
          "hovermode": "closest",
          "mapbox": {
           "style": "light"
          },
          "paper_bgcolor": "white",
          "plot_bgcolor": "#E5ECF6",
          "polar": {
           "angularaxis": {
            "gridcolor": "white",
            "linecolor": "white",
            "ticks": ""
           },
           "bgcolor": "#E5ECF6",
           "radialaxis": {
            "gridcolor": "white",
            "linecolor": "white",
            "ticks": ""
           }
          },
          "scene": {
           "xaxis": {
            "backgroundcolor": "#E5ECF6",
            "gridcolor": "white",
            "gridwidth": 2,
            "linecolor": "white",
            "showbackground": true,
            "ticks": "",
            "zerolinecolor": "white"
           },
           "yaxis": {
            "backgroundcolor": "#E5ECF6",
            "gridcolor": "white",
            "gridwidth": 2,
            "linecolor": "white",
            "showbackground": true,
            "ticks": "",
            "zerolinecolor": "white"
           },
           "zaxis": {
            "backgroundcolor": "#E5ECF6",
            "gridcolor": "white",
            "gridwidth": 2,
            "linecolor": "white",
            "showbackground": true,
            "ticks": "",
            "zerolinecolor": "white"
           }
          },
          "shapedefaults": {
           "line": {
            "color": "#2a3f5f"
           }
          },
          "ternary": {
           "aaxis": {
            "gridcolor": "white",
            "linecolor": "white",
            "ticks": ""
           },
           "baxis": {
            "gridcolor": "white",
            "linecolor": "white",
            "ticks": ""
           },
           "bgcolor": "#E5ECF6",
           "caxis": {
            "gridcolor": "white",
            "linecolor": "white",
            "ticks": ""
           }
          },
          "title": {
           "x": 0.05
          },
          "xaxis": {
           "automargin": true,
           "gridcolor": "white",
           "linecolor": "white",
           "ticks": "",
           "title": {
            "standoff": 15
           },
           "zerolinecolor": "white",
           "zerolinewidth": 2
          },
          "yaxis": {
           "automargin": true,
           "gridcolor": "white",
           "linecolor": "white",
           "ticks": "",
           "title": {
            "standoff": 15
           },
           "zerolinecolor": "white",
           "zerolinewidth": 2
          }
         }
        },
        "title": {
         "text": "OpenAlex french publications coverage"
        }
       }
      }
     },
     "metadata": {},
     "output_type": "display_data"
    }
   ],
   "source": [
    "fig = go.Figure(data=[go.Sankey(\n",
    "    node = dict(\n",
    "      pad = 15,\n",
    "      thickness = 20,\n",
    "      line = dict(color = \"black\", width = 0.5),\n",
    "      label = labels,\n",
    "      hovertemplate = \"%{label}<br > %{value} publications<extra></extra>\",\n",
    "      color = \"blue\"\n",
    "    ),\n",
    "    link = dict(\n",
    "      source = sources,\n",
    "      target = targets,\n",
    "      value = values,\n",
    "      color = colors\n",
    "  ))])\n",
    "\n",
    "fig.update_layout(title_text=\"OpenAlex french publications coverage\", font_size=10)\n",
    "fig.show()"
   ]
  },
  {
   "cell_type": "markdown",
   "metadata": {},
   "source": [
    "# Exploratory data analysis"
   ]
  },
  {
   "cell_type": "code",
   "execution_count": 10,
   "metadata": {},
   "outputs": [
    {
     "name": "stdout",
     "output_type": "stream",
     "text": [
      "<class 'pandas.core.frame.DataFrame'>\n",
      "RangeIndex: 127073 entries, 0 to 127072\n",
      "Data columns (total 12 columns):\n",
      " #   Column                    Non-Null Count   Dtype \n",
      "---  ------                    --------------   ----- \n",
      " 0   id                        127073 non-null  object\n",
      " 1   doi                       96122 non-null   object\n",
      " 2   year                      127073 non-null  int64 \n",
      " 3   type                      127073 non-null  object\n",
      " 4   type_crossref             127073 non-null  object\n",
      " 5   institutions              127073 non-null  object\n",
      " 6   countries                 127073 non-null  object\n",
      " 7   primary_location          118583 non-null  object\n",
      " 8   is_oa                     127073 non-null  bool  \n",
      " 9   coverage.last_state       127073 non-null  object\n",
      " 10  coverage.last_error       127073 non-null  object\n",
      " 11  coverage.last_error_data  45715 non-null   object\n",
      "dtypes: bool(1), int64(1), object(10)\n",
      "memory usage: 10.8+ MB\n"
     ]
    }
   ],
   "source": [
    "df.info()"
   ]
  },
  {
   "cell_type": "code",
   "execution_count": 11,
   "metadata": {},
   "outputs": [
    {
     "data": {
      "image/png": "[encoded data removed]",
      "text/plain": [
       "<Figure size 640x480 with 1 Axes>"
      ]
     },
     "metadata": {},
     "output_type": "display_data"
    }
   ],
   "source": [
    "# Plot years\n",
    "sns.countplot(df, x=\"year\")\n",
    "plt.show()"
   ]
  },
  {
   "cell_type": "code",
   "execution_count": 32,
   "metadata": {},
   "outputs": [
    {
     "data": {
      "text/plain": [
       "<Axes: ylabel='coverage.last_state'>"
      ]
     },
     "execution_count": 32,
     "metadata": {},
     "output_type": "execute_result"
    },
    {
     "data": {
      "image/png": "[encoded data removed]",
      "text/plain": [
       "<Figure size 640x480 with 1 Axes>"
      ]
     },
     "metadata": {},
     "output_type": "display_data"
    }
   ],
   "source": [
    "# Plot states\n",
    "df[\"coverage.last_state\"].value_counts(normalize=True).plot(kind=\"barh\")"
   ]
  },
  {
   "cell_type": "markdown",
   "metadata": {},
   "source": [
    "# French affiliations analysis"
   ]
  },
  {
   "cell_type": "code",
   "execution_count": 12,
   "metadata": {},
   "outputs": [
    {
     "data": {
      "text/html": [
       "<div>\n",
       "<style scoped>\n",
       "    .dataframe tbody tr th:only-of-type {\n",
       "        vertical-align: middle;\n",
       "    }\n",
       "\n",
       "    .dataframe tbody tr th {\n",
       "        vertical-align: top;\n",
       "    }\n",
       "\n",
       "    .dataframe thead th {\n",
       "        text-align: right;\n",
       "    }\n",
       "</style>\n",
       "<table border=\"1\" class=\"dataframe\">\n",
       "  <thead>\n",
       "    <tr style=\"text-align: right;\">\n",
       "      <th></th>\n",
       "      <th>id</th>\n",
       "      <th>doi</th>\n",
       "      <th>coverage.last_error_data</th>\n",
       "    </tr>\n",
       "  </thead>\n",
       "  <tbody>\n",
       "    <tr>\n",
       "      <th>0</th>\n",
       "      <td>https://openalex.org/W2805870922</td>\n",
       "      <td>https://doi.org/10.1681/asn.2017121260</td>\n",
       "      <td>['Division of Nephrology and Hypertension, Cen...</td>\n",
       "    </tr>\n",
       "    <tr>\n",
       "      <th>1</th>\n",
       "      <td>https://openalex.org/W2889373178</td>\n",
       "      <td>https://doi.org/10.1039/c8nr05787g</td>\n",
       "      <td>['1015 Lausanne; EPFL; Laboratoire des Matéria...</td>\n",
       "    </tr>\n",
       "    <tr>\n",
       "      <th>2</th>\n",
       "      <td>https://openalex.org/W2887463283</td>\n",
       "      <td>https://doi.org/10.12688/f1000research.14417.1</td>\n",
       "      <td>['Clinique du Vertige, Centre Hospitalier Emil...</td>\n",
       "    </tr>\n",
       "    <tr>\n",
       "      <th>3</th>\n",
       "      <td>https://openalex.org/W4225140177</td>\n",
       "      <td>https://doi.org/10.1038/s41467-022-29959-1</td>\n",
       "      <td>['Department of Sciences and Engineering, Sorb...</td>\n",
       "    </tr>\n",
       "    <tr>\n",
       "      <th>4</th>\n",
       "      <td>https://openalex.org/W3080555168</td>\n",
       "      <td>https://doi.org/10.1145/3407023.3409219</td>\n",
       "      <td>['Montimage']</td>\n",
       "    </tr>\n",
       "    <tr>\n",
       "      <th>5</th>\n",
       "      <td>https://openalex.org/W4223896490</td>\n",
       "      <td>https://doi.org/10.1007/s00500-022-07068-x</td>\n",
       "      <td>['Sorbonne Center of Artificial Intelligence, ...</td>\n",
       "    </tr>\n",
       "    <tr>\n",
       "      <th>6</th>\n",
       "      <td>https://openalex.org/W4224233561</td>\n",
       "      <td>https://doi.org/10.1002/anie.202203938</td>\n",
       "      <td>['Department of Sciences and Engineering Sorbo...</td>\n",
       "    </tr>\n",
       "    <tr>\n",
       "      <th>7</th>\n",
       "      <td>https://openalex.org/W3101925414</td>\n",
       "      <td>https://doi.org/10.1039/c9na00323a</td>\n",
       "      <td>['Foundation of Research and Technology-Hellas...</td>\n",
       "    </tr>\n",
       "    <tr>\n",
       "      <th>8</th>\n",
       "      <td>https://openalex.org/W2992815577</td>\n",
       "      <td>https://doi.org/10.1039/c9nr08453c</td>\n",
       "      <td>['EPFL; Faculty of Engineering; Institute of M...</td>\n",
       "    </tr>\n",
       "    <tr>\n",
       "      <th>9</th>\n",
       "      <td>https://openalex.org/W4226275118</td>\n",
       "      <td>https://doi.org/10.1021/acs.cgd.2c00225</td>\n",
       "      <td>['Department of Sciences and Engineering, Sorb...</td>\n",
       "    </tr>\n",
       "    <tr>\n",
       "      <th>10</th>\n",
       "      <td>https://openalex.org/W4319458487</td>\n",
       "      <td>https://doi.org/10.1007/s42235-023-00336-y</td>\n",
       "      <td>['Sorbonne Center of Artificial Intelligence, ...</td>\n",
       "    </tr>\n",
       "    <tr>\n",
       "      <th>11</th>\n",
       "      <td>https://openalex.org/W4280553732</td>\n",
       "      <td>https://doi.org/10.1038/s41467-022-30541-y</td>\n",
       "      <td>['Science and Engineering Department, Sorbonne...</td>\n",
       "    </tr>\n",
       "    <tr>\n",
       "      <th>12</th>\n",
       "      <td>https://openalex.org/W2893387639</td>\n",
       "      <td>https://doi.org/10.1109/icton.2018.8473898</td>\n",
       "      <td>['[ATOS]']</td>\n",
       "    </tr>\n",
       "    <tr>\n",
       "      <th>13</th>\n",
       "      <td>https://openalex.org/W2914858760</td>\n",
       "      <td>https://doi.org/10.2478/popets-2019-0017</td>\n",
       "      <td>['EPFL ,']</td>\n",
       "    </tr>\n",
       "    <tr>\n",
       "      <th>14</th>\n",
       "      <td>https://openalex.org/W2787943086</td>\n",
       "      <td>https://doi.org/10.1039/c7cp07642h</td>\n",
       "      <td>['Dipartimento di Scienze e Tecnologie Chimich...</td>\n",
       "    </tr>\n",
       "    <tr>\n",
       "      <th>15</th>\n",
       "      <td>https://openalex.org/W2970288042</td>\n",
       "      <td>https://doi.org/10.1177/0706743719870513</td>\n",
       "      <td>['Laboratoire de Biochimie, CHU Habib Bourguib...</td>\n",
       "    </tr>\n",
       "    <tr>\n",
       "      <th>16</th>\n",
       "      <td>https://openalex.org/W3035525659</td>\n",
       "      <td>https://doi.org/10.7759/cureus.8636</td>\n",
       "      <td>['Medicine and Endocrinology, Pondicherry Inst...</td>\n",
       "    </tr>\n",
       "    <tr>\n",
       "      <th>17</th>\n",
       "      <td>https://openalex.org/W4214887291</td>\n",
       "      <td>https://doi.org/10.1002/adfm.202112117</td>\n",
       "      <td>['Sciences and Engineering Department, Sorbonn...</td>\n",
       "    </tr>\n",
       "    <tr>\n",
       "      <th>18</th>\n",
       "      <td>https://openalex.org/W4281618938</td>\n",
       "      <td>https://doi.org/10.1002/adom.202200627</td>\n",
       "      <td>['Department of Sciences and Engineering, Sorb...</td>\n",
       "    </tr>\n",
       "    <tr>\n",
       "      <th>19</th>\n",
       "      <td>https://openalex.org/W4200023305</td>\n",
       "      <td>https://doi.org/10.1016/j.jse.2021.11.011</td>\n",
       "      <td>['Department of Orthopedic Surgery, Hôpital Am...</td>\n",
       "    </tr>\n",
       "    <tr>\n",
       "      <th>20</th>\n",
       "      <td>https://openalex.org/W4309348847</td>\n",
       "      <td>https://doi.org/10.1007/978-3-031-17576-3_10</td>\n",
       "      <td>['Sorbonne Center of Artificial Intelligence, ...</td>\n",
       "    </tr>\n",
       "    <tr>\n",
       "      <th>21</th>\n",
       "      <td>https://openalex.org/W4312222790</td>\n",
       "      <td>https://doi.org/10.1002/adfm.202211760</td>\n",
       "      <td>['Science and Engineering Department, Sorbonne...</td>\n",
       "    </tr>\n",
       "    <tr>\n",
       "      <th>22</th>\n",
       "      <td>https://openalex.org/W4378211401</td>\n",
       "      <td>https://doi.org/10.1038/s41598-023-35457-1</td>\n",
       "      <td>['Sorbonne Center of Artificial Intelligence, ...</td>\n",
       "    </tr>\n",
       "    <tr>\n",
       "      <th>23</th>\n",
       "      <td>https://openalex.org/W2914317778</td>\n",
       "      <td>https://doi.org/10.3166/bspe-2018-0014</td>\n",
       "      <td>[\"Unité de biologie, département des sciences ...</td>\n",
       "    </tr>\n",
       "    <tr>\n",
       "      <th>24</th>\n",
       "      <td>https://openalex.org/W4313237004</td>\n",
       "      <td>https://doi.org/10.1002/anie.202217329</td>\n",
       "      <td>['Science and Engineering Department, Sorbonne...</td>\n",
       "    </tr>\n",
       "    <tr>\n",
       "      <th>25</th>\n",
       "      <td>https://openalex.org/W4327569506</td>\n",
       "      <td>https://doi.org/10.1038/s41557-023-01158-5</td>\n",
       "      <td>['Department of Sciences and Engineering, Sorb...</td>\n",
       "    </tr>\n",
       "    <tr>\n",
       "      <th>26</th>\n",
       "      <td>https://openalex.org/W2898195792</td>\n",
       "      <td>https://doi.org/10.1051/refdp/201859002</td>\n",
       "      <td>['Présidente de la SFP.', 'Président de la div...</td>\n",
       "    </tr>\n",
       "    <tr>\n",
       "      <th>27</th>\n",
       "      <td>https://openalex.org/W2924329629</td>\n",
       "      <td>https://doi.org/10.1016/j.euroneuro.2017.08.119</td>\n",
       "      <td>['Institut Pasteur', 'Institut Pasteur']</td>\n",
       "    </tr>\n",
       "    <tr>\n",
       "      <th>28</th>\n",
       "      <td>https://openalex.org/W2946830563</td>\n",
       "      <td>https://doi.org/10.1016/j.biopsych.2019.03.265</td>\n",
       "      <td>['Institut Pasteur']</td>\n",
       "    </tr>\n",
       "    <tr>\n",
       "      <th>29</th>\n",
       "      <td>https://openalex.org/W4386222178</td>\n",
       "      <td>https://doi.org/10.1002/asl.1188</td>\n",
       "      <td>['Laboratoire de Météorologie Dynamique (LMD) ...</td>\n",
       "    </tr>\n",
       "  </tbody>\n",
       "</table>\n",
       "</div>"
      ],
      "text/plain": [
       "                                  id  \\\n",
       "0   https://openalex.org/W2805870922   \n",
       "1   https://openalex.org/W2889373178   \n",
       "2   https://openalex.org/W2887463283   \n",
       "3   https://openalex.org/W4225140177   \n",
       "4   https://openalex.org/W3080555168   \n",
       "5   https://openalex.org/W4223896490   \n",
       "6   https://openalex.org/W4224233561   \n",
       "7   https://openalex.org/W3101925414   \n",
       "8   https://openalex.org/W2992815577   \n",
       "9   https://openalex.org/W4226275118   \n",
       "10  https://openalex.org/W4319458487   \n",
       "11  https://openalex.org/W4280553732   \n",
       "12  https://openalex.org/W2893387639   \n",
       "13  https://openalex.org/W2914858760   \n",
       "14  https://openalex.org/W2787943086   \n",
       "15  https://openalex.org/W2970288042   \n",
       "16  https://openalex.org/W3035525659   \n",
       "17  https://openalex.org/W4214887291   \n",
       "18  https://openalex.org/W4281618938   \n",
       "19  https://openalex.org/W4200023305   \n",
       "20  https://openalex.org/W4309348847   \n",
       "21  https://openalex.org/W4312222790   \n",
       "22  https://openalex.org/W4378211401   \n",
       "23  https://openalex.org/W2914317778   \n",
       "24  https://openalex.org/W4313237004   \n",
       "25  https://openalex.org/W4327569506   \n",
       "26  https://openalex.org/W2898195792   \n",
       "27  https://openalex.org/W2924329629   \n",
       "28  https://openalex.org/W2946830563   \n",
       "29  https://openalex.org/W4386222178   \n",
       "\n",
       "                                                doi  \\\n",
       "0            https://doi.org/10.1681/asn.2017121260   \n",
       "1                https://doi.org/10.1039/c8nr05787g   \n",
       "2    https://doi.org/10.12688/f1000research.14417.1   \n",
       "3        https://doi.org/10.1038/s41467-022-29959-1   \n",
       "4           https://doi.org/10.1145/3407023.3409219   \n",
       "5        https://doi.org/10.1007/s00500-022-07068-x   \n",
       "6            https://doi.org/10.1002/anie.202203938   \n",
       "7                https://doi.org/10.1039/c9na00323a   \n",
       "8                https://doi.org/10.1039/c9nr08453c   \n",
       "9           https://doi.org/10.1021/acs.cgd.2c00225   \n",
       "10       https://doi.org/10.1007/s42235-023-00336-y   \n",
       "11       https://doi.org/10.1038/s41467-022-30541-y   \n",
       "12       https://doi.org/10.1109/icton.2018.8473898   \n",
       "13         https://doi.org/10.2478/popets-2019-0017   \n",
       "14               https://doi.org/10.1039/c7cp07642h   \n",
       "15         https://doi.org/10.1177/0706743719870513   \n",
       "16              https://doi.org/10.7759/cureus.8636   \n",
       "17           https://doi.org/10.1002/adfm.202112117   \n",
       "18           https://doi.org/10.1002/adom.202200627   \n",
       "19        https://doi.org/10.1016/j.jse.2021.11.011   \n",
       "20     https://doi.org/10.1007/978-3-031-17576-3_10   \n",
       "21           https://doi.org/10.1002/adfm.202211760   \n",
       "22       https://doi.org/10.1038/s41598-023-35457-1   \n",
       "23           https://doi.org/10.3166/bspe-2018-0014   \n",
       "24           https://doi.org/10.1002/anie.202217329   \n",
       "25       https://doi.org/10.1038/s41557-023-01158-5   \n",
       "26          https://doi.org/10.1051/refdp/201859002   \n",
       "27  https://doi.org/10.1016/j.euroneuro.2017.08.119   \n",
       "28   https://doi.org/10.1016/j.biopsych.2019.03.265   \n",
       "29                 https://doi.org/10.1002/asl.1188   \n",
       "\n",
       "                             coverage.last_error_data  \n",
       "0   ['Division of Nephrology and Hypertension, Cen...  \n",
       "1   ['1015 Lausanne; EPFL; Laboratoire des Matéria...  \n",
       "2   ['Clinique du Vertige, Centre Hospitalier Emil...  \n",
       "3   ['Department of Sciences and Engineering, Sorb...  \n",
       "4                                       ['Montimage']  \n",
       "5   ['Sorbonne Center of Artificial Intelligence, ...  \n",
       "6   ['Department of Sciences and Engineering Sorbo...  \n",
       "7   ['Foundation of Research and Technology-Hellas...  \n",
       "8   ['EPFL; Faculty of Engineering; Institute of M...  \n",
       "9   ['Department of Sciences and Engineering, Sorb...  \n",
       "10  ['Sorbonne Center of Artificial Intelligence, ...  \n",
       "11  ['Science and Engineering Department, Sorbonne...  \n",
       "12                                         ['[ATOS]']  \n",
       "13                                         ['EPFL ,']  \n",
       "14  ['Dipartimento di Scienze e Tecnologie Chimich...  \n",
       "15  ['Laboratoire de Biochimie, CHU Habib Bourguib...  \n",
       "16  ['Medicine and Endocrinology, Pondicherry Inst...  \n",
       "17  ['Sciences and Engineering Department, Sorbonn...  \n",
       "18  ['Department of Sciences and Engineering, Sorb...  \n",
       "19  ['Department of Orthopedic Surgery, Hôpital Am...  \n",
       "20  ['Sorbonne Center of Artificial Intelligence, ...  \n",
       "21  ['Science and Engineering Department, Sorbonne...  \n",
       "22  ['Sorbonne Center of Artificial Intelligence, ...  \n",
       "23  [\"Unité de biologie, département des sciences ...  \n",
       "24  ['Science and Engineering Department, Sorbonne...  \n",
       "25  ['Department of Sciences and Engineering, Sorb...  \n",
       "26  ['Présidente de la SFP.', 'Président de la div...  \n",
       "27           ['Institut Pasteur', 'Institut Pasteur']  \n",
       "28                               ['Institut Pasteur']  \n",
       "29  ['Laboratoire de Météorologie Dynamique (LMD) ...  "
      ]
     },
     "metadata": {},
     "output_type": "display_data"
    }
   ],
   "source": [
    "bad_affiliations_df = df[df[\"coverage.last_error\"] == \"MISMATCH_FRENCH_AFFILIATION\"].copy().reset_index()\n",
    "display(bad_affiliations_df[[\"id\", \"doi\", \"coverage.last_error_data\"]])\n",
    "bad_affiliations = bad_affiliations_df[\"coverage.last_error_data\"].to_list()"
   ]
  },
  {
   "cell_type": "code",
   "execution_count": 13,
   "metadata": {},
   "outputs": [],
   "source": [
    "def clean_affiliations(affiliation):\n",
    "    return affiliation.removeprefix(\"['\").removesuffix(\"']\").split(\"', '\")"
   ]
  },
  {
   "cell_type": "code",
   "execution_count": 14,
   "metadata": {},
   "outputs": [
    {
     "data": {
      "text/plain": [
       "['Department of Sciences and Engineering Sorbonne University Abu Dhabi  38044 Abu Dhabi United Arab Emirates; Smart Materials Lab New York University Abu Dhabi  129188 Abu Dhabi United Arab Emirates',\n",
       " 'Department of Sciences and Engineering, Sorbonne University Abu Dhabi, Abu Dhabi, United Arab Emirates',\n",
       " 'Department of Sciences and Engineering, Sorbonne University Abu Dhabi, Abu Dhabi, UAE; Smart Materials Lab, New York University Abu Dhabi, Abu Dhabi, UAE',\n",
       " 'Présidente de la SFP.',\n",
       " '1015 Lausanne; EPFL; Laboratoire des Matériaux Semiconducteurs; Switzerland; École Polytechnique Fédérale de Lausanne',\n",
       " 'Division of Nephrology and Hypertension, Center for Translational Metabolism and Health, Institute for Public Health and Medicine, Northwestern University Feinberg School of Medicine, Chicago, Illinois;; Renal Division and',\n",
       " 'Sorbonne Center of Artificial Intelligence, Sorbonne University-Abu Dhabi, Abu Dhabi, United Arab Emirates',\n",
       " 'Department of Sciences and Engineering, Sorbonne University Abu Dhabi, PO Box 38044, Abu Dhabi, United Arab Emirates; Smart Materials Lab, New York University Abu Dhabi, PO Box 129188, Abu Dhabi, United Arab Emirates',\n",
       " 'Laboratoire de Météorologie Dynamique (LMD) Sorbonne University (SU), Ecole Normale Supérieure (ENS)  Paris France; Potsdam Institute for Climate Impact Research (PIK), RD1, Member of the Leibniz Association, Potsdam, Germany',\n",
       " '[ATOS]',\n",
       " 'Medicine and Endocrinology, Pondicherry Institute of Medical Sciences, Pondicherry, IND.',\n",
       " 'Montimage',\n",
       " 'Dipartimento di Scienze e Tecnologie Chimiche; Italy; Rome; Università di Tor Vergata',\n",
       " 'Laboratoire de Biochimie, CHU Habib Bourguiba, Sfax, Tunisie; UR 12ES17 « Bases moléculaires de la pathologie humaine », Faculté de Médecine de Sfax, Université de Sfax, Sfax, Tunisie',\n",
       " 'EPFL; Faculty of Engineering; Institute of Materials; Laboratoire des Matériaux Semiconducteurs; École Polytechnique Fédérale de Lausanne',\n",
       " 'EPFL ,',\n",
       " 'Président de la division Matière Condensée de la SFP.',\n",
       " 'Renal Division and',\n",
       " 'Science and Engineering Department, Sorbonne University Abu Dhabi, Abu Dhabi, UAE; Smart Materials Lab, New York University Abu Dhabi, Abu Dhabi, UAE',\n",
       " 'Science and Engineering Department, Sorbonne University Abu Dhabi, Abu Dhabi, PO Box 38044 UAE; Smart Materials Lab, New York University Abu Dhabi, Abu Dhabi, PO Box 129188 UAE',\n",
       " 'Foundation of Research and Technology-Hellas (FORTH/ICE-HT); Institute of Chemical Engineering Sciences, Foundation of Research and Technology-Hellas (FORTH/ICE-HT), Stadiou Street, Platani, Patras, 26504 Greece; Laboratory of Quantum and Computational Chemistry; Laboratory of Quantum and Computational Chemistry, Department of Chemistry, Aristotle University of Thessaloniki, GR-54124 Thessaloniki, Greece; Patras',\n",
       " 'Institut Pasteur',\n",
       " 'Sciences and Engineering Department, Sorbonne University Abu Dhabi, Abu Dhabi, PO Box, 38044 UAE; Smart Materials Lab, New York University Abu Dhabi, Abu Dhabi, PO Box, 129188 UAE',\n",
       " 'Clinique du Vertige, Centre Hospitalier Emile Mayrisch, Esch-sur-Alzette',\n",
       " 'Department of Sciences and Engineering, Sorbonne University Abu Dhabi, PO Box 38044, Abu Dhabi, UAE; Smart Materials Lab, New York University, Abu Dhabi, PO Box 38044, Abu Dhabi, UAE',\n",
       " '[\"Unité de biologie, département des sciences de la vie et de la terre, Centre régional des métiers de l\\'éducation et de la formation (CRMEF), Marrakech BP 797, Maroc.\"]',\n",
       " 'Science and Engineering Department, Sorbonne University Abu Dhabi, PO Box, 38044 Abu Dhabi, United Arab Emirates; Smart Materials Lab, New York University Abu Dhabi, PO Box, 129188 Abu Dhabi, United Arab Emirates',\n",
       " 'Department of Orthopedic Surgery, Hôpital Ambroise-Paré, Boulogne-Billancourt, France; Department of Orthopedic Surgery, Mayo Clinic, Jacksonville, FL, USA']"
      ]
     },
     "execution_count": 14,
     "metadata": {},
     "output_type": "execute_result"
    }
   ],
   "source": [
    "cleaned_affiliations = list(set(sum([clean_affiliations(affiliation) for affiliation in bad_affiliations], [])))\n",
    "cleaned_affiliations"
   ]
  },
  {
   "cell_type": "code",
   "execution_count": 15,
   "metadata": {},
   "outputs": [],
   "source": [
    "bad_institutions = [\"Sorbonne University\", \"EPFL\", \"Pondicherry Institute of Medical Sciences\",\n",
    "                    \"CRMEF\", \"Université de Sfax\", \"Renal Division and\", \"Institut Pasteur\", \"SFP\", \n",
    "                    \"Hôpital Ambroise-Paré, Boulogne-Billancourt\", \"Dipartimento di Scienze e Tecnologie Chimiche\",\n",
    "                    \"Centre Hospitalier Emile Mayrisch\", \"Montimage\"]\n",
    "\n",
    "def apply_bad_institutions(affiliation_string):\n",
    "    for institution in bad_institutions:\n",
    "        if institution in affiliation_string:\n",
    "            return institution\n",
    "    return \"Other\"\n",
    "\n",
    "bad_affiliations_df[\"bad_institutions\"] = bad_affiliations_df[\"coverage.last_error_data\"].apply(apply_bad_institutions)"
   ]
  },
  {
   "cell_type": "code",
   "execution_count": 16,
   "metadata": {},
   "outputs": [
    {
     "data": {
      "image/png": "[encoded data removed]",
      "text/plain": [
       "<Figure size 640x480 with 1 Axes>"
      ]
     },
     "metadata": {},
     "output_type": "display_data"
    }
   ],
   "source": [
    "sns.countplot(bad_affiliations_df, y=\"bad_institutions\", hue=\"bad_institutions\")\n",
    "plt.show()"
   ]
  },
  {
   "cell_type": "code",
   "execution_count": 17,
   "metadata": {},
   "outputs": [
    {
     "data": {
      "text/html": [
       "<div>\n",
       "<style scoped>\n",
       "    .dataframe tbody tr th:only-of-type {\n",
       "        vertical-align: middle;\n",
       "    }\n",
       "\n",
       "    .dataframe tbody tr th {\n",
       "        vertical-align: top;\n",
       "    }\n",
       "\n",
       "    .dataframe thead th {\n",
       "        text-align: right;\n",
       "    }\n",
       "</style>\n",
       "<table border=\"1\" class=\"dataframe\">\n",
       "  <thead>\n",
       "    <tr style=\"text-align: right;\">\n",
       "      <th></th>\n",
       "      <th>index</th>\n",
       "      <th>id</th>\n",
       "      <th>doi</th>\n",
       "      <th>year</th>\n",
       "      <th>type</th>\n",
       "      <th>type_crossref</th>\n",
       "      <th>institutions</th>\n",
       "      <th>countries</th>\n",
       "      <th>primary_location</th>\n",
       "      <th>is_oa</th>\n",
       "      <th>coverage.last_state</th>\n",
       "      <th>coverage.last_error</th>\n",
       "      <th>coverage.last_error_data</th>\n",
       "      <th>bad_institutions</th>\n",
       "    </tr>\n",
       "  </thead>\n",
       "  <tbody>\n",
       "    <tr>\n",
       "      <th>7</th>\n",
       "      <td>25604</td>\n",
       "      <td>https://openalex.org/W3101925414</td>\n",
       "      <td>https://doi.org/10.1039/c9na00323a</td>\n",
       "      <td>2019</td>\n",
       "      <td>article</td>\n",
       "      <td>journal-article</td>\n",
       "      <td>[Foundation for Research and Technology Hellas...</td>\n",
       "      <td>[DE, FR, GR]</td>\n",
       "      <td>Nanoscale advances</td>\n",
       "      <td>True</td>\n",
       "      <td>IN_FOSM</td>\n",
       "      <td>MISMATCH_FRENCH_AFFILIATION</td>\n",
       "      <td>['Foundation of Research and Technology-Hellas...</td>\n",
       "      <td>Other</td>\n",
       "    </tr>\n",
       "    <tr>\n",
       "      <th>12</th>\n",
       "      <td>30139</td>\n",
       "      <td>https://openalex.org/W2893387639</td>\n",
       "      <td>https://doi.org/10.1109/icton.2018.8473898</td>\n",
       "      <td>2018</td>\n",
       "      <td>article</td>\n",
       "      <td>proceedings-article</td>\n",
       "      <td>[Centre Tecnologic De Telecomunicacions De Cat...</td>\n",
       "      <td>[FR, ES]</td>\n",
       "      <td>None</td>\n",
       "      <td>True</td>\n",
       "      <td>IN_FOSM</td>\n",
       "      <td>MISMATCH_FRENCH_AFFILIATION</td>\n",
       "      <td>['[ATOS]']</td>\n",
       "      <td>Other</td>\n",
       "    </tr>\n",
       "  </tbody>\n",
       "</table>\n",
       "</div>"
      ],
      "text/plain": [
       "    index                                id  \\\n",
       "7   25604  https://openalex.org/W3101925414   \n",
       "12  30139  https://openalex.org/W2893387639   \n",
       "\n",
       "                                           doi  year     type  \\\n",
       "7           https://doi.org/10.1039/c9na00323a  2019  article   \n",
       "12  https://doi.org/10.1109/icton.2018.8473898  2018  article   \n",
       "\n",
       "          type_crossref                                       institutions  \\\n",
       "7       journal-article  [Foundation for Research and Technology Hellas...   \n",
       "12  proceedings-article  [Centre Tecnologic De Telecomunicacions De Cat...   \n",
       "\n",
       "       countries    primary_location  is_oa coverage.last_state  \\\n",
       "7   [DE, FR, GR]  Nanoscale advances   True             IN_FOSM   \n",
       "12      [FR, ES]                None   True             IN_FOSM   \n",
       "\n",
       "            coverage.last_error  \\\n",
       "7   MISMATCH_FRENCH_AFFILIATION   \n",
       "12  MISMATCH_FRENCH_AFFILIATION   \n",
       "\n",
       "                             coverage.last_error_data bad_institutions  \n",
       "7   ['Foundation of Research and Technology-Hellas...            Other  \n",
       "12                                         ['[ATOS]']            Other  "
      ]
     },
     "execution_count": 17,
     "metadata": {},
     "output_type": "execute_result"
    }
   ],
   "source": [
    "bad_affiliations_df[bad_affiliations_df[\"bad_institutions\"] == \"Other\"]"
   ]
  },
  {
   "cell_type": "markdown",
   "metadata": {},
   "source": [
    "# Various analysis"
   ]
  },
  {
   "cell_type": "code",
   "execution_count": 18,
   "metadata": {},
   "outputs": [
    {
     "data": {
      "text/plain": [
       "id                                           https://openalex.org/W4205284904\n",
       "doi                               https://doi.org/10.1007/978-3-030-92684-7_8\n",
       "year                                                                     2021\n",
       "type                                                             book-chapter\n",
       "type_crossref                                                    book-chapter\n",
       "institutions                [EURECOM, Ikerlan, Construcciones y Auxiliar d...\n",
       "countries                                                        [FR, ES, DE]\n",
       "primary_location                            Lecture Notes in Computer Science\n",
       "is_oa                                                                   False\n",
       "coverage.last_state                                                   IN_FOSM\n",
       "coverage.last_error                                                        OK\n",
       "coverage.last_error_data                                                 None\n",
       "Name: 87105, dtype: object"
      ]
     },
     "execution_count": 18,
     "metadata": {},
     "output_type": "execute_result"
    }
   ],
   "source": [
    "df[(df[\"coverage.last_state\"] == \"IN_FOSM\") & (df[\"coverage.last_error\"] == \"OK\")].iloc[14]"
   ]
  },
  {
   "cell_type": "code",
   "execution_count": 19,
   "metadata": {},
   "outputs": [
    {
     "data": {
      "text/html": [
       "<style>.renderjson a              { text-decoration: none; }\n",
       ".renderjson .disclosure    { color: grey; font-size: 125%; }\n",
       ".renderjson .syntax        { color: grey; }\n",
       ".renderjson .string        { color: #fe46a5; }\n",
       ".renderjson .number        { color: #0f9b8e; }\n",
       ".renderjson .boolean       { color: black; }\n",
       ".renderjson .key           { color: #2684ff; }\n",
       ".renderjson .keyword       { color: gray; }\n",
       ".renderjson .object.syntax { color: gray; }\n",
       ".renderjson .array.syntax  { color: gray; }</style><div id=\"ca103d76-4d14-4980-9104-86b4efc21ce4\"></div>"
      ],
      "text/plain": [
       "<IPython.core.display.HTML object>"
      ]
     },
     "metadata": {},
     "output_type": "display_data"
    },
    {
     "data": {
      "text/html": [
       "<script>var renderjson=function(){var t=function(){for(var t=[];arguments.length;)t.push(n(s(Array.prototype.shift.call(arguments)),o(Array.prototype.shift.call(arguments))));return t},n=function(){for(var t=Array.prototype.shift.call(arguments),e=0;e<arguments.length;e++)arguments[e].constructor==Array?n.apply(this,[t].concat(arguments[e])):t.appendChild(arguments[e]);return t},e=function(t,n){return t.insertBefore(n,t.firstChild),t},r=function(t,n){var e=n||Object.keys(t);for(var r in e)if(Object.hasOwnProperty.call(t,e[r]))return!1;return!0},o=function(t){return document.createTextNode(t)},s=function(t){var n=document.createElement(\"span\");return t&&(n.className=t),n},l=function(t,n,e){var r=document.createElement(\"a\");return n&&(r.className=n),r.appendChild(o(t)),r.href=\"#\",r.onclick=function(t){return e(),t&&t.stopPropagation(),!1},r};function a(i,c,u,p,y){var _=u?\"\":c,f=function(r,a,i,c,u){var f,g=s(c),h=function(){f||n(g.parentNode,f=e(u(),l(y.hide,\"disclosure\",(function(){f.style.display=\"none\",g.style.display=\"inline\"})))),f.style.display=\"inline\",g.style.display=\"none\"};n(g,l(y.show,\"disclosure\",h),t(c+\" syntax\",r),l(a,null,h),t(c+\" syntax\",i));var d=n(s(),o(_.slice(0,-1)),g);return p>0&&\"string\"!=c&&h(),d};return null===i?t(null,_,\"keyword\",\"null\"):void 0===i?t(null,_,\"keyword\",\"undefined\"):\"string\"==typeof i&&i.length>y.max_string_length?f('\"',i.substr(0,y.max_string_length)+\" ...\",'\"',\"string\",(function(){return n(s(\"string\"),t(null,_,\"string\",JSON.stringify(i)))})):\"object\"!=typeof i||[Number,String,Boolean,Date].indexOf(i.constructor)>=0?t(null,_,typeof i,JSON.stringify(i)):i.constructor==Array?0==i.length?t(null,_,\"array syntax\",\"[]\"):f(\"[\",y.collapse_msg(i.length),\"]\",\"array\",(function(){for(var e=n(s(\"array\"),t(\"array syntax\",\"[\",null,\"\\n\")),r=0;r<i.length;r++)n(e,a(y.replacer.call(i,r,i[r]),c+\"    \",!1,p-1,y),r!=i.length-1?t(\"syntax\",\",\"):[],o(\"\\n\"));return n(e,t(null,c,\"array syntax\",\"]\")),e})):r(i,y.property_list)?t(null,_,\"object syntax\",\"{}\"):f(\"{\",y.collapse_msg(Object.keys(i).length),\"}\",\"object\",(function(){var e=n(s(\"object\"),t(\"object syntax\",\"{\",null,\"\\n\"));for(var r in i)var l=r;var u=y.property_list||Object.keys(i);for(var _ in y.sort_objects&&(u=u.sort()),u){(r=u[_])in i&&n(e,t(null,c+\"    \",\"key\",'\"'+r+'\"',\"object syntax\",\": \"),a(y.replacer.call(i,r,i[r]),c+\"    \",!0,p-1,y),r!=l?t(\"syntax\",\",\"):[],o(\"\\n\"))}return n(e,t(null,c,\"object syntax\",\"}\")),e}))}var i=function t(e){var r=new Object(t.options);r.replacer=\"function\"==typeof r.replacer?r.replacer:function(t,n){return n};var o=n(document.createElement(\"pre\"),a(e,\"\",!1,r.show_to_level,r));return o.className=\"renderjson\",o};return i.set_icons=function(t,n){return i.options.show=t,i.options.hide=n,i},i.set_show_to_level=function(t){return i.options.show_to_level=\"string\"==typeof t&&\"all\"===t.toLowerCase()?Number.MAX_VALUE:t,i},i.set_max_string_length=function(t){return i.options.max_string_length=\"string\"==typeof t&&\"none\"===t.toLowerCase()?Number.MAX_VALUE:t,i},i.set_sort_objects=function(t){return i.options.sort_objects=t,i},i.set_replacer=function(t){return i.options.replacer=t,i},i.set_collapse_msg=function(t){return i.options.collapse_msg=t,i},i.set_property_list=function(t){return i.options.property_list=t,i},i.set_show_by_default=function(t){return i.options.show_to_level=t?Number.MAX_VALUE:0,i},i.options={},i.set_icons(\"⊕\",\"⊖\"),i.set_show_by_default(!1),i.set_sort_objects(!1),i.set_max_string_length(\"none\"),i.set_replacer(void 0),i.set_property_list(void 0),i.set_collapse_msg((function(t){return t+\" item\"+(1==t?\"\":\"s\")})),i}(); renderjson.set_show_to_level(1); document.getElementById(\"ca103d76-4d14-4980-9104-86b4efc21ce4\").appendChild(renderjson({\"id\": \"https://openalex.org/W2924329629\", \"doi\": \"https://doi.org/10.1016/j.euroneuro.2017.08.119\", \"title\": \"QUANTIFYING THE EFFECT OF COPY-NUMBER VARIANTS ON GENERAL INTELLIGENCE IN UNSELECTED POPULATIONS\", \"display_name\": \"QUANTIFYING THE EFFECT OF COPY-NUMBER VARIANTS ON GENERAL INTELLIGENCE IN UNSELECTED POPULATIONS\", \"publication_year\": 2019, \"publication_date\": \"2019-01-01\", \"ids\": {\"openalex\": \"https://openalex.org/W2924329629\", \"doi\": \"https://doi.org/10.1016/j.euroneuro.2017.08.119\", \"mag\": \"2924329629\"}, \"language\": \"en\", \"primary_location\": {\"is_oa\": false, \"landing_page_url\": \"https://doi.org/10.1016/j.euroneuro.2017.08.119\", \"pdf_url\": null, \"source\": {\"id\": \"https://openalex.org/S168041952\", \"display_name\": \"European Neuropsychopharmacology\", \"issn_l\": \"0924-977X\", \"issn\": [\"1873-7862\", \"0924-977X\"], \"is_oa\": false, \"is_in_doaj\": false, \"host_organization\": \"https://openalex.org/P4310320990\", \"host_organization_name\": \"Elsevier BV\", \"host_organization_lineage\": [\"https://openalex.org/P4310320990\"], \"host_organization_lineage_names\": [\"Elsevier BV\"], \"type\": \"journal\"}, \"license\": null, \"version\": null, \"is_accepted\": false, \"is_published\": false}, \"type\": \"article\", \"type_crossref\": \"journal-article\", \"open_access\": {\"is_oa\": false, \"oa_status\": \"closed\", \"oa_url\": null, \"any_repository_has_fulltext\": false}, \"authorships\": [{\"author_position\": \"first\", \"author\": {\"id\": \"https://openalex.org/A5034224130\", \"display_name\": \"Guillaume Huguet\", \"orcid\": \"https://orcid.org/0000-0002-4746-6030\"}, \"institutions\": [{\"id\": \"https://openalex.org/I2802351361\", \"display_name\": \"Centre Hospitalier Universitaire Sainte-Justine\", \"ror\": \"https://ror.org/01gv74p78\", \"country_code\": \"CA\", \"type\": \"healthcare\", \"lineage\": [\"https://openalex.org/I2802351361\"]}], \"countries\": [\"CA\"], \"is_corresponding\": false, \"raw_author_name\": \"Guillaume Huguet\", \"raw_affiliation_string\": \"Sainte Justine Hospital\", \"raw_affiliation_strings\": [\"Sainte Justine Hospital\"]}, {\"author_position\": \"middle\", \"author\": {\"id\": \"https://openalex.org/A5080386049\", \"display_name\": \"Catherine Schramm\", \"orcid\": \"https://orcid.org/0000-0002-1185-8809\"}, \"institutions\": [{\"id\": \"https://openalex.org/I2802351361\", \"display_name\": \"Centre Hospitalier Universitaire Sainte-Justine\", \"ror\": \"https://ror.org/01gv74p78\", \"country_code\": \"CA\", \"type\": \"healthcare\", \"lineage\": [\"https://openalex.org/I2802351361\"]}], \"countries\": [\"CA\"], \"is_corresponding\": false, \"raw_author_name\": \"Catherine Schramm\", \"raw_affiliation_string\": \"Sainte Justine Hospital\", \"raw_affiliation_strings\": [\"Sainte Justine Hospital\"]}, {\"author_position\": \"middle\", \"author\": {\"id\": \"https://openalex.org/A5014792446\", \"display_name\": \"\\u00c9lise Douard\", \"orcid\": \"https://orcid.org/0000-0003-4205-8828\"}, \"institutions\": [{\"id\": \"https://openalex.org/I2802351361\", \"display_name\": \"Centre Hospitalier Universitaire Sainte-Justine\", \"ror\": \"https://ror.org/01gv74p78\", \"country_code\": \"CA\", \"type\": \"healthcare\", \"lineage\": [\"https://openalex.org/I2802351361\"]}], \"countries\": [\"CA\"], \"is_corresponding\": false, \"raw_author_name\": \"Elise Douard\", \"raw_affiliation_string\": \"Sainte Justine Hospital\", \"raw_affiliation_strings\": [\"Sainte Justine Hospital\"]}, {\"author_position\": \"middle\", \"author\": {\"id\": \"https://openalex.org/A5045784932\", \"display_name\": \"Lai Jiang\", \"orcid\": \"https://orcid.org/0000-0002-0244-4620\"}, \"institutions\": [{\"id\": \"https://openalex.org/I2801824472\", \"display_name\": \"Jewish General Hospital\", \"ror\": \"https://ror.org/056jjra10\", \"country_code\": \"CA\", \"type\": \"healthcare\", \"lineage\": [\"https://openalex.org/I2801824472\"]}], \"countries\": [\"CA\"], \"is_corresponding\": false, \"raw_author_name\": \"Lai Jiang\", \"raw_affiliation_string\": \"Lady Davis Institute for Medical Research Jewish General Hospital\", \"raw_affiliation_strings\": [\"Lady Davis Institute for Medical Research Jewish General Hospital\"]}, {\"author_position\": \"middle\", \"author\": {\"id\": \"https://openalex.org/A5012113953\", \"display_name\": \"Aur\\u00e9lie Labbe\", \"orcid\": null}, \"institutions\": [{\"id\": \"https://openalex.org/I108192572\", \"display_name\": \"HEC Montr\\u00e9al\", \"ror\": \"https://ror.org/05ww3wq27\", \"country_code\": \"CA\", \"type\": \"education\", \"lineage\": [\"https://openalex.org/I108192572\"]}], \"countries\": [\"CA\"], \"is_corresponding\": false, \"raw_author_name\": \"Aur\\u00e9lie Labbe\", \"raw_affiliation_string\": \"HEC MONTREAL\", \"raw_affiliation_strings\": [\"HEC MONTREAL\"]}, {\"author_position\": \"middle\", \"author\": {\"id\": \"https://openalex.org/A5038301668\", \"display_name\": \"Jean\\u2010Baptiste Poline\", \"orcid\": null}, \"institutions\": [], \"countries\": [], \"is_corresponding\": false, \"raw_author_name\": \"Jean-Baptiste Poline\", \"raw_affiliation_string\": \"Berkeley University\", \"raw_affiliation_strings\": [\"Berkeley University\"]}, {\"author_position\": \"middle\", \"author\": {\"id\": \"https://openalex.org/A5084621122\", \"display_name\": \"Eva Loth\", \"orcid\": \"https://orcid.org/0000-0001-9458-9167\"}, \"institutions\": [{\"id\": \"https://openalex.org/I183935753\", \"display_name\": \"King's College London\", \"ror\": \"https://ror.org/0220mzb33\", \"country_code\": \"GB\", \"type\": \"education\", \"lineage\": [\"https://openalex.org/I124357947\", \"https://openalex.org/I183935753\"]}], \"countries\": [\"GB\"], \"is_corresponding\": false, \"raw_author_name\": \"Eva Loth\", \"raw_affiliation_string\": \" \\u2020Institute of Psychiatry, Psychology and Neuroscience, King's College London\", \"raw_affiliation_strings\": [\" \\u2020Institute of Psychiatry, Psychology and Neuroscience, King's College London\"]}, {\"author_position\": \"middle\", \"author\": {\"id\": \"https://openalex.org/A5060691219\", \"display_name\": \"Roberto Toro\", \"orcid\": \"https://orcid.org/0000-0002-6671-858X\"}, \"institutions\": [{\"id\": \"https://openalex.org/I157536573\", \"display_name\": \"Institut Pasteur\", \"ror\": \"https://ror.org/0495fxg12\", \"country_code\": \"FR\", \"type\": \"nonprofit\", \"lineage\": [\"https://openalex.org/I157536573\"]}], \"countries\": [\"FR\"], \"is_corresponding\": false, \"raw_author_name\": \"Roberto Toro\", \"raw_affiliation_string\": \"Institut Pasteur\", \"raw_affiliation_strings\": [\"Institut Pasteur\"]}, {\"author_position\": \"middle\", \"author\": {\"id\": \"https://openalex.org/A5090364896\", \"display_name\": \"G\\u00fcnter Schumann\", \"orcid\": \"https://orcid.org/0000-0002-7740-6469\"}, \"institutions\": [{\"id\": \"https://openalex.org/I183935753\", \"display_name\": \"King's College London\", \"ror\": \"https://ror.org/0220mzb33\", \"country_code\": \"GB\", \"type\": \"education\", \"lineage\": [\"https://openalex.org/I124357947\", \"https://openalex.org/I183935753\"]}], \"countries\": [\"GB\"], \"is_corresponding\": false, \"raw_author_name\": \"Gunter Schumann\", \"raw_affiliation_string\": \" \\u2020Institute of Psychiatry, Psychology and Neuroscience, King's College London\", \"raw_affiliation_strings\": [\" \\u2020Institute of Psychiatry, Psychology and Neuroscience, King's College London\"]}, {\"author_position\": \"middle\", \"author\": {\"id\": \"https://openalex.org/A5054548219\", \"display_name\": \"Patricia Conrod\", \"orcid\": \"https://orcid.org/0000-0002-5570-481X\"}, \"institutions\": [{\"id\": \"https://openalex.org/I2802351361\", \"display_name\": \"Centre Hospitalier Universitaire Sainte-Justine\", \"ror\": \"https://ror.org/01gv74p78\", \"country_code\": \"CA\", \"type\": \"healthcare\", \"lineage\": [\"https://openalex.org/I2802351361\"]}], \"countries\": [\"CA\"], \"is_corresponding\": false, \"raw_author_name\": \"Patricia Conrod\", \"raw_affiliation_string\": \"Sainte Justine Hospital\", \"raw_affiliation_strings\": [\"Sainte Justine Hospital\"]}, {\"author_position\": \"middle\", \"author\": {\"id\": \"https://openalex.org/A5027349128\", \"display_name\": \"Zdenka Pausov\\u00e1\", \"orcid\": \"https://orcid.org/0000-0002-7784-1380\"}, \"institutions\": [{\"id\": \"https://openalex.org/I45129253\", \"display_name\": \"University College London\", \"ror\": \"https://ror.org/02jx3x895\", \"country_code\": \"GB\", \"type\": \"education\", \"lineage\": [\"https://openalex.org/I124357947\", \"https://openalex.org/I45129253\"]}, {\"id\": \"https://openalex.org/I4210141030\", \"display_name\": \"SickKids Foundation\", \"ror\": \"https://ror.org/04374qe70\", \"country_code\": \"CA\", \"type\": \"nonprofit\", \"lineage\": [\"https://openalex.org/I4210141030\"]}, {\"id\": \"https://openalex.org/I2801317318\", \"display_name\": \"Hospital for Sick Children\", \"ror\": \"https://ror.org/057q4rt57\", \"country_code\": \"CA\", \"type\": \"healthcare\", \"lineage\": [\"https://openalex.org/I2801317318\"]}, {\"id\": \"https://openalex.org/I2800129641\", \"display_name\": \"Great Ormond Street Hospital\", \"ror\": \"https://ror.org/00zn2c847\", \"country_code\": \"GB\", \"type\": \"healthcare\", \"lineage\": [\"https://openalex.org/I2800129641\", \"https://openalex.org/I2800349819\"]}, {\"id\": \"https://openalex.org/I185261750\", \"display_name\": \"University of Toronto\", \"ror\": \"https://ror.org/03dbr7087\", \"country_code\": \"CA\", \"type\": \"education\", \"lineage\": [\"https://openalex.org/I185261750\"]}], \"countries\": [\"CA\", \"GB\"], \"is_corresponding\": false, \"raw_author_name\": \"Zdenka Pausova\", \"raw_affiliation_string\": \"The Hospital for Sick Children, University of Toronto\", \"raw_affiliation_strings\": [\"The Hospital for Sick Children, University of Toronto\"]}, {\"author_position\": \"middle\", \"author\": {\"id\": \"https://openalex.org/A5075344723\", \"display_name\": \"Celia Greenwood\", \"orcid\": null}, \"institutions\": [{\"id\": \"https://openalex.org/I2801824472\", \"display_name\": \"Jewish General Hospital\", \"ror\": \"https://ror.org/056jjra10\", \"country_code\": \"CA\", \"type\": \"healthcare\", \"lineage\": [\"https://openalex.org/I2801824472\"]}], \"countries\": [\"CA\"], \"is_corresponding\": false, \"raw_author_name\": \"Celia Greenwood\", \"raw_affiliation_string\": \"Lady Davis Institute for Medical Research Jewish General Hospital\", \"raw_affiliation_strings\": [\"Lady Davis Institute for Medical Research Jewish General Hospital\"]}, {\"author_position\": \"middle\", \"author\": {\"id\": \"https://openalex.org/A5008874281\", \"display_name\": \"Tom\\u00e1\\u0161 Paus\", \"orcid\": \"https://orcid.org/0000-0003-1495-9338\"}, \"institutions\": [{\"id\": \"https://openalex.org/I185261750\", \"display_name\": \"University of Toronto\", \"ror\": \"https://ror.org/03dbr7087\", \"country_code\": \"CA\", \"type\": \"education\", \"lineage\": [\"https://openalex.org/I185261750\"]}], \"countries\": [\"CA\"], \"is_corresponding\": false, \"raw_author_name\": \"Tomas Paus\", \"raw_affiliation_string\": \"Rotman Research Institute, University of Toronto#TAB#\", \"raw_affiliation_strings\": [\"Rotman Research Institute, University of Toronto#TAB#\"]}, {\"author_position\": \"middle\", \"author\": {\"id\": \"https://openalex.org/A5084411567\", \"display_name\": \"Thomas Bourgeron\", \"orcid\": \"https://orcid.org/0000-0001-8164-9220\"}, \"institutions\": [{\"id\": \"https://openalex.org/I157536573\", \"display_name\": \"Institut Pasteur\", \"ror\": \"https://ror.org/0495fxg12\", \"country_code\": \"FR\", \"type\": \"nonprofit\", \"lineage\": [\"https://openalex.org/I157536573\"]}], \"countries\": [\"FR\"], \"is_corresponding\": false, \"raw_author_name\": \"Thomas Bourgeron\", \"raw_affiliation_string\": \"Institut Pasteur\", \"raw_affiliation_strings\": [\"Institut Pasteur\"]}, {\"author_position\": \"last\", \"author\": {\"id\": \"https://openalex.org/A5076029433\", \"display_name\": \"S\\u00e9bastien Jacquemont\", \"orcid\": \"https://orcid.org/0000-0001-6838-8767\"}, \"institutions\": [{\"id\": \"https://openalex.org/I2802351361\", \"display_name\": \"Centre Hospitalier Universitaire Sainte-Justine\", \"ror\": \"https://ror.org/01gv74p78\", \"country_code\": \"CA\", \"type\": \"healthcare\", \"lineage\": [\"https://openalex.org/I2802351361\"]}], \"countries\": [\"CA\"], \"is_corresponding\": false, \"raw_author_name\": \"S\\u00e9bastien Jacquemont\", \"raw_affiliation_string\": \"Sainte Justine Hospital\", \"raw_affiliation_strings\": [\"Sainte Justine Hospital\"]}], \"countries_distinct_count\": 3, \"institutions_distinct_count\": 10, \"corresponding_author_ids\": [], \"corresponding_institution_ids\": [], \"apc_list\": {\"value\": 3000, \"currency\": \"USD\", \"value_usd\": 3000, \"provenance\": \"doaj\"}, \"apc_paid\": {\"value\": 3000, \"currency\": \"USD\", \"value_usd\": 3000, \"provenance\": \"doaj\"}, \"has_fulltext\": true, \"fulltext_origin\": \"ngrams\", \"cited_by_count\": 0, \"cited_by_percentile_year\": {\"min\": 0.0, \"max\": 69.0}, \"biblio\": {\"volume\": \"29\", \"issue\": null, \"first_page\": \"S848\", \"last_page\": \"S848\"}, \"is_retracted\": false, \"is_paratext\": false, \"keywords\": [{\"keyword\": \"populations\", \"score\": 0.4756}, {\"keyword\": \"intelligence\", \"score\": 0.453}, {\"keyword\": \"variants\", \"score\": 0.3924}, {\"keyword\": \"copy-number\", \"score\": 0.25}], \"concepts\": [{\"id\": \"https://openalex.org/C120821319\", \"wikidata\": \"https://www.wikidata.org/wiki/Q1501491\", \"display_name\": \"Copy-number variation\", \"level\": 4, \"score\": 0.90275776}, {\"id\": \"https://openalex.org/C31467283\", \"wikidata\": \"https://www.wikidata.org/wiki/Q912147\", \"display_name\": \"Genotyping\", \"level\": 4, \"score\": 0.5522579}, {\"id\": \"https://openalex.org/C2908647359\", \"wikidata\": \"https://www.wikidata.org/wiki/Q2625603\", \"display_name\": \"Population\", \"level\": 2, \"score\": 0.49687913}, {\"id\": \"https://openalex.org/C166047926\", \"wikidata\": \"https://www.wikidata.org/wiki/Q170277\", \"display_name\": \"Intelligence quotient\", \"level\": 3, \"score\": 0.48590222}, {\"id\": \"https://openalex.org/C55548728\", \"wikidata\": \"https://www.wikidata.org/wiki/Q1465102\", \"display_name\": \"Gene dosage\", \"level\": 4, \"score\": 0.46838406}, {\"id\": \"https://openalex.org/C54355233\", \"wikidata\": \"https://www.wikidata.org/wiki/Q7162\", \"display_name\": \"Genetics\", \"level\": 1, \"score\": 0.4455861}, {\"id\": \"https://openalex.org/C86803240\", \"wikidata\": \"https://www.wikidata.org/wiki/Q420\", \"display_name\": \"Biology\", \"level\": 0, \"score\": 0.38009697}, {\"id\": \"https://openalex.org/C104317684\", \"wikidata\": \"https://www.wikidata.org/wiki/Q7187\", \"display_name\": \"Gene\", \"level\": 2, \"score\": 0.37196457}, {\"id\": \"https://openalex.org/C169900460\", \"wikidata\": \"https://www.wikidata.org/wiki/Q2200417\", \"display_name\": \"Cognition\", \"level\": 2, \"score\": 0.29115444}, {\"id\": \"https://openalex.org/C71924100\", \"wikidata\": \"https://www.wikidata.org/wiki/Q11190\", \"display_name\": \"Medicine\", \"level\": 0, \"score\": 0.27942625}, {\"id\": \"https://openalex.org/C135763542\", \"wikidata\": \"https://www.wikidata.org/wiki/Q106016\", \"display_name\": \"Genotype\", \"level\": 3, \"score\": 0.19962037}, {\"id\": \"https://openalex.org/C150194340\", \"wikidata\": \"https://www.wikidata.org/wiki/Q26972\", \"display_name\": \"Gene expression\", \"level\": 3, \"score\": 0.17499647}, {\"id\": \"https://openalex.org/C141231307\", \"wikidata\": \"https://www.wikidata.org/wiki/Q7020\", \"display_name\": \"Genome\", \"level\": 3, \"score\": 0.17348298}, {\"id\": \"https://openalex.org/C169760540\", \"wikidata\": \"https://www.wikidata.org/wiki/Q207011\", \"display_name\": \"Neuroscience\", \"level\": 1, \"score\": 0.07158297}, {\"id\": \"https://openalex.org/C99454951\", \"wikidata\": \"https://www.wikidata.org/wiki/Q932068\", \"display_name\": \"Environmental health\", \"level\": 1, \"score\": 0.0}], \"mesh\": [], \"locations_count\": 1, \"locations\": [{\"is_oa\": false, \"landing_page_url\": \"https://doi.org/10.1016/j.euroneuro.2017.08.119\", \"pdf_url\": null, \"source\": {\"id\": \"https://openalex.org/S168041952\", \"display_name\": \"European Neuropsychopharmacology\", \"issn_l\": \"0924-977X\", \"issn\": [\"1873-7862\", \"0924-977X\"], \"is_oa\": false, \"is_in_doaj\": false, \"host_organization\": \"https://openalex.org/P4310320990\", \"host_organization_name\": \"Elsevier BV\", \"host_organization_lineage\": [\"https://openalex.org/P4310320990\"], \"host_organization_lineage_names\": [\"Elsevier BV\"], \"type\": \"journal\"}, \"license\": null, \"version\": null, \"is_accepted\": false, \"is_published\": false}], \"best_oa_location\": null, \"sustainable_development_goals\": [{\"id\": \"https://metadata.un.org/sdg/4\", \"display_name\": \"Quality Education\", \"score\": 0.51}, {\"id\": \"https://metadata.un.org/sdg/3\", \"display_name\": \"Good health and well-being\", \"score\": 0.11}], \"grants\": [], \"referenced_works_count\": 0, \"referenced_works\": [], \"related_works\": [\"https://openalex.org/W2131096798\", \"https://openalex.org/W1978543818\", \"https://openalex.org/W2982435583\", \"https://openalex.org/W2157937412\", \"https://openalex.org/W2762374429\", \"https://openalex.org/W4281728878\", \"https://openalex.org/W2073217343\", \"https://openalex.org/W2000255544\", \"https://openalex.org/W4320057295\", \"https://openalex.org/W1968948145\"], \"ngrams_url\": \"https://api.openalex.org/works/W2924329629/ngrams\", \"abstract_inverted_index\": {\"Detection\": [0], \"of\": [1, 34, 37, 53, 67, 89, 93, 111, 178, 202, 223, 231, 253, 262, 301, 334, 351, 363], \"Copy\": [2], \"Number\": [3], \"Variants\": [4], \"(CNVs)\": [5], \"are\": [6, 28, 60, 70, 79], \"routinely\": [7], \"performed\": [8], \"in\": [9, 30, 102, 127, 221, 368], \"patients\": [10], \"with\": [11, 135], \"Neurodevelopmental\": [12], \"Disorders\": [13], \"(NDs)\": [14], \"and\": [15, 22, 95, 100, 107, 115, 123, 137, 149, 167, 183, 215, 228, 343], \"\\u201cClinically\": [16], \"significant\\u201d\": [17], \"CNVs,\": [18], \"defined\": [19], \"as\": [20, 186, 188], \"rare\": [21, 213, 232, 254, 291], \"large\": [23], \"CNVs\": [24, 41, 68, 90, 112, 131, 157, 174, 365], \"contributing\": [25], \"to\": [26, 32, 62, 180, 195, 248, 298], \"disease,\": [27], \"identified\": [29, 212], \"10\": [31], \"15%\": [33], \"patients.\": [35, 370], \"Effects\": [36], \"these\": [38], \"clinically\": [39], \"significant\": [40, 251], \"on\": [42, 77, 91, 113, 139, 176, 205, 256, 265, 273, 290, 336, 366], \"cognitive\": [43], \"traits\": [44], \"have\": [45], \"been\": [46], \"studied\": [47], \"for\": [48, 64, 143, 172, 307, 348], \"only\": [49], \"a\": [50, 73, 250, 267, 274, 345], \"small\": [51], \"number\": [52], \"recurrent\": [54, 310], \"CNVs.\": [55, 128, 311, 353], \"In\": [56], \"addition,\": [57], \"case-control\": [58], \"studies\": [59], \"impossible\": [61], \"perform\": [63], \">\": [65, 325], \"75%\": [66], \"that\": [69, 119, 317, 331], \"non-recurrent.\": [71], \"As\": [72], \"result,\": [74], \"their\": [75, 369], \"effects\": [76, 333], \"neurodevelopment\": [78], \"neither\": [80], \"characterized\": [81], \"nor\": [82], \"understood.\": [83], \"Objectives:\": [84], \"To\": [85, 105, 282], \"examine\": [86], \"the\": [87, 109, 144, 150, 197, 226, 260, 305, 332, 349, 361], \"effect\": [88, 110, 204, 252, 261], \"measures\": [92, 300], \"Performance\": [94], \"Verbal\": [96], \"Intelligence\": [97], \"Quotient\": [98], \"(PIQ\": [99], \"VIQ)\": [101], \"general\": [103, 145, 337], \"populations.\": [104], \"model\": [106, 270, 275, 285], \"predict\": [108], \"PIQ\": [114], \"VIQ\": [116], \"using\": [117, 207], \"variables\": [118, 199], \"characterize\": [120], \"gene\": [121, 189, 229], \"content\": [122, 169, 230], \"noncoding\": [124], \"regions\": [125], \"involved\": [126], \"We\": [129, 191, 211, 245], \"called\": [130], \"from\": [132, 304], \"genotyping\": [133], \"data\": [134], \"PennCNV\": [136], \"QuantiSNP\": [138], \"two\": [140], \"cohorts\": [141], \"drawn\": [142], \"population:\": [146], \"Imagen\": [147], \"(n=1804)\": [148], \"Saguenay\": [151], \"Youth\": [152], \"Study\": [153], \"(n=968).\": [154], \"Rare\": [155], \"(<1/1000)\": [156], \"\\u2265\": [158], \"50\": [159], \"kb\": [160, 220], \"were\": [161, 170, 246], \"validated\": [162], \"by\": [163, 241], \"visual\": [164], \"inspection.\": [165], \"Gene\": [166], \"regulatory\": [168], \"annotated\": [171], \"all\": [173, 263], \"based\": [175, 209], \"scores\": [177, 279], \"intolerances\": [179], \"mutation,\": [181], \"temporal\": [182], \"tissue\": [184], \"expression,\": [185], \"well\": [187], \"function.\": [190], \"tested\": [192], \"several\": [193], \"models\": [194], \"select\": [196], \"independent\": [198], \"most\": [200], \"predictive\": [201], \"CNV\": [203], \"IQ\": [206, 240, 302, 322], \"information\": [208], \"criteria.\": [210], \"deletion\": [214], \"duplications\": [216, 255], \"larger\": [217], \"than\": [218], \"250\": [219], \"10%\": [222], \"individuals.\": [224], \"Both\": [225], \"size\": [227], \"deletions\": [233, 237, 264, 335], \"decrease\": [234, 239], \"IQ,\": [235, 266], \"eg.\": [236], \"\\u2265250Kb\": [238], \"6\": [242], \"points\": [243], \"(p=2.10\\u20133).\": [244], \"unable\": [247], \"detect\": [249], \"IQ.\": [257], \"For\": [258], \"estimating\": [259], \"stepwise\": [268], \"linear\": [269], \"procedure\": [271], \"converged\": [272], \"including\": [276], \"mutation\": [277], \"intolerance\": [278], \"(pvalue\": [280], \"<10-4).\": [281], \"validate\": [283], \"our\": [284], \"which\": [286], \"is\": [287], \"built\": [288], \"mainly\": [289], \"non-recurrent\": [292, 352, 364], \"deletions,\": [293], \"we\": [294], \"compared\": [295], \"its\": [296], \"predictions\": [297, 318], \"empirical\": [299], \"loss\": [303], \"literature\": [306], \"12\": [308], \"known\": [309, 321], \"The\": [312], \"Intraclass\": [313], \"Coefficient\": [314], \"Correlation\": [315], \"shows\": [316], \"reliably\": [319, 341], \"match\": [320], \"losses\": [323], \"(ICC\": [324], \"80%,\": [326], \"p\\u22642.10\\u20133).\": [327], \"Our\": [328], \"results\": [329, 355], \"suggest\": [330], \"intelligence\": [338], \"can\": [339], \"be\": [340], \"modeled\": [342], \"represent\": [344], \"new\": [346], \"perspective\": [347], \"study\": [350], \"These\": [354], \"will\": [356], \"also\": [357], \"help\": [358], \"clinicians\": [359], \"estimate\": [360], \"impact\": [362], \"cognition\": [367]}, \"cited_by_api_url\": \"https://api.openalex.org/works?filter=cites:W2924329629\", \"counts_by_year\": [], \"updated_date\": \"2023-12-13T03:46:25.728362\", \"created_date\": \"2019-04-01\"}))</script>"
      ],
      "text/plain": [
       "<IPython.core.display.HTML object>"
      ]
     },
     "metadata": {},
     "output_type": "display_data"
    }
   ],
   "source": [
    "id = \"W2924329629\"\n",
    "response = requests.get(f\"https://api.openalex.org/works/{id}\").json()\n",
    "mercury.JSON(response)"
   ]
  },
  {
   "cell_type": "code",
   "execution_count": 20,
   "metadata": {},
   "outputs": [
    {
     "ename": "FileNotFoundError",
     "evalue": "[Errno 2] No such file or directory: 'data/openalex/part_018.jsonl'",
     "output_type": "error",
     "traceback": [
      "\u001b[1;31m---------------------------------------------------------------------------\u001b[0m",
      "\u001b[1;31mFileNotFoundError\u001b[0m                         Traceback (most recent call last)",
      "\u001b[1;32mc:\\Users\\vbarbier\\MESR\\bso-coverage\\2_analyse_data_openalex.ipynb Cell 25\u001b[0m line \u001b[0;36m1\n\u001b[1;32m----> <a href='vscode-notebook-cell:/c%3A/Users/vbarbier/MESR/bso-coverage/2_analyse_data_openalex.ipynb#X33sZmlsZQ%3D%3D?line=0'>1</a>\u001b[0m \u001b[39mwith\u001b[39;00m \u001b[39mopen\u001b[39;49m(\u001b[39mf\u001b[39;49m\u001b[39m\"\u001b[39;49m\u001b[39mdata/openalex/part_018.jsonl\u001b[39;49m\u001b[39m\"\u001b[39;49m) \u001b[39mas\u001b[39;00m f:\n\u001b[0;32m      <a href='vscode-notebook-cell:/c%3A/Users/vbarbier/MESR/bso-coverage/2_analyse_data_openalex.ipynb#X33sZmlsZQ%3D%3D?line=1'>2</a>\u001b[0m     total \u001b[39m=\u001b[39m \u001b[39m0\u001b[39m\n\u001b[0;32m      <a href='vscode-notebook-cell:/c%3A/Users/vbarbier/MESR/bso-coverage/2_analyse_data_openalex.ipynb#X33sZmlsZQ%3D%3D?line=2'>3</a>\u001b[0m     total_fr \u001b[39m=\u001b[39m \u001b[39m0\u001b[39m\n",
      "File \u001b[1;32mc:\\Users\\vbarbier\\AppData\\Local\\Programs\\Python\\Python311\\Lib\\site-packages\\IPython\\core\\interactiveshell.py:286\u001b[0m, in \u001b[0;36m_modified_open\u001b[1;34m(file, *args, **kwargs)\u001b[0m\n\u001b[0;32m    279\u001b[0m \u001b[39mif\u001b[39;00m file \u001b[39min\u001b[39;00m {\u001b[39m0\u001b[39m, \u001b[39m1\u001b[39m, \u001b[39m2\u001b[39m}:\n\u001b[0;32m    280\u001b[0m     \u001b[39mraise\u001b[39;00m \u001b[39mValueError\u001b[39;00m(\n\u001b[0;32m    281\u001b[0m         \u001b[39mf\u001b[39m\u001b[39m\"\u001b[39m\u001b[39mIPython won\u001b[39m\u001b[39m'\u001b[39m\u001b[39mt let you open fd=\u001b[39m\u001b[39m{\u001b[39;00mfile\u001b[39m}\u001b[39;00m\u001b[39m by default \u001b[39m\u001b[39m\"\u001b[39m\n\u001b[0;32m    282\u001b[0m         \u001b[39m\"\u001b[39m\u001b[39mas it is likely to crash IPython. If you know what you are doing, \u001b[39m\u001b[39m\"\u001b[39m\n\u001b[0;32m    283\u001b[0m         \u001b[39m\"\u001b[39m\u001b[39myou can use builtins\u001b[39m\u001b[39m'\u001b[39m\u001b[39m open.\u001b[39m\u001b[39m\"\u001b[39m\n\u001b[0;32m    284\u001b[0m     )\n\u001b[1;32m--> 286\u001b[0m \u001b[39mreturn\u001b[39;00m io_open(file, \u001b[39m*\u001b[39;49margs, \u001b[39m*\u001b[39;49m\u001b[39m*\u001b[39;49mkwargs)\n",
      "\u001b[1;31mFileNotFoundError\u001b[0m: [Errno 2] No such file or directory: 'data/openalex/part_018.jsonl'"
     ]
    }
   ],
   "source": [
    "with open(f\"data/openalex/part_018.jsonl\") as f:\n",
    "    total = 0\n",
    "    total_fr = 0\n",
    "    for line in f:\n",
    "        total +=1\n",
    "        publication = json.loads(line)\n",
    "        publication_year = publication.get(\"publication_year\")\n",
    "        if publication_year is None or publication_year < 2018 or publication_year > 2023:\n",
    "            continue\n",
    "        is_paratext = publication.get(\"is_paratext\")\n",
    "        if is_paratext:\n",
    "            continue\n",
    "        if \"authorships\" in publication:\n",
    "                countries = []\n",
    "                for authorship in publication.get(\"authorships\"):\n",
    "                    countries += authorship.get(\"countries\")\n",
    "                if \"FR\" in countries:\n",
    "                    total_fr +=1"
   ]
  },
  {
   "cell_type": "code",
   "execution_count": null,
   "metadata": {},
   "outputs": [],
   "source": [
    "test = pd.read_json(\"data/openalex/openalex_2021_2021.json\")"
   ]
  },
  {
   "cell_type": "code",
   "execution_count": null,
   "metadata": {},
   "outputs": [],
   "source": [
    "test_ids = test[\"id\"].to_list()"
   ]
  }
 ],
 "metadata": {
  "kernelspec": {
   "display_name": "Python 3",
   "language": "python",
   "name": "python3"
  },
  "language_info": {
   "codemirror_mode": {
    "name": "ipython",
    "version": 3
   },
   "file_extension": ".py",
   "mimetype": "text/x-python",
   "name": "python",
   "nbconvert_exporter": "python",
   "pygments_lexer": "ipython3",
   "version": "3.11.5"
  },
  "orig_nbformat": 4
 },
 "nbformat": 4,
 "nbformat_minor": 2
}
