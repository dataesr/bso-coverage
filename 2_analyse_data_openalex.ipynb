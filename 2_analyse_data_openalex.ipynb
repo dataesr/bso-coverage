{
 "cells": [
  {
   "cell_type": "code",
   "execution_count": 2,
   "metadata": {},
   "outputs": [],
   "source": [
    "import duckdb\n",
    "import pandas as pd\n",
    "import matplotlib.pyplot as plt\n",
    "import seaborn as sns\n",
    "import plotly.graph_objects as go\n",
    "import requests\n",
    "import mercury\n",
    "sns.set_theme(palette=\"tab10\")"
   ]
  },
  {
   "cell_type": "code",
   "execution_count": 91,
   "metadata": {},
   "outputs": [
    {
     "data": {
      "text/plain": [
       "<duckdb.duckdb.DuckDBPyConnection at 0x1b4b3cab670>"
      ]
     },
     "execution_count": 91,
     "metadata": {},
     "output_type": "execute_result"
    }
   ],
   "source": [
    "import duckdb\n",
    "\n",
    "duckdb.execute(\"\"\"\n",
    "COPY (SELECT * FROM 'data/openalex/*.parquet') TO 'merge.parquet' (FORMAT 'parquet');\n",
    "\"\"\")"
   ]
  },
  {
   "cell_type": "code",
   "execution_count": 3,
   "metadata": {},
   "outputs": [
    {
     "data": {
      "text/html": [
       "<div>\n",
       "<style scoped>\n",
       "    .dataframe tbody tr th:only-of-type {\n",
       "        vertical-align: middle;\n",
       "    }\n",
       "\n",
       "    .dataframe tbody tr th {\n",
       "        vertical-align: top;\n",
       "    }\n",
       "\n",
       "    .dataframe thead th {\n",
       "        text-align: right;\n",
       "    }\n",
       "</style>\n",
       "<table border=\"1\" class=\"dataframe\">\n",
       "  <thead>\n",
       "    <tr style=\"text-align: right;\">\n",
       "      <th></th>\n",
       "      <th>id</th>\n",
       "      <th>doi</th>\n",
       "      <th>year</th>\n",
       "      <th>type</th>\n",
       "      <th>type_crossref</th>\n",
       "      <th>institutions</th>\n",
       "      <th>countries</th>\n",
       "      <th>primary_location</th>\n",
       "      <th>is_oa</th>\n",
       "      <th>coverage.last_state</th>\n",
       "      <th>coverage.last_error</th>\n",
       "      <th>coverage.last_error_data</th>\n",
       "    </tr>\n",
       "  </thead>\n",
       "  <tbody>\n",
       "    <tr>\n",
       "      <th>0</th>\n",
       "      <td>https://openalex.org/W3103145119</td>\n",
       "      <td>https://doi.org/10.1038/s41592-019-0686-2</td>\n",
       "      <td>2020</td>\n",
       "      <td>article</td>\n",
       "      <td>journal-article</td>\n",
       "      <td>[Universidade Federal de Minas Gerais, Univers...</td>\n",
       "      <td>[FR, NL, AU, JP, RU, CA, FI, BR, GB, CZ, EE, US]</td>\n",
       "      <td>Nature Methods</td>\n",
       "      <td>True</td>\n",
       "      <td>IN_FOSM_FR</td>\n",
       "      <td>MISMATCH_TYPE</td>\n",
       "      <td>('journal-article', 'article')</td>\n",
       "    </tr>\n",
       "    <tr>\n",
       "      <th>1</th>\n",
       "      <td>https://openalex.org/W2970684805</td>\n",
       "      <td>https://doi.org/10.1136/bmj.l4898</td>\n",
       "      <td>2019</td>\n",
       "      <td>article</td>\n",
       "      <td>journal-article</td>\n",
       "      <td>[Cochrane, Monash University, Inserm, Harvard–...</td>\n",
       "      <td>[FR, AU, CA, GB, DK, US]</td>\n",
       "      <td>BMJ</td>\n",
       "      <td>True</td>\n",
       "      <td>IN_FOSM_FR</td>\n",
       "      <td>MISMATCH_TYPE</td>\n",
       "      <td>('journal-article', 'article')</td>\n",
       "    </tr>\n",
       "  </tbody>\n",
       "</table>\n",
       "</div>"
      ],
      "text/plain": [
       "                                 id  \\\n",
       "0  https://openalex.org/W3103145119   \n",
       "1  https://openalex.org/W2970684805   \n",
       "\n",
       "                                         doi  year     type    type_crossref  \\\n",
       "0  https://doi.org/10.1038/s41592-019-0686-2  2020  article  journal-article   \n",
       "1          https://doi.org/10.1136/bmj.l4898  2019  article  journal-article   \n",
       "\n",
       "                                        institutions  \\\n",
       "0  [Universidade Federal de Minas Gerais, Univers...   \n",
       "1  [Cochrane, Monash University, Inserm, Harvard–...   \n",
       "\n",
       "                                          countries primary_location  is_oa  \\\n",
       "0  [FR, NL, AU, JP, RU, CA, FI, BR, GB, CZ, EE, US]   Nature Methods   True   \n",
       "1                          [FR, AU, CA, GB, DK, US]              BMJ   True   \n",
       "\n",
       "  coverage.last_state coverage.last_error        coverage.last_error_data  \n",
       "0          IN_FOSM_FR       MISMATCH_TYPE  ('journal-article', 'article')  \n",
       "1          IN_FOSM_FR       MISMATCH_TYPE  ('journal-article', 'article')  "
      ]
     },
     "metadata": {},
     "output_type": "display_data"
    }
   ],
   "source": [
    "part000 = pd.read_parquet(\"merge.parquet\")\n",
    "display(part000.head(2))"
   ]
  },
  {
   "cell_type": "code",
   "execution_count": 27,
   "metadata": {},
   "outputs": [
    {
     "data": {
      "text/html": [
       "<div>\n",
       "<style scoped>\n",
       "    .dataframe tbody tr th:only-of-type {\n",
       "        vertical-align: middle;\n",
       "    }\n",
       "\n",
       "    .dataframe tbody tr th {\n",
       "        vertical-align: top;\n",
       "    }\n",
       "\n",
       "    .dataframe thead th {\n",
       "        text-align: right;\n",
       "    }\n",
       "</style>\n",
       "<table border=\"1\" class=\"dataframe\">\n",
       "  <thead>\n",
       "    <tr style=\"text-align: right;\">\n",
       "      <th></th>\n",
       "      <th>id</th>\n",
       "      <th>doi</th>\n",
       "      <th>coverage.last_error_data</th>\n",
       "    </tr>\n",
       "  </thead>\n",
       "  <tbody>\n",
       "    <tr>\n",
       "      <th>2049</th>\n",
       "      <td>https://openalex.org/W2805870922</td>\n",
       "      <td>https://doi.org/10.1681/asn.2017121260</td>\n",
       "      <td>['Division of Nephrology and Hypertension, Cen...</td>\n",
       "    </tr>\n",
       "    <tr>\n",
       "      <th>10381</th>\n",
       "      <td>https://openalex.org/W2889373178</td>\n",
       "      <td>https://doi.org/10.1039/c8nr05787g</td>\n",
       "      <td>['1015 Lausanne; EPFL; Laboratoire des Matéria...</td>\n",
       "    </tr>\n",
       "    <tr>\n",
       "      <th>11188</th>\n",
       "      <td>https://openalex.org/W2887463283</td>\n",
       "      <td>https://doi.org/10.12688/f1000research.14417.1</td>\n",
       "      <td>['Clinique du Vertige, Centre Hospitalier Emil...</td>\n",
       "    </tr>\n",
       "    <tr>\n",
       "      <th>11933</th>\n",
       "      <td>https://openalex.org/W4225140177</td>\n",
       "      <td>https://doi.org/10.1038/s41467-022-29959-1</td>\n",
       "      <td>['Department of Sciences and Engineering, Sorb...</td>\n",
       "    </tr>\n",
       "    <tr>\n",
       "      <th>15831</th>\n",
       "      <td>https://openalex.org/W3080555168</td>\n",
       "      <td>https://doi.org/10.1145/3407023.3409219</td>\n",
       "      <td>['Montimage']</td>\n",
       "    </tr>\n",
       "    <tr>\n",
       "      <th>17668</th>\n",
       "      <td>https://openalex.org/W4223896490</td>\n",
       "      <td>https://doi.org/10.1007/s00500-022-07068-x</td>\n",
       "      <td>['Sorbonne Center of Artificial Intelligence, ...</td>\n",
       "    </tr>\n",
       "    <tr>\n",
       "      <th>23124</th>\n",
       "      <td>https://openalex.org/W4224233561</td>\n",
       "      <td>https://doi.org/10.1002/anie.202203938</td>\n",
       "      <td>['Department of Sciences and Engineering Sorbo...</td>\n",
       "    </tr>\n",
       "    <tr>\n",
       "      <th>25604</th>\n",
       "      <td>https://openalex.org/W3101925414</td>\n",
       "      <td>https://doi.org/10.1039/c9na00323a</td>\n",
       "      <td>['Foundation of Research and Technology-Hellas...</td>\n",
       "    </tr>\n",
       "    <tr>\n",
       "      <th>26874</th>\n",
       "      <td>https://openalex.org/W2992815577</td>\n",
       "      <td>https://doi.org/10.1039/c9nr08453c</td>\n",
       "      <td>['EPFL; Faculty of Engineering; Institute of M...</td>\n",
       "    </tr>\n",
       "    <tr>\n",
       "      <th>27790</th>\n",
       "      <td>https://openalex.org/W4226275118</td>\n",
       "      <td>https://doi.org/10.1021/acs.cgd.2c00225</td>\n",
       "      <td>['Department of Sciences and Engineering, Sorb...</td>\n",
       "    </tr>\n",
       "    <tr>\n",
       "      <th>27893</th>\n",
       "      <td>https://openalex.org/W4319458487</td>\n",
       "      <td>https://doi.org/10.1007/s42235-023-00336-y</td>\n",
       "      <td>['Sorbonne Center of Artificial Intelligence, ...</td>\n",
       "    </tr>\n",
       "    <tr>\n",
       "      <th>29717</th>\n",
       "      <td>https://openalex.org/W4280553732</td>\n",
       "      <td>https://doi.org/10.1038/s41467-022-30541-y</td>\n",
       "      <td>['Science and Engineering Department, Sorbonne...</td>\n",
       "    </tr>\n",
       "    <tr>\n",
       "      <th>30139</th>\n",
       "      <td>https://openalex.org/W2893387639</td>\n",
       "      <td>https://doi.org/10.1109/icton.2018.8473898</td>\n",
       "      <td>['[ATOS]']</td>\n",
       "    </tr>\n",
       "    <tr>\n",
       "      <th>30298</th>\n",
       "      <td>https://openalex.org/W2914858760</td>\n",
       "      <td>https://doi.org/10.2478/popets-2019-0017</td>\n",
       "      <td>['EPFL ,']</td>\n",
       "    </tr>\n",
       "    <tr>\n",
       "      <th>37029</th>\n",
       "      <td>https://openalex.org/W2787943086</td>\n",
       "      <td>https://doi.org/10.1039/c7cp07642h</td>\n",
       "      <td>['Dipartimento di Scienze e Tecnologie Chimich...</td>\n",
       "    </tr>\n",
       "    <tr>\n",
       "      <th>37753</th>\n",
       "      <td>https://openalex.org/W2970288042</td>\n",
       "      <td>https://doi.org/10.1177/0706743719870513</td>\n",
       "      <td>['Laboratoire de Biochimie, CHU Habib Bourguib...</td>\n",
       "    </tr>\n",
       "    <tr>\n",
       "      <th>38202</th>\n",
       "      <td>https://openalex.org/W3035525659</td>\n",
       "      <td>https://doi.org/10.7759/cureus.8636</td>\n",
       "      <td>['Medicine and Endocrinology, Pondicherry Inst...</td>\n",
       "    </tr>\n",
       "    <tr>\n",
       "      <th>39426</th>\n",
       "      <td>https://openalex.org/W4214887291</td>\n",
       "      <td>https://doi.org/10.1002/adfm.202112117</td>\n",
       "      <td>['Sciences and Engineering Department, Sorbonn...</td>\n",
       "    </tr>\n",
       "    <tr>\n",
       "      <th>42932</th>\n",
       "      <td>https://openalex.org/W4281618938</td>\n",
       "      <td>https://doi.org/10.1002/adom.202200627</td>\n",
       "      <td>['Department of Sciences and Engineering, Sorb...</td>\n",
       "    </tr>\n",
       "  </tbody>\n",
       "</table>\n",
       "</div>"
      ],
      "text/plain": [
       "                                     id  \\\n",
       "2049   https://openalex.org/W2805870922   \n",
       "10381  https://openalex.org/W2889373178   \n",
       "11188  https://openalex.org/W2887463283   \n",
       "11933  https://openalex.org/W4225140177   \n",
       "15831  https://openalex.org/W3080555168   \n",
       "17668  https://openalex.org/W4223896490   \n",
       "23124  https://openalex.org/W4224233561   \n",
       "25604  https://openalex.org/W3101925414   \n",
       "26874  https://openalex.org/W2992815577   \n",
       "27790  https://openalex.org/W4226275118   \n",
       "27893  https://openalex.org/W4319458487   \n",
       "29717  https://openalex.org/W4280553732   \n",
       "30139  https://openalex.org/W2893387639   \n",
       "30298  https://openalex.org/W2914858760   \n",
       "37029  https://openalex.org/W2787943086   \n",
       "37753  https://openalex.org/W2970288042   \n",
       "38202  https://openalex.org/W3035525659   \n",
       "39426  https://openalex.org/W4214887291   \n",
       "42932  https://openalex.org/W4281618938   \n",
       "\n",
       "                                                  doi  \\\n",
       "2049           https://doi.org/10.1681/asn.2017121260   \n",
       "10381              https://doi.org/10.1039/c8nr05787g   \n",
       "11188  https://doi.org/10.12688/f1000research.14417.1   \n",
       "11933      https://doi.org/10.1038/s41467-022-29959-1   \n",
       "15831         https://doi.org/10.1145/3407023.3409219   \n",
       "17668      https://doi.org/10.1007/s00500-022-07068-x   \n",
       "23124          https://doi.org/10.1002/anie.202203938   \n",
       "25604              https://doi.org/10.1039/c9na00323a   \n",
       "26874              https://doi.org/10.1039/c9nr08453c   \n",
       "27790         https://doi.org/10.1021/acs.cgd.2c00225   \n",
       "27893      https://doi.org/10.1007/s42235-023-00336-y   \n",
       "29717      https://doi.org/10.1038/s41467-022-30541-y   \n",
       "30139      https://doi.org/10.1109/icton.2018.8473898   \n",
       "30298        https://doi.org/10.2478/popets-2019-0017   \n",
       "37029              https://doi.org/10.1039/c7cp07642h   \n",
       "37753        https://doi.org/10.1177/0706743719870513   \n",
       "38202             https://doi.org/10.7759/cureus.8636   \n",
       "39426          https://doi.org/10.1002/adfm.202112117   \n",
       "42932          https://doi.org/10.1002/adom.202200627   \n",
       "\n",
       "                                coverage.last_error_data  \n",
       "2049   ['Division of Nephrology and Hypertension, Cen...  \n",
       "10381  ['1015 Lausanne; EPFL; Laboratoire des Matéria...  \n",
       "11188  ['Clinique du Vertige, Centre Hospitalier Emil...  \n",
       "11933  ['Department of Sciences and Engineering, Sorb...  \n",
       "15831                                      ['Montimage']  \n",
       "17668  ['Sorbonne Center of Artificial Intelligence, ...  \n",
       "23124  ['Department of Sciences and Engineering Sorbo...  \n",
       "25604  ['Foundation of Research and Technology-Hellas...  \n",
       "26874  ['EPFL; Faculty of Engineering; Institute of M...  \n",
       "27790  ['Department of Sciences and Engineering, Sorb...  \n",
       "27893  ['Sorbonne Center of Artificial Intelligence, ...  \n",
       "29717  ['Science and Engineering Department, Sorbonne...  \n",
       "30139                                         ['[ATOS]']  \n",
       "30298                                         ['EPFL ,']  \n",
       "37029  ['Dipartimento di Scienze e Tecnologie Chimich...  \n",
       "37753  ['Laboratoire de Biochimie, CHU Habib Bourguib...  \n",
       "38202  ['Medicine and Endocrinology, Pondicherry Inst...  \n",
       "39426  ['Sciences and Engineering Department, Sorbonn...  \n",
       "42932  ['Department of Sciences and Engineering, Sorb...  "
      ]
     },
     "metadata": {},
     "output_type": "display_data"
    }
   ],
   "source": [
    "bad_affiliations_df = part000[part000[\"coverage.last_error\"] == \"MISMATCH_FRENCH_AFFILIATION\"]\n",
    "display(bad_affiliations_df[[\"id\", \"doi\", \"coverage.last_error_data\"]])\n",
    "bad_affiliations = bad_affiliations_df[\"coverage.last_error_data\"].to_list()"
   ]
  },
  {
   "cell_type": "code",
   "execution_count": 20,
   "metadata": {},
   "outputs": [],
   "source": [
    "def clean_affiliations(affiliation):\n",
    "    return affiliation.removeprefix(\"['\").removesuffix(\"']\").split(\"', '\")"
   ]
  },
  {
   "cell_type": "code",
   "execution_count": 26,
   "metadata": {},
   "outputs": [
    {
     "data": {
      "text/plain": [
       "['Montimage',\n",
       " 'Department of Sciences and Engineering Sorbonne University Abu Dhabi  38044 Abu Dhabi United Arab Emirates; Smart Materials Lab New York University Abu Dhabi  129188 Abu Dhabi United Arab Emirates',\n",
       " 'EPFL; Faculty of Engineering; Institute of Materials; Laboratoire des Matériaux Semiconducteurs; École Polytechnique Fédérale de Lausanne',\n",
       " 'Department of Sciences and Engineering, Sorbonne University Abu Dhabi, Abu Dhabi, UAE; Smart Materials Lab, New York University Abu Dhabi, Abu Dhabi, UAE',\n",
       " 'Clinique du Vertige, Centre Hospitalier Emile Mayrisch, Esch-sur-Alzette',\n",
       " 'Department of Sciences and Engineering, Sorbonne University Abu Dhabi, PO Box 38044, Abu Dhabi, UAE; Smart Materials Lab, New York University, Abu Dhabi, PO Box 38044, Abu Dhabi, UAE',\n",
       " 'Department of Sciences and Engineering, Sorbonne University Abu Dhabi, PO Box 38044, Abu Dhabi, United Arab Emirates; Smart Materials Lab, New York University Abu Dhabi, PO Box 129188, Abu Dhabi, United Arab Emirates',\n",
       " 'Division of Nephrology and Hypertension, Center for Translational Metabolism and Health, Institute for Public Health and Medicine, Northwestern University Feinberg School of Medicine, Chicago, Illinois;; Renal Division and',\n",
       " 'Dipartimento di Scienze e Tecnologie Chimiche; Italy; Rome; Università di Tor Vergata',\n",
       " '1015 Lausanne; EPFL; Laboratoire des Matériaux Semiconducteurs; Switzerland; École Polytechnique Fédérale de Lausanne',\n",
       " 'Sciences and Engineering Department, Sorbonne University Abu Dhabi, Abu Dhabi, PO Box, 38044 UAE; Smart Materials Lab, New York University Abu Dhabi, Abu Dhabi, PO Box, 129188 UAE',\n",
       " 'Renal Division and',\n",
       " 'EPFL ,',\n",
       " '[ATOS]',\n",
       " 'Foundation of Research and Technology-Hellas (FORTH/ICE-HT); Institute of Chemical Engineering Sciences, Foundation of Research and Technology-Hellas (FORTH/ICE-HT), Stadiou Street, Platani, Patras, 26504 Greece; Laboratory of Quantum and Computational Chemistry; Laboratory of Quantum and Computational Chemistry, Department of Chemistry, Aristotle University of Thessaloniki, GR-54124 Thessaloniki, Greece; Patras',\n",
       " 'Science and Engineering Department, Sorbonne University Abu Dhabi, Abu Dhabi, UAE; Smart Materials Lab, New York University Abu Dhabi, Abu Dhabi, UAE',\n",
       " 'Laboratoire de Biochimie, CHU Habib Bourguiba, Sfax, Tunisie; UR 12ES17 « Bases moléculaires de la pathologie humaine », Faculté de Médecine de Sfax, Université de Sfax, Sfax, Tunisie',\n",
       " 'Medicine and Endocrinology, Pondicherry Institute of Medical Sciences, Pondicherry, IND.',\n",
       " 'Sorbonne Center of Artificial Intelligence, Sorbonne University-Abu Dhabi, Abu Dhabi, United Arab Emirates']"
      ]
     },
     "execution_count": 26,
     "metadata": {},
     "output_type": "execute_result"
    }
   ],
   "source": [
    "cleaned_affiliations = list(set(sum([clean_affiliations(affiliation) for affiliation in bad_affiliations], [])))\n",
    "cleaned_affiliations"
   ]
  },
  {
   "cell_type": "code",
   "execution_count": 30,
   "metadata": {},
   "outputs": [
    {
     "data": {
      "text/plain": [
       "'Sorbonne Center of Artificial Intelligence, Sorbonne University-Abu Dhabi, Abu Dhabi, United Arab Emirates'"
      ]
     },
     "execution_count": 30,
     "metadata": {},
     "output_type": "execute_result"
    }
   ],
   "source": [
    "cleaned_affiliations[-1]"
   ]
  },
  {
   "cell_type": "code",
   "execution_count": 28,
   "metadata": {},
   "outputs": [
    {
     "data": {
      "text/html": [
       "<style>.renderjson a              { text-decoration: none; }\n",
       ".renderjson .disclosure    { color: grey; font-size: 125%; }\n",
       ".renderjson .syntax        { color: grey; }\n",
       ".renderjson .string        { color: #fe46a5; }\n",
       ".renderjson .number        { color: #0f9b8e; }\n",
       ".renderjson .boolean       { color: black; }\n",
       ".renderjson .key           { color: #2684ff; }\n",
       ".renderjson .keyword       { color: gray; }\n",
       ".renderjson .object.syntax { color: gray; }\n",
       ".renderjson .array.syntax  { color: gray; }</style><div id=\"e002bad1-c10d-4f16-9592-2b053bbac25a\"></div>"
      ],
      "text/plain": [
       "<IPython.core.display.HTML object>"
      ]
     },
     "metadata": {},
     "output_type": "display_data"
    },
    {
     "data": {
      "text/html": [
       "<script>var renderjson=function(){var t=function(){for(var t=[];arguments.length;)t.push(n(s(Array.prototype.shift.call(arguments)),o(Array.prototype.shift.call(arguments))));return t},n=function(){for(var t=Array.prototype.shift.call(arguments),e=0;e<arguments.length;e++)arguments[e].constructor==Array?n.apply(this,[t].concat(arguments[e])):t.appendChild(arguments[e]);return t},e=function(t,n){return t.insertBefore(n,t.firstChild),t},r=function(t,n){var e=n||Object.keys(t);for(var r in e)if(Object.hasOwnProperty.call(t,e[r]))return!1;return!0},o=function(t){return document.createTextNode(t)},s=function(t){var n=document.createElement(\"span\");return t&&(n.className=t),n},l=function(t,n,e){var r=document.createElement(\"a\");return n&&(r.className=n),r.appendChild(o(t)),r.href=\"#\",r.onclick=function(t){return e(),t&&t.stopPropagation(),!1},r};function a(i,c,u,p,y){var _=u?\"\":c,f=function(r,a,i,c,u){var f,g=s(c),h=function(){f||n(g.parentNode,f=e(u(),l(y.hide,\"disclosure\",(function(){f.style.display=\"none\",g.style.display=\"inline\"})))),f.style.display=\"inline\",g.style.display=\"none\"};n(g,l(y.show,\"disclosure\",h),t(c+\" syntax\",r),l(a,null,h),t(c+\" syntax\",i));var d=n(s(),o(_.slice(0,-1)),g);return p>0&&\"string\"!=c&&h(),d};return null===i?t(null,_,\"keyword\",\"null\"):void 0===i?t(null,_,\"keyword\",\"undefined\"):\"string\"==typeof i&&i.length>y.max_string_length?f('\"',i.substr(0,y.max_string_length)+\" ...\",'\"',\"string\",(function(){return n(s(\"string\"),t(null,_,\"string\",JSON.stringify(i)))})):\"object\"!=typeof i||[Number,String,Boolean,Date].indexOf(i.constructor)>=0?t(null,_,typeof i,JSON.stringify(i)):i.constructor==Array?0==i.length?t(null,_,\"array syntax\",\"[]\"):f(\"[\",y.collapse_msg(i.length),\"]\",\"array\",(function(){for(var e=n(s(\"array\"),t(\"array syntax\",\"[\",null,\"\\n\")),r=0;r<i.length;r++)n(e,a(y.replacer.call(i,r,i[r]),c+\"    \",!1,p-1,y),r!=i.length-1?t(\"syntax\",\",\"):[],o(\"\\n\"));return n(e,t(null,c,\"array syntax\",\"]\")),e})):r(i,y.property_list)?t(null,_,\"object syntax\",\"{}\"):f(\"{\",y.collapse_msg(Object.keys(i).length),\"}\",\"object\",(function(){var e=n(s(\"object\"),t(\"object syntax\",\"{\",null,\"\\n\"));for(var r in i)var l=r;var u=y.property_list||Object.keys(i);for(var _ in y.sort_objects&&(u=u.sort()),u){(r=u[_])in i&&n(e,t(null,c+\"    \",\"key\",'\"'+r+'\"',\"object syntax\",\": \"),a(y.replacer.call(i,r,i[r]),c+\"    \",!0,p-1,y),r!=l?t(\"syntax\",\",\"):[],o(\"\\n\"))}return n(e,t(null,c,\"object syntax\",\"}\")),e}))}var i=function t(e){var r=new Object(t.options);r.replacer=\"function\"==typeof r.replacer?r.replacer:function(t,n){return n};var o=n(document.createElement(\"pre\"),a(e,\"\",!1,r.show_to_level,r));return o.className=\"renderjson\",o};return i.set_icons=function(t,n){return i.options.show=t,i.options.hide=n,i},i.set_show_to_level=function(t){return i.options.show_to_level=\"string\"==typeof t&&\"all\"===t.toLowerCase()?Number.MAX_VALUE:t,i},i.set_max_string_length=function(t){return i.options.max_string_length=\"string\"==typeof t&&\"none\"===t.toLowerCase()?Number.MAX_VALUE:t,i},i.set_sort_objects=function(t){return i.options.sort_objects=t,i},i.set_replacer=function(t){return i.options.replacer=t,i},i.set_collapse_msg=function(t){return i.options.collapse_msg=t,i},i.set_property_list=function(t){return i.options.property_list=t,i},i.set_show_by_default=function(t){return i.options.show_to_level=t?Number.MAX_VALUE:0,i},i.options={},i.set_icons(\"⊕\",\"⊖\"),i.set_show_by_default(!1),i.set_sort_objects(!1),i.set_max_string_length(\"none\"),i.set_replacer(void 0),i.set_property_list(void 0),i.set_collapse_msg((function(t){return t+\" item\"+(1==t?\"\":\"s\")})),i}(); renderjson.set_show_to_level(1); document.getElementById(\"e002bad1-c10d-4f16-9592-2b053bbac25a\").appendChild(renderjson({\"id\": \"https://openalex.org/W2889373178\", \"doi\": \"https://doi.org/10.1039/c8nr05787g\", \"title\": \"Optimizing the yield of A-polar GaAs nanowires to achieve defect-free zinc blende structure and enhanced optical functionality\", \"display_name\": \"Optimizing the yield of A-polar GaAs nanowires to achieve defect-free zinc blende structure and enhanced optical functionality\", \"publication_year\": 2018, \"publication_date\": \"2018-01-01\", \"ids\": {\"openalex\": \"https://openalex.org/W2889373178\", \"doi\": \"https://doi.org/10.1039/c8nr05787g\", \"mag\": \"2889373178\", \"pmid\": \"https://pubmed.ncbi.nlm.nih.gov/30179246\"}, \"language\": \"en\", \"primary_location\": {\"is_oa\": false, \"landing_page_url\": \"https://doi.org/10.1039/c8nr05787g\", \"pdf_url\": null, \"source\": {\"id\": \"https://openalex.org/S23181512\", \"display_name\": \"Nanoscale\", \"issn_l\": \"2040-3364\", \"issn\": [\"2040-3372\", \"2040-3364\"], \"is_oa\": false, \"is_in_doaj\": false, \"host_organization\": \"https://openalex.org/P4310320556\", \"host_organization_name\": \"Royal Society of Chemistry\", \"host_organization_lineage\": [\"https://openalex.org/P4310320556\"], \"host_organization_lineage_names\": [\"Royal Society of Chemistry\"], \"type\": \"journal\"}, \"license\": null, \"version\": null, \"is_accepted\": false, \"is_published\": false}, \"type\": \"article\", \"type_crossref\": \"journal-article\", \"open_access\": {\"is_oa\": true, \"oa_status\": \"green\", \"oa_url\": \"https://infoscience.epfl.ch/record/256764/files/Zamani-Polarity.pdf\", \"any_repository_has_fulltext\": true}, \"authorships\": [{\"author_position\": \"first\", \"author\": {\"id\": \"https://openalex.org/A5023507377\", \"display_name\": \"Mahdi Zamani\", \"orcid\": null}, \"institutions\": [{\"id\": \"https://openalex.org/I5124864\", \"display_name\": \"\\u00c9cole Polytechnique F\\u00e9d\\u00e9rale de Lausanne\", \"ror\": \"https://ror.org/02s376052\", \"country_code\": \"CH\", \"type\": \"education\", \"lineage\": [\"https://openalex.org/I2799323385\", \"https://openalex.org/I5124864\"]}, {\"id\": \"https://openalex.org/I4210095308\", \"display_name\": \"Laboratoire des Mat\\u00e9riaux Avanc\\u00e9s\", \"ror\": \"https://ror.org/00w1qvp54\", \"country_code\": \"FR\", \"type\": \"facility\", \"lineage\": [\"https://openalex.org/I4210095308\", \"https://openalex.org/I4210133362\", \"https://openalex.org/I4387155512\"]}], \"countries\": [\"CH\", \"FR\"], \"is_corresponding\": false, \"raw_author_name\": \"Mahdi Zamani\", \"raw_affiliation_string\": \"1015 Lausanne; EPFL; Laboratoire des Mat\\u00e9riaux Semiconducteurs; Switzerland; \\u00c9cole Polytechnique F\\u00e9d\\u00e9rale de Lausanne\", \"raw_affiliation_strings\": [\"1015 Lausanne\", \"EPFL\", \"Laboratoire des Mat\\u00e9riaux Semiconducteurs\", \"Switzerland\", \"\\u00c9cole Polytechnique F\\u00e9d\\u00e9rale de Lausanne\"]}, {\"author_position\": \"middle\", \"author\": {\"id\": \"https://openalex.org/A5038727732\", \"display_name\": \"G\\u00f6zde T\\u00fct\\u00fcnc\\u00fco\\u011flu\", \"orcid\": \"https://orcid.org/0000-0001-8812-5999\"}, \"institutions\": [{\"id\": \"https://openalex.org/I5124864\", \"display_name\": \"\\u00c9cole Polytechnique F\\u00e9d\\u00e9rale de Lausanne\", \"ror\": \"https://ror.org/02s376052\", \"country_code\": \"CH\", \"type\": \"education\", \"lineage\": [\"https://openalex.org/I2799323385\", \"https://openalex.org/I5124864\"]}, {\"id\": \"https://openalex.org/I4210095308\", \"display_name\": \"Laboratoire des Mat\\u00e9riaux Avanc\\u00e9s\", \"ror\": \"https://ror.org/00w1qvp54\", \"country_code\": \"FR\", \"type\": \"facility\", \"lineage\": [\"https://openalex.org/I4210095308\", \"https://openalex.org/I4210133362\", \"https://openalex.org/I4387155512\"]}], \"countries\": [\"CH\", \"FR\"], \"is_corresponding\": false, \"raw_author_name\": \"G\\u00f6zde T\\u00fct\\u00fcnc\\u00fcoglu\", \"raw_affiliation_string\": \"1015 Lausanne; EPFL; Laboratoire des Mat\\u00e9riaux Semiconducteurs; Switzerland; \\u00c9cole Polytechnique F\\u00e9d\\u00e9rale de Lausanne\", \"raw_affiliation_strings\": [\"1015 Lausanne\", \"EPFL\", \"Laboratoire des Mat\\u00e9riaux Semiconducteurs\", \"Switzerland\", \"\\u00c9cole Polytechnique F\\u00e9d\\u00e9rale de Lausanne\"]}, {\"author_position\": \"middle\", \"author\": {\"id\": \"https://openalex.org/A5044247637\", \"display_name\": \"Sara Mart\\u00ed\\u2010S\\u00e1nchez\", \"orcid\": null}, \"institutions\": [{\"id\": \"https://openalex.org/I4210093216\", \"display_name\": \"Institut Catal\\u00e0 de Nanoci\\u00e8ncia i Nanotecnologia\", \"ror\": \"https://ror.org/00k1qja49\", \"country_code\": \"ES\", \"type\": \"facility\", \"lineage\": [\"https://openalex.org/I123044942\", \"https://openalex.org/I134820265\", \"https://openalex.org/I4210093216\", \"https://openalex.org/I4387153040\"]}, {\"id\": \"https://openalex.org/I134820265\", \"display_name\": \"Spanish National Research Council\", \"ror\": \"https://ror.org/02gfc7t72\", \"country_code\": \"ES\", \"type\": \"government\", \"lineage\": [\"https://openalex.org/I134820265\"]}], \"countries\": [\"ES\"], \"is_corresponding\": false, \"raw_author_name\": \"Sara Mart\\u00ed-S\\u00e1nchez\", \"raw_affiliation_string\": \"08193 Barcelona; CSIC and BIST; Catalan Institute of Nanoscience and Nanotechnology (ICN2), CSIC and BIST, Campus UAB, Bellaterra, 08193 Barcelona, Catalonia, Spain; Spain\", \"raw_affiliation_strings\": [\"08193 Barcelona\", \"CSIC and BIST\", \"Catalan Institute of Nanoscience and Nanotechnology (ICN2), CSIC and BIST, Campus UAB, Bellaterra, 08193 Barcelona, Catalonia, Spain\", \"Spain\"]}, {\"author_position\": \"middle\", \"author\": {\"id\": \"https://openalex.org/A5029423715\", \"display_name\": \"Luca Francaviglia\", \"orcid\": \"https://orcid.org/0000-0002-2138-0837\"}, \"institutions\": [{\"id\": \"https://openalex.org/I4210095308\", \"display_name\": \"Laboratoire des Mat\\u00e9riaux Avanc\\u00e9s\", \"ror\": \"https://ror.org/00w1qvp54\", \"country_code\": \"FR\", \"type\": \"facility\", \"lineage\": [\"https://openalex.org/I4210095308\", \"https://openalex.org/I4210133362\", \"https://openalex.org/I4387155512\"]}, {\"id\": \"https://openalex.org/I5124864\", \"display_name\": \"\\u00c9cole Polytechnique F\\u00e9d\\u00e9rale de Lausanne\", \"ror\": \"https://ror.org/02s376052\", \"country_code\": \"CH\", \"type\": \"education\", \"lineage\": [\"https://openalex.org/I2799323385\", \"https://openalex.org/I5124864\"]}], \"countries\": [\"CH\", \"FR\"], \"is_corresponding\": false, \"raw_author_name\": \"Luca Francaviglia\", \"raw_affiliation_string\": \"1015 Lausanne; EPFL; Laboratoire des Mat\\u00e9riaux Semiconducteurs; Switzerland; \\u00c9cole Polytechnique F\\u00e9d\\u00e9rale de Lausanne\", \"raw_affiliation_strings\": [\"1015 Lausanne\", \"EPFL\", \"Laboratoire des Mat\\u00e9riaux Semiconducteurs\", \"Switzerland\", \"\\u00c9cole Polytechnique F\\u00e9d\\u00e9rale de Lausanne\"]}, {\"author_position\": \"middle\", \"author\": {\"id\": \"https://openalex.org/A5077060840\", \"display_name\": \"Lucas G\\u00fcniat\", \"orcid\": \"https://orcid.org/0000-0001-7883-4433\"}, \"institutions\": [{\"id\": \"https://openalex.org/I4210095308\", \"display_name\": \"Laboratoire des Mat\\u00e9riaux Avanc\\u00e9s\", \"ror\": \"https://ror.org/00w1qvp54\", \"country_code\": \"FR\", \"type\": \"facility\", \"lineage\": [\"https://openalex.org/I4210095308\", \"https://openalex.org/I4210133362\", \"https://openalex.org/I4387155512\"]}, {\"id\": \"https://openalex.org/I5124864\", \"display_name\": \"\\u00c9cole Polytechnique F\\u00e9d\\u00e9rale de Lausanne\", \"ror\": \"https://ror.org/02s376052\", \"country_code\": \"CH\", \"type\": \"education\", \"lineage\": [\"https://openalex.org/I2799323385\", \"https://openalex.org/I5124864\"]}], \"countries\": [\"CH\", \"FR\"], \"is_corresponding\": false, \"raw_author_name\": \"Lucas G\\u00fcniat\", \"raw_affiliation_string\": \"1015 Lausanne; EPFL; Laboratoire des Mat\\u00e9riaux Semiconducteurs; Switzerland; \\u00c9cole Polytechnique F\\u00e9d\\u00e9rale de Lausanne\", \"raw_affiliation_strings\": [\"1015 Lausanne\", \"EPFL\", \"Laboratoire des Mat\\u00e9riaux Semiconducteurs\", \"Switzerland\", \"\\u00c9cole Polytechnique F\\u00e9d\\u00e9rale de Lausanne\"]}, {\"author_position\": \"middle\", \"author\": {\"id\": \"https://openalex.org/A5073281591\", \"display_name\": \"Lea Ghisalberti\", \"orcid\": null}, \"institutions\": [{\"id\": \"https://openalex.org/I4210095308\", \"display_name\": \"Laboratoire des Mat\\u00e9riaux Avanc\\u00e9s\", \"ror\": \"https://ror.org/00w1qvp54\", \"country_code\": \"FR\", \"type\": \"facility\", \"lineage\": [\"https://openalex.org/I4210095308\", \"https://openalex.org/I4210133362\", \"https://openalex.org/I4387155512\"]}, {\"id\": \"https://openalex.org/I5124864\", \"display_name\": \"\\u00c9cole Polytechnique F\\u00e9d\\u00e9rale de Lausanne\", \"ror\": \"https://ror.org/02s376052\", \"country_code\": \"CH\", \"type\": \"education\", \"lineage\": [\"https://openalex.org/I2799323385\", \"https://openalex.org/I5124864\"]}], \"countries\": [\"CH\", \"FR\"], \"is_corresponding\": false, \"raw_author_name\": \"Lea Ghisalberti\", \"raw_affiliation_string\": \"1015 Lausanne; EPFL; Laboratoire des Mat\\u00e9riaux Semiconducteurs; Switzerland; \\u00c9cole Polytechnique F\\u00e9d\\u00e9rale de Lausanne\", \"raw_affiliation_strings\": [\"1015 Lausanne\", \"EPFL\", \"Laboratoire des Mat\\u00e9riaux Semiconducteurs\", \"Switzerland\", \"\\u00c9cole Polytechnique F\\u00e9d\\u00e9rale de Lausanne\"]}, {\"author_position\": \"middle\", \"author\": {\"id\": \"https://openalex.org/A5072209624\", \"display_name\": \"Heidi Potts\", \"orcid\": \"https://orcid.org/0000-0001-7808-082X\"}, \"institutions\": [{\"id\": \"https://openalex.org/I4210095308\", \"display_name\": \"Laboratoire des Mat\\u00e9riaux Avanc\\u00e9s\", \"ror\": \"https://ror.org/00w1qvp54\", \"country_code\": \"FR\", \"type\": \"facility\", \"lineage\": [\"https://openalex.org/I4210095308\", \"https://openalex.org/I4210133362\", \"https://openalex.org/I4387155512\"]}, {\"id\": \"https://openalex.org/I5124864\", \"display_name\": \"\\u00c9cole Polytechnique F\\u00e9d\\u00e9rale de Lausanne\", \"ror\": \"https://ror.org/02s376052\", \"country_code\": \"CH\", \"type\": \"education\", \"lineage\": [\"https://openalex.org/I2799323385\", \"https://openalex.org/I5124864\"]}], \"countries\": [\"CH\", \"FR\"], \"is_corresponding\": false, \"raw_author_name\": \"Heidi Potts\", \"raw_affiliation_string\": \"1015 Lausanne; EPFL; Laboratoire des Mat\\u00e9riaux Semiconducteurs; Switzerland; \\u00c9cole Polytechnique F\\u00e9d\\u00e9rale de Lausanne\", \"raw_affiliation_strings\": [\"1015 Lausanne\", \"EPFL\", \"Laboratoire des Mat\\u00e9riaux Semiconducteurs\", \"Switzerland\", \"\\u00c9cole Polytechnique F\\u00e9d\\u00e9rale de Lausanne\"]}, {\"author_position\": \"middle\", \"author\": {\"id\": \"https://openalex.org/A5040640729\", \"display_name\": \"Martin Friedl\", \"orcid\": null}, \"institutions\": [{\"id\": \"https://openalex.org/I4210095308\", \"display_name\": \"Laboratoire des Mat\\u00e9riaux Avanc\\u00e9s\", \"ror\": \"https://ror.org/00w1qvp54\", \"country_code\": \"FR\", \"type\": \"facility\", \"lineage\": [\"https://openalex.org/I4210095308\", \"https://openalex.org/I4210133362\", \"https://openalex.org/I4387155512\"]}, {\"id\": \"https://openalex.org/I5124864\", \"display_name\": \"\\u00c9cole Polytechnique F\\u00e9d\\u00e9rale de Lausanne\", \"ror\": \"https://ror.org/02s376052\", \"country_code\": \"CH\", \"type\": \"education\", \"lineage\": [\"https://openalex.org/I2799323385\", \"https://openalex.org/I5124864\"]}], \"countries\": [\"CH\", \"FR\"], \"is_corresponding\": false, \"raw_author_name\": \"Martin Friedl\", \"raw_affiliation_string\": \"1015 Lausanne; EPFL; Laboratoire des Mat\\u00e9riaux Semiconducteurs; Switzerland; \\u00c9cole Polytechnique F\\u00e9d\\u00e9rale de Lausanne\", \"raw_affiliation_strings\": [\"1015 Lausanne\", \"EPFL\", \"Laboratoire des Mat\\u00e9riaux Semiconducteurs\", \"Switzerland\", \"\\u00c9cole Polytechnique F\\u00e9d\\u00e9rale de Lausanne\"]}, {\"author_position\": \"middle\", \"author\": {\"id\": \"https://openalex.org/A5028473065\", \"display_name\": \"Edoardo Markov\", \"orcid\": null}, \"institutions\": [{\"id\": \"https://openalex.org/I4210095308\", \"display_name\": \"Laboratoire des Mat\\u00e9riaux Avanc\\u00e9s\", \"ror\": \"https://ror.org/00w1qvp54\", \"country_code\": \"FR\", \"type\": \"facility\", \"lineage\": [\"https://openalex.org/I4210095308\", \"https://openalex.org/I4210133362\", \"https://openalex.org/I4387155512\"]}, {\"id\": \"https://openalex.org/I5124864\", \"display_name\": \"\\u00c9cole Polytechnique F\\u00e9d\\u00e9rale de Lausanne\", \"ror\": \"https://ror.org/02s376052\", \"country_code\": \"CH\", \"type\": \"education\", \"lineage\": [\"https://openalex.org/I2799323385\", \"https://openalex.org/I5124864\"]}], \"countries\": [\"CH\", \"FR\"], \"is_corresponding\": false, \"raw_author_name\": \"Edoardo Markov\", \"raw_affiliation_string\": \"1015 Lausanne; EPFL; Laboratoire des Mat\\u00e9riaux Semiconducteurs; Switzerland; \\u00c9cole Polytechnique F\\u00e9d\\u00e9rale de Lausanne\", \"raw_affiliation_strings\": [\"1015 Lausanne\", \"EPFL\", \"Laboratoire des Mat\\u00e9riaux Semiconducteurs\", \"Switzerland\", \"\\u00c9cole Polytechnique F\\u00e9d\\u00e9rale de Lausanne\"]}, {\"author_position\": \"middle\", \"author\": {\"id\": \"https://openalex.org/A5068130767\", \"display_name\": \"Wonjong Kim\", \"orcid\": \"https://orcid.org/0000-0001-6856-6607\"}, \"institutions\": [{\"id\": \"https://openalex.org/I4210095308\", \"display_name\": \"Laboratoire des Mat\\u00e9riaux Avanc\\u00e9s\", \"ror\": \"https://ror.org/00w1qvp54\", \"country_code\": \"FR\", \"type\": \"facility\", \"lineage\": [\"https://openalex.org/I4210095308\", \"https://openalex.org/I4210133362\", \"https://openalex.org/I4387155512\"]}, {\"id\": \"https://openalex.org/I5124864\", \"display_name\": \"\\u00c9cole Polytechnique F\\u00e9d\\u00e9rale de Lausanne\", \"ror\": \"https://ror.org/02s376052\", \"country_code\": \"CH\", \"type\": \"education\", \"lineage\": [\"https://openalex.org/I2799323385\", \"https://openalex.org/I5124864\"]}], \"countries\": [\"CH\", \"FR\"], \"is_corresponding\": false, \"raw_author_name\": \"Wonjong Kim\", \"raw_affiliation_string\": \"1015 Lausanne; EPFL; Laboratoire des Mat\\u00e9riaux Semiconducteurs; Switzerland; \\u00c9cole Polytechnique F\\u00e9d\\u00e9rale de Lausanne\", \"raw_affiliation_strings\": [\"1015 Lausanne\", \"EPFL\", \"Laboratoire des Mat\\u00e9riaux Semiconducteurs\", \"Switzerland\", \"\\u00c9cole Polytechnique F\\u00e9d\\u00e9rale de Lausanne\"]}, {\"author_position\": \"middle\", \"author\": {\"id\": \"https://openalex.org/A5016745337\", \"display_name\": \"Jean-Baptiste Leran\", \"orcid\": null}, \"institutions\": [{\"id\": \"https://openalex.org/I4210095308\", \"display_name\": \"Laboratoire des Mat\\u00e9riaux Avanc\\u00e9s\", \"ror\": \"https://ror.org/00w1qvp54\", \"country_code\": \"FR\", \"type\": \"facility\", \"lineage\": [\"https://openalex.org/I4210095308\", \"https://openalex.org/I4210133362\", \"https://openalex.org/I4387155512\"]}, {\"id\": \"https://openalex.org/I5124864\", \"display_name\": \"\\u00c9cole Polytechnique F\\u00e9d\\u00e9rale de Lausanne\", \"ror\": \"https://ror.org/02s376052\", \"country_code\": \"CH\", \"type\": \"education\", \"lineage\": [\"https://openalex.org/I2799323385\", \"https://openalex.org/I5124864\"]}], \"countries\": [\"CH\", \"FR\"], \"is_corresponding\": false, \"raw_author_name\": \"Jean-Baptiste Leran\", \"raw_affiliation_string\": \"1015 Lausanne; EPFL; Laboratoire des Mat\\u00e9riaux Semiconducteurs; Switzerland; \\u00c9cole Polytechnique F\\u00e9d\\u00e9rale de Lausanne\", \"raw_affiliation_strings\": [\"1015 Lausanne\", \"EPFL\", \"Laboratoire des Mat\\u00e9riaux Semiconducteurs\", \"Switzerland\", \"\\u00c9cole Polytechnique F\\u00e9d\\u00e9rale de Lausanne\"]}, {\"author_position\": \"middle\", \"author\": {\"id\": \"https://openalex.org/A5073415745\", \"display_name\": \"V. G. Dubrovski\\u0131\\u0306\", \"orcid\": \"https://orcid.org/0000-0003-2088-7158\"}, \"institutions\": [{\"id\": \"https://openalex.org/I173089394\", \"display_name\": \"ITMO University\", \"ror\": \"https://ror.org/04txgxn49\", \"country_code\": \"RU\", \"type\": \"education\", \"lineage\": [\"https://openalex.org/I173089394\"]}, {\"id\": \"https://openalex.org/I94645791\", \"display_name\": \"St. Petersburg College\", \"ror\": \"https://ror.org/00vrgpy91\", \"country_code\": \"US\", \"type\": \"education\", \"lineage\": [\"https://openalex.org/I94645791\"]}], \"countries\": [\"RU\", \"US\"], \"is_corresponding\": false, \"raw_author_name\": \"Vladimir G Dubrovskii\", \"raw_affiliation_string\": \"197101 St. Petersburg; ITMO University, Kronverkskiy prospekt 49, 197101 St. Petersburg, Russia; Russia\", \"raw_affiliation_strings\": [\"197101 St. Petersburg\", \"ITMO University, Kronverkskiy prospekt 49, 197101 St. Petersburg, Russia\", \"Russia\"]}, {\"author_position\": \"middle\", \"author\": {\"id\": \"https://openalex.org/A5012137737\", \"display_name\": \"Jordi Arbiol\", \"orcid\": \"https://orcid.org/0000-0002-0695-1726\"}, \"institutions\": [{\"id\": \"https://openalex.org/I4210093216\", \"display_name\": \"Institut Catal\\u00e0 de Nanoci\\u00e8ncia i Nanotecnologia\", \"ror\": \"https://ror.org/00k1qja49\", \"country_code\": \"ES\", \"type\": \"facility\", \"lineage\": [\"https://openalex.org/I123044942\", \"https://openalex.org/I134820265\", \"https://openalex.org/I4210093216\", \"https://openalex.org/I4387153040\"]}, {\"id\": \"https://openalex.org/I134820265\", \"display_name\": \"Spanish National Research Council\", \"ror\": \"https://ror.org/02gfc7t72\", \"country_code\": \"ES\", \"type\": \"government\", \"lineage\": [\"https://openalex.org/I134820265\"]}, {\"id\": \"https://openalex.org/I11932220\", \"display_name\": \"Instituci\\u00f3 Catalana de Recerca i Estudis Avan\\u00e7ats\", \"ror\": \"https://ror.org/0371hy230\", \"country_code\": \"ES\", \"type\": \"nonprofit\", \"lineage\": [\"https://openalex.org/I11932220\"]}], \"countries\": [\"ES\"], \"is_corresponding\": false, \"raw_author_name\": \"Jordi Arbiol\", \"raw_affiliation_string\": \"08193 Barcelona; CSIC and BIST; Catalan Institute of Nanoscience and Nanotechnology (ICN2), CSIC and BIST, Campus UAB, Bellaterra, 08193 Barcelona, Catalonia, Spain; ICREA; Spain\", \"raw_affiliation_strings\": [\"08193 Barcelona\", \"CSIC and BIST\", \"Catalan Institute of Nanoscience and Nanotechnology (ICN2), CSIC and BIST, Campus UAB, Bellaterra, 08193 Barcelona, Catalonia, Spain\", \"ICREA\", \"Spain\"]}, {\"author_position\": \"last\", \"author\": {\"id\": \"https://openalex.org/A5013293385\", \"display_name\": \"Anna Fontcuberta i Morral\", \"orcid\": \"https://orcid.org/0000-0002-5070-2196\"}, \"institutions\": [{\"id\": \"https://openalex.org/I4210095308\", \"display_name\": \"Laboratoire des Mat\\u00e9riaux Avanc\\u00e9s\", \"ror\": \"https://ror.org/00w1qvp54\", \"country_code\": \"FR\", \"type\": \"facility\", \"lineage\": [\"https://openalex.org/I4210095308\", \"https://openalex.org/I4210133362\", \"https://openalex.org/I4387155512\"]}, {\"id\": \"https://openalex.org/I5124864\", \"display_name\": \"\\u00c9cole Polytechnique F\\u00e9d\\u00e9rale de Lausanne\", \"ror\": \"https://ror.org/02s376052\", \"country_code\": \"CH\", \"type\": \"education\", \"lineage\": [\"https://openalex.org/I2799323385\", \"https://openalex.org/I5124864\"]}], \"countries\": [\"CH\", \"FR\"], \"is_corresponding\": true, \"raw_author_name\": \"Anna Fontcuberta I Morral\", \"raw_affiliation_string\": \"1015 Lausanne; EPFL; Laboratoire des Mat\\u00e9riaux Semiconducteurs; Switzerland; \\u00c9cole Polytechnique F\\u00e9d\\u00e9rale de Lausanne\", \"raw_affiliation_strings\": [\"1015 Lausanne\", \"EPFL\", \"Laboratoire des Mat\\u00e9riaux Semiconducteurs\", \"Switzerland\", \"\\u00c9cole Polytechnique F\\u00e9d\\u00e9rale de Lausanne\"]}], \"countries_distinct_count\": 5, \"institutions_distinct_count\": 7, \"corresponding_author_ids\": [\"https://openalex.org/A5013293385\"], \"corresponding_institution_ids\": [\"https://openalex.org/I4210095308\", \"https://openalex.org/I5124864\"], \"apc_list\": null, \"apc_paid\": null, \"has_fulltext\": true, \"fulltext_origin\": \"pdf\", \"cited_by_count\": 31, \"cited_by_percentile_year\": {\"min\": 95.0, \"max\": 96.0}, \"biblio\": {\"volume\": \"10\", \"issue\": \"36\", \"first_page\": \"17080\", \"last_page\": \"17091\"}, \"is_retracted\": false, \"is_paratext\": false, \"keywords\": [{\"keyword\": \"nanowires\", \"score\": 0.4826}, {\"keyword\": \"gaas\", \"score\": 0.3868}, {\"keyword\": \"zinc\", \"score\": 0.3125}, {\"keyword\": \"a-polar\", \"score\": 0.25}, {\"keyword\": \"defect-free\", \"score\": 0.25}], \"concepts\": [{\"id\": \"https://openalex.org/C74214498\", \"wikidata\": \"https://www.wikidata.org/wiki/Q631739\", \"display_name\": \"Nanowire\", \"level\": 2, \"score\": 0.89134413}, {\"id\": \"https://openalex.org/C192562407\", \"wikidata\": \"https://www.wikidata.org/wiki/Q228736\", \"display_name\": \"Materials science\", \"level\": 0, \"score\": 0.6818989}, {\"id\": \"https://openalex.org/C2777361361\", \"wikidata\": \"https://www.wikidata.org/wiki/Q1112585\", \"display_name\": \"Polarity (international relations)\", \"level\": 3, \"score\": 0.6710913}, {\"id\": \"https://openalex.org/C33347731\", \"wikidata\": \"https://www.wikidata.org/wiki/Q285210\", \"display_name\": \"Stacking\", \"level\": 2, \"score\": 0.61876357}, {\"id\": \"https://openalex.org/C49040817\", \"wikidata\": \"https://www.wikidata.org/wiki/Q193091\", \"display_name\": \"Optoelectronics\", \"level\": 1, \"score\": 0.59438735}, {\"id\": \"https://openalex.org/C29705727\", \"wikidata\": \"https://www.wikidata.org/wiki/Q294562\", \"display_name\": \"Polar\", \"level\": 2, \"score\": 0.59242827}, {\"id\": \"https://openalex.org/C108225325\", \"wikidata\": \"https://www.wikidata.org/wiki/Q11456\", \"display_name\": \"Semiconductor\", \"level\": 2, \"score\": 0.58682233}, {\"id\": \"https://openalex.org/C134121241\", \"wikidata\": \"https://www.wikidata.org/wiki/Q899301\", \"display_name\": \"Yield (engineering)\", \"level\": 2, \"score\": 0.49139634}, {\"id\": \"https://openalex.org/C2777122791\", \"wikidata\": \"https://www.wikidata.org/wiki/Q415296\", \"display_name\": \"Arsenide\", \"level\": 3, \"score\": 0.45608705}, {\"id\": \"https://openalex.org/C510052550\", \"wikidata\": \"https://www.wikidata.org/wiki/Q422819\", \"display_name\": \"Gallium arsenide\", \"level\": 2, \"score\": 0.42859983}, {\"id\": \"https://openalex.org/C171250308\", \"wikidata\": \"https://www.wikidata.org/wiki/Q11468\", \"display_name\": \"Nanotechnology\", \"level\": 1, \"score\": 0.41551596}, {\"id\": \"https://openalex.org/C159467904\", \"wikidata\": \"https://www.wikidata.org/wiki/Q2001702\", \"display_name\": \"Chemical physics\", \"level\": 1, \"score\": 0.4116411}, {\"id\": \"https://openalex.org/C185592680\", \"wikidata\": \"https://www.wikidata.org/wiki/Q2329\", \"display_name\": \"Chemistry\", \"level\": 0, \"score\": 0.19008732}, {\"id\": \"https://openalex.org/C121332964\", \"wikidata\": \"https://www.wikidata.org/wiki/Q413\", \"display_name\": \"Physics\", \"level\": 0, \"score\": 0.06256917}, {\"id\": \"https://openalex.org/C1276947\", \"wikidata\": \"https://www.wikidata.org/wiki/Q333\", \"display_name\": \"Astronomy\", \"level\": 1, \"score\": 0.0}, {\"id\": \"https://openalex.org/C191897082\", \"wikidata\": \"https://www.wikidata.org/wiki/Q11467\", \"display_name\": \"Metallurgy\", \"level\": 1, \"score\": 0.0}, {\"id\": \"https://openalex.org/C55493867\", \"wikidata\": \"https://www.wikidata.org/wiki/Q7094\", \"display_name\": \"Biochemistry\", \"level\": 1, \"score\": 0.0}, {\"id\": \"https://openalex.org/C178790620\", \"wikidata\": \"https://www.wikidata.org/wiki/Q11351\", \"display_name\": \"Organic chemistry\", \"level\": 1, \"score\": 0.0}, {\"id\": \"https://openalex.org/C1491633281\", \"wikidata\": \"https://www.wikidata.org/wiki/Q7868\", \"display_name\": \"Cell\", \"level\": 2, \"score\": 0.0}], \"mesh\": [], \"locations_count\": 5, \"locations\": [{\"is_oa\": false, \"landing_page_url\": \"https://doi.org/10.1039/c8nr05787g\", \"pdf_url\": null, \"source\": {\"id\": \"https://openalex.org/S23181512\", \"display_name\": \"Nanoscale\", \"issn_l\": \"2040-3364\", \"issn\": [\"2040-3372\", \"2040-3364\"], \"is_oa\": false, \"is_in_doaj\": false, \"host_organization\": \"https://openalex.org/P4310320556\", \"host_organization_name\": \"Royal Society of Chemistry\", \"host_organization_lineage\": [\"https://openalex.org/P4310320556\"], \"host_organization_lineage_names\": [\"Royal Society of Chemistry\"], \"type\": \"journal\"}, \"license\": null, \"version\": null, \"is_accepted\": false, \"is_published\": false}, {\"is_oa\": false, \"landing_page_url\": \"https://zenodo.org/record/1462599\", \"pdf_url\": null, \"source\": {\"id\": \"https://openalex.org/S4306400562\", \"display_name\": \"Zenodo (CERN European Organization for Nuclear Research)\", \"issn_l\": null, \"issn\": null, \"is_oa\": true, \"is_in_doaj\": false, \"host_organization\": \"https://openalex.org/I67311998\", \"host_organization_name\": \"European Organization for Nuclear Research\", \"host_organization_lineage\": [\"https://openalex.org/I67311998\"], \"host_organization_lineage_names\": [\"European Organization for Nuclear Research\"], \"type\": \"repository\"}, \"license\": null, \"version\": null, \"is_accepted\": false, \"is_published\": false}, {\"is_oa\": true, \"landing_page_url\": \"http://infoscience.epfl.ch/record/256764\", \"pdf_url\": \"https://infoscience.epfl.ch/record/256764/files/Zamani-Polarity.pdf\", \"source\": {\"id\": \"https://openalex.org/S4306400487\", \"display_name\": \"Infoscience (Ecole Polytechnique F\\u00e9d\\u00e9rale de Lausanne)\", \"issn_l\": null, \"issn\": null, \"is_oa\": true, \"is_in_doaj\": false, \"host_organization\": null, \"host_organization_name\": null, \"host_organization_lineage\": [], \"host_organization_lineage_names\": [], \"type\": \"repository\"}, \"license\": null, \"version\": \"publishedVersion\", \"is_accepted\": true, \"is_published\": true}, {\"is_oa\": true, \"landing_page_url\": \"https://ddd.uab.cat/record/216247\", \"pdf_url\": \"https://ddd.uab.cat/pub/artpub/2018/216247/optyieapo_a2018v10n36p17080.pdf\", \"source\": {\"id\": \"https://openalex.org/S4306400381\", \"display_name\": \"Dip\\u00f2sit Digital de Documents de la UAB (Universitat Aut\\u00f2noma de Barcelona)\", \"issn_l\": null, \"issn\": null, \"is_oa\": true, \"is_in_doaj\": false, \"host_organization\": \"https://openalex.org/I123044942\", \"host_organization_name\": \"Autonomous University of Barcelona\", \"host_organization_lineage\": [\"https://openalex.org/I123044942\"], \"host_organization_lineage_names\": [\"Autonomous University of Barcelona\"], \"type\": \"repository\"}, \"license\": \"public-domain\", \"version\": \"submittedVersion\", \"is_accepted\": false, \"is_published\": false}, {\"is_oa\": false, \"landing_page_url\": \"https://pubmed.ncbi.nlm.nih.gov/30179246\", \"pdf_url\": null, \"source\": {\"id\": \"https://openalex.org/S4306525036\", \"display_name\": \"PubMed\", \"issn_l\": null, \"issn\": null, \"is_oa\": false, \"is_in_doaj\": false, \"host_organization\": \"https://openalex.org/I1299303238\", \"host_organization_name\": \"National Institutes of Health\", \"host_organization_lineage\": [\"https://openalex.org/I1299303238\"], \"host_organization_lineage_names\": [\"National Institutes of Health\"], \"type\": \"repository\"}, \"license\": null, \"version\": null, \"is_accepted\": false, \"is_published\": false}], \"best_oa_location\": {\"is_oa\": true, \"landing_page_url\": \"http://infoscience.epfl.ch/record/256764\", \"pdf_url\": \"https://infoscience.epfl.ch/record/256764/files/Zamani-Polarity.pdf\", \"source\": {\"id\": \"https://openalex.org/S4306400487\", \"display_name\": \"Infoscience (Ecole Polytechnique F\\u00e9d\\u00e9rale de Lausanne)\", \"issn_l\": null, \"issn\": null, \"is_oa\": true, \"is_in_doaj\": false, \"host_organization\": null, \"host_organization_name\": null, \"host_organization_lineage\": [], \"host_organization_lineage_names\": [], \"type\": \"repository\"}, \"license\": null, \"version\": \"publishedVersion\", \"is_accepted\": true, \"is_published\": true}, \"sustainable_development_goals\": [{\"id\": \"https://metadata.un.org/sdg/9\", \"display_name\": \"Industry, innovation and infrastructure\", \"score\": 0.24}, {\"id\": \"https://metadata.un.org/sdg/12\", \"display_name\": \"Responsible consumption and production\", \"score\": 0.21}, {\"id\": \"https://metadata.un.org/sdg/7\", \"display_name\": \"Affordable and clean energy\", \"score\": 0.17}], \"grants\": [{\"funder\": \"https://openalex.org/F4320320924\", \"funder_display_name\": \"Schweizerischer Nationalfonds zur F\\u00f6rderung der Wissenschaftlichen Forschung\", \"award_id\": \"NCCR QSIT\"}, {\"funder\": \"https://openalex.org/F4320320924\", \"funder_display_name\": \"Schweizerischer Nationalfonds zur F\\u00f6rderung der Wissenschaftlichen Forschung\", \"award_id\": \"200021_169908\"}, {\"funder\": \"https://openalex.org/F4320321079\", \"funder_display_name\": \"Russian Foundation for Basic Research\", \"award_id\": \"16-29-03129\"}, {\"funder\": \"https://openalex.org/F4320321079\", \"funder_display_name\": \"Russian Foundation for Basic Research\", \"award_id\": \"18-02-40006\"}, {\"funder\": \"https://openalex.org/F4320321079\", \"funder_display_name\": \"Russian Foundation for Basic Research\", \"award_id\": \"16-02-00134\"}, {\"funder\": \"https://openalex.org/F4320321079\", \"funder_display_name\": \"Russian Foundation for Basic Research\", \"award_id\": \"16-29-03283\"}, {\"funder\": \"https://openalex.org/F4320321079\", \"funder_display_name\": \"Russian Foundation for Basic Research\", \"award_id\": \"17-52-16017\"}, {\"funder\": \"https://openalex.org/F4320321505\", \"funder_display_name\": \"Generalitat de Catalunya\", \"award_id\": \"2017 SGR 327\"}, {\"funder\": \"https://openalex.org/F4320321837\", \"funder_display_name\": \"Ministerio de Econom\\u00eda y Competitividad\", \"award_id\": \"ENE2017-85087-C3-3-R\"}, {\"funder\": \"https://openalex.org/F4320321837\", \"funder_display_name\": \"Ministerio de Econom\\u00eda y Competitividad\", \"award_id\": \"SEV-2013-0295\"}, {\"funder\": \"https://openalex.org/F4320332999\", \"funder_display_name\": \"Horizon 2020 Framework Programme\", \"award_id\": \"654360\"}], \"referenced_works_count\": 57, \"referenced_works\": [\"https://openalex.org/W1516056461\", \"https://openalex.org/W1576386197\", \"https://openalex.org/W1898694884\", \"https://openalex.org/W1904909671\", \"https://openalex.org/W1968603722\", \"https://openalex.org/W1974927760\", \"https://openalex.org/W1977190818\", \"https://openalex.org/W1978923803\", \"https://openalex.org/W1984812753\", \"https://openalex.org/W1990112580\", \"https://openalex.org/W1990566027\", \"https://openalex.org/W1996270964\", \"https://openalex.org/W1999477799\", \"https://openalex.org/W2000599118\", \"https://openalex.org/W2002281285\", \"https://openalex.org/W2007108379\", \"https://openalex.org/W2020708790\", \"https://openalex.org/W2023579904\", \"https://openalex.org/W2035602610\", \"https://openalex.org/W2036333234\", \"https://openalex.org/W2036493502\", \"https://openalex.org/W2042616100\", \"https://openalex.org/W2052623589\", \"https://openalex.org/W2062914959\", \"https://openalex.org/W2081450305\", \"https://openalex.org/W2081899708\", \"https://openalex.org/W2083269090\", \"https://openalex.org/W2084107785\", \"https://openalex.org/W2094505912\", \"https://openalex.org/W2096974345\", \"https://openalex.org/W2099527808\", \"https://openalex.org/W2133159874\", \"https://openalex.org/W2133424807\", \"https://openalex.org/W2136341652\", \"https://openalex.org/W2138529997\", \"https://openalex.org/W2143197791\", \"https://openalex.org/W2148395513\", \"https://openalex.org/W2158088767\", \"https://openalex.org/W2171363088\", \"https://openalex.org/W2239295671\", \"https://openalex.org/W2248260117\", \"https://openalex.org/W2297662834\", \"https://openalex.org/W2298681720\", \"https://openalex.org/W2315770525\", \"https://openalex.org/W2327620798\", \"https://openalex.org/W2333253091\", \"https://openalex.org/W2334078432\", \"https://openalex.org/W2341646959\", \"https://openalex.org/W2493316831\", \"https://openalex.org/W2510299250\", \"https://openalex.org/W2584288961\", \"https://openalex.org/W2598341150\", \"https://openalex.org/W2598785561\", \"https://openalex.org/W2612735838\", \"https://openalex.org/W2776372432\", \"https://openalex.org/W2778876606\", \"https://openalex.org/W2780487499\"], \"related_works\": [\"https://openalex.org/W1992022762\", \"https://openalex.org/W1969218947\", \"https://openalex.org/W2086710427\", \"https://openalex.org/W3014881430\", \"https://openalex.org/W3208221095\", \"https://openalex.org/W3193589605\", \"https://openalex.org/W2087185279\", \"https://openalex.org/W3082929978\", \"https://openalex.org/W4232665466\", \"https://openalex.org/W4214974275\"], \"ngrams_url\": \"https://api.openalex.org/works/W2889373178/ngrams\", \"abstract_inverted_index\": {\"Compound\": [0], \"semiconductors\": [1], \"exhibit\": [2], \"an\": [3, 44], \"intrinsic\": [4], \"polarity,\": [5], \"as\": [6], \"a\": [7, 33, 75], \"consequence\": [8], \"of\": [9, 12, 37, 54, 68, 77, 94, 97, 125, 145], \"the\": [10, 19, 38, 49, 63, 66, 95, 109, 113, 123, 143], \"ionicity\": [11], \"their\": [13], \"bonds.\": [14], \"Nanowires\": [15], \"grow\": [16, 29], \"mostly\": [17], \"along\": [18, 30, 112], \"(111)\": [20, 39], \"direction\": [21], \"for\": [22, 62, 142], \"energetic\": [23], \"reasons.\": [24], \"Arsenide\": [25], \"and\": [26, 51, 99, 151], \"phosphide\": [27], \"nanowires\": [28, 71], \"(111)B,\": [31], \"implying\": [32], \"group\": [34], \"V\": [35], \"termination\": [36], \"bilayers.\": [40], \"Polarity\": [41], \"engineering\": [42, 93, 144], \"provides\": [43, 139], \"additional\": [45], \"pathway\": [46], \"to\": [47, 79], \"modulate\": [48], \"structural\": [50], \"optical\": [52, 120, 152], \"properties\": [53], \"semiconductor\": [55], \"nanowires.\": [56], \"In\": [57], \"this\": [58, 137], \"work,\": [59], \"we\": [60], \"demonstrate\": [61], \"first\": [64], \"time\": [65], \"growth\": [67, 107, 114, 147], \"Ga-assisted\": [69], \"GaAs\": [70], \"with\": [72, 74, 129], \"(111)A-polarity,\": [73], \"yield\": [76], \"up\": [78], \"\\u223c50%.\": [80], \"This\": [81, 116], \"goal\": [82], \"is\": [83], \"achieved\": [84], \"by\": [85], \"employing\": [86], \"highly\": [87], \"Ga-rich\": [88], \"conditions\": [89], \"which\": [90], \"enable\": [91], \"proper\": [92], \"energies\": [96], \"A\": [98], \"B-polar\": [100], \"surfaces.\": [101], \"We\": [102], \"also\": [103], \"show\": [104], \"that\": [105], \"A-polarity\": [106], \"suppresses\": [108], \"stacking\": [110], \"disorder\": [111], \"axis.\": [115], \"results\": [117], \"in\": [118], \"improved\": [119], \"properties,\": [121], \"including\": [122], \"formation\": [124], \"AlGaAs\": [126], \"quantum\": [127], \"dots\": [128], \"two\": [130], \"orders\": [131], \"or\": [132], \"magnitude\": [133], \"higher\": [134], \"brightness.\": [135], \"Overall,\": [136], \"work\": [138], \"new\": [140], \"grounds\": [141], \"nanowire\": [146], \"directions,\": [148], \"crystal\": [149], \"quality\": [150], \"functionality.\": [153]}, \"cited_by_api_url\": \"https://api.openalex.org/works?filter=cites:W2889373178\", \"counts_by_year\": [{\"year\": 2023, \"cited_by_count\": 1}, {\"year\": 2022, \"cited_by_count\": 11}, {\"year\": 2021, \"cited_by_count\": 5}, {\"year\": 2020, \"cited_by_count\": 6}, {\"year\": 2019, \"cited_by_count\": 7}, {\"year\": 2018, \"cited_by_count\": 1}], \"updated_date\": \"2023-12-12T09:37:35.839310\", \"created_date\": \"2018-09-07\"}))</script>"
      ],
      "text/plain": [
       "<IPython.core.display.HTML object>"
      ]
     },
     "metadata": {},
     "output_type": "display_data"
    }
   ],
   "source": [
    "id = \"W2889373178\"\n",
    "response = requests.get(f\"https://api.openalex.org/works/{id}\").json()\n",
    "mercury.JSON(response)"
   ]
  },
  {
   "cell_type": "code",
   "execution_count": 93,
   "metadata": {},
   "outputs": [],
   "source": [
    "# Build Sankey data\n",
    "labels = [\"OpenAlex\", \"UNDEFINED\", \"DOI_FOUND\", \"CRAWLED\", \"PARSED\", \"PARSED_FR\", \"IN_FOSM\", \"IN_FOSM_FR\", \n",
    "          \"BAD_DOI\", \"DOI_NO_ACCESS\", \"DOI_NO_CROSSREF\", \"DOI_NO_UNPAYWALL\", \"DOI_NO_PUBLICATION_YEAR\",\n",
    "          \"DOI_EARLY_PUBLICATION_YEAR\", \"DOI_LATE_PUBLICATION_YEAR\", \"NOT_PARSED_FR\", \"NOT_PARSED\", \n",
    "          \"NOT_CRAWLED\", \"ALEX_DOI_NOT_FOUND\", \"ALEX_AUTHORSHIPS_NOT_FOUND\", \"ALEX_YEAR_NOT_FOUND\", \n",
    "          \"ALEX_TYPE_NOT_FOUND\", \"FOSM_YEAR_NOT_FOUND\", \"FOSM_TYPE_NOT_FOUND\", \"MISMATCH_YEAR\", \n",
    "          \"MISMATCH_TYPE\", \"MISMATCH_FRENCH_AFFILIATION\", \"OK\"]\n",
    "\n",
    "sources = []\n",
    "targets = []\n",
    "values = []\n"
   ]
  },
  {
   "cell_type": "code",
   "execution_count": 94,
   "metadata": {},
   "outputs": [],
   "source": [
    "part000.loc[part000[\"coverage.last_error_data\"] == \"('journal-article', 'article')\", \"coverage.last_error\"] = \"OK\"\n",
    "part000.loc[part000[\"coverage.last_error\"] == \"OK\", \"coverage.last_error_data\"] = None"
   ]
  },
  {
   "cell_type": "code",
   "execution_count": 95,
   "metadata": {},
   "outputs": [
    {
     "name": "stdout",
     "output_type": "stream",
     "text": [
      "{'IN_FOSM_FR': 46324, 'PARSED': 496, 'PARSED_FR': 342, 'DOI_FOUND': 159, 'IN_FOSM': 24, 'UNDEFINED': 17, 'CRAWLED': 8}\n",
      "[0, 0, 0, 0, 0, 0, 0] [7, 4, 5, 2, 6, 1, 3] [46324, 496, 342, 159, 24, 17, 8]\n"
     ]
    }
   ],
   "source": [
    "states_dict = part000[\"coverage.last_state\"].value_counts().to_dict()\n",
    "print(states_dict)\n",
    "for key in states_dict:\n",
    "    sources.append(labels.index(\"OpenAlex\"))\n",
    "    targets.append(labels.index(key))\n",
    "    values.append(states_dict.get(key))\n",
    "\n",
    "print(sources, targets, values)\n",
    "    \n"
   ]
  },
  {
   "cell_type": "code",
   "execution_count": 96,
   "metadata": {},
   "outputs": [
    {
     "data": {
      "text/html": [
       "<div>\n",
       "<style scoped>\n",
       "    .dataframe tbody tr th:only-of-type {\n",
       "        vertical-align: middle;\n",
       "    }\n",
       "\n",
       "    .dataframe tbody tr th {\n",
       "        vertical-align: top;\n",
       "    }\n",
       "\n",
       "    .dataframe thead th {\n",
       "        text-align: right;\n",
       "    }\n",
       "</style>\n",
       "<table border=\"1\" class=\"dataframe\">\n",
       "  <thead>\n",
       "    <tr style=\"text-align: right;\">\n",
       "      <th></th>\n",
       "      <th>coverage.last_state</th>\n",
       "      <th>coverage.last_error</th>\n",
       "      <th>size</th>\n",
       "    </tr>\n",
       "  </thead>\n",
       "  <tbody>\n",
       "    <tr>\n",
       "      <th>0</th>\n",
       "      <td>CRAWLED</td>\n",
       "      <td>NOT_PARSED</td>\n",
       "      <td>8</td>\n",
       "    </tr>\n",
       "    <tr>\n",
       "      <th>1</th>\n",
       "      <td>DOI_FOUND</td>\n",
       "      <td>DOI_LATE_PUBLICATION_YEAR</td>\n",
       "      <td>61</td>\n",
       "    </tr>\n",
       "    <tr>\n",
       "      <th>2</th>\n",
       "      <td>DOI_FOUND</td>\n",
       "      <td>DOI_NO_CROSSREF</td>\n",
       "      <td>9</td>\n",
       "    </tr>\n",
       "    <tr>\n",
       "      <th>3</th>\n",
       "      <td>DOI_FOUND</td>\n",
       "      <td>NOT_CRAWLED</td>\n",
       "      <td>89</td>\n",
       "    </tr>\n",
       "    <tr>\n",
       "      <th>4</th>\n",
       "      <td>IN_FOSM</td>\n",
       "      <td>MISMATCH_FRENCH_AFFILIATION</td>\n",
       "      <td>19</td>\n",
       "    </tr>\n",
       "    <tr>\n",
       "      <th>5</th>\n",
       "      <td>IN_FOSM</td>\n",
       "      <td>MISMATCH_TYPE</td>\n",
       "      <td>2</td>\n",
       "    </tr>\n",
       "    <tr>\n",
       "      <th>6</th>\n",
       "      <td>IN_FOSM</td>\n",
       "      <td>OK</td>\n",
       "      <td>3</td>\n",
       "    </tr>\n",
       "    <tr>\n",
       "      <th>7</th>\n",
       "      <td>IN_FOSM_FR</td>\n",
       "      <td>MISMATCH_TYPE</td>\n",
       "      <td>973</td>\n",
       "    </tr>\n",
       "    <tr>\n",
       "      <th>8</th>\n",
       "      <td>IN_FOSM_FR</td>\n",
       "      <td>MISMATCH_YEAR</td>\n",
       "      <td>26</td>\n",
       "    </tr>\n",
       "    <tr>\n",
       "      <th>9</th>\n",
       "      <td>IN_FOSM_FR</td>\n",
       "      <td>OK</td>\n",
       "      <td>45325</td>\n",
       "    </tr>\n",
       "    <tr>\n",
       "      <th>10</th>\n",
       "      <td>PARSED</td>\n",
       "      <td>NOT_PARSED_FR</td>\n",
       "      <td>496</td>\n",
       "    </tr>\n",
       "    <tr>\n",
       "      <th>11</th>\n",
       "      <td>PARSED_FR</td>\n",
       "      <td>OK</td>\n",
       "      <td>342</td>\n",
       "    </tr>\n",
       "    <tr>\n",
       "      <th>12</th>\n",
       "      <td>UNDEFINED</td>\n",
       "      <td>DOI_NO_ACCESS</td>\n",
       "      <td>17</td>\n",
       "    </tr>\n",
       "  </tbody>\n",
       "</table>\n",
       "</div>"
      ],
      "text/plain": [
       "   coverage.last_state          coverage.last_error   size\n",
       "0              CRAWLED                   NOT_PARSED      8\n",
       "1            DOI_FOUND    DOI_LATE_PUBLICATION_YEAR     61\n",
       "2            DOI_FOUND              DOI_NO_CROSSREF      9\n",
       "3            DOI_FOUND                  NOT_CRAWLED     89\n",
       "4              IN_FOSM  MISMATCH_FRENCH_AFFILIATION     19\n",
       "5              IN_FOSM                MISMATCH_TYPE      2\n",
       "6              IN_FOSM                           OK      3\n",
       "7           IN_FOSM_FR                MISMATCH_TYPE    973\n",
       "8           IN_FOSM_FR                MISMATCH_YEAR     26\n",
       "9           IN_FOSM_FR                           OK  45325\n",
       "10              PARSED                NOT_PARSED_FR    496\n",
       "11           PARSED_FR                           OK    342\n",
       "12           UNDEFINED                DOI_NO_ACCESS     17"
      ]
     },
     "metadata": {},
     "output_type": "display_data"
    },
    {
     "name": "stdout",
     "output_type": "stream",
     "text": [
      "[0, 0, 0, 0, 0, 0, 0, 3, 2, 2, 2, 6, 6, 6, 7, 7, 7, 4, 5, 1] [7, 4, 5, 2, 6, 1, 3, 16, 14, 10, 17, 26, 25, 27, 25, 24, 27, 15, 27, 9] [46324, 496, 342, 159, 24, 17, 8, 8, 61, 9, 89, 19, 2, 3, 973, 26, 45325, 496, 342, 17]\n"
     ]
    }
   ],
   "source": [
    "grouped_df = part000.groupby(by=[\"coverage.last_state\", \"coverage.last_error\"], as_index=False).size()\n",
    "display(grouped_df)\n",
    "for index, row in grouped_df.iterrows():\n",
    "    sources.append(labels.index(row[\"coverage.last_state\"]))\n",
    "    targets.append(labels.index(row[\"coverage.last_error\"]))\n",
    "    values.append(row[\"size\"])\n",
    "\n",
    "print(sources, targets, values)"
   ]
  },
  {
   "cell_type": "code",
   "execution_count": 97,
   "metadata": {},
   "outputs": [
    {
     "data": {
      "text/html": [
       "<div>\n",
       "<style scoped>\n",
       "    .dataframe tbody tr th:only-of-type {\n",
       "        vertical-align: middle;\n",
       "    }\n",
       "\n",
       "    .dataframe tbody tr th {\n",
       "        vertical-align: top;\n",
       "    }\n",
       "\n",
       "    .dataframe thead th {\n",
       "        text-align: right;\n",
       "    }\n",
       "</style>\n",
       "<table border=\"1\" class=\"dataframe\">\n",
       "  <thead>\n",
       "    <tr style=\"text-align: right;\">\n",
       "      <th></th>\n",
       "      <th>coverage.last_error</th>\n",
       "      <th>coverage.last_error_data</th>\n",
       "      <th>size</th>\n",
       "    </tr>\n",
       "  </thead>\n",
       "  <tbody>\n",
       "    <tr>\n",
       "      <th>0</th>\n",
       "      <td>DOI_LATE_PUBLICATION_YEAR</td>\n",
       "      <td>('publication_year', 2022)</td>\n",
       "      <td>11</td>\n",
       "    </tr>\n",
       "    <tr>\n",
       "      <th>1</th>\n",
       "      <td>DOI_LATE_PUBLICATION_YEAR</td>\n",
       "      <td>('publication_year', 2023)</td>\n",
       "      <td>50</td>\n",
       "    </tr>\n",
       "    <tr>\n",
       "      <th>2</th>\n",
       "      <td>DOI_NO_ACCESS</td>\n",
       "      <td>('doi_status_code', 404)</td>\n",
       "      <td>14</td>\n",
       "    </tr>\n",
       "    <tr>\n",
       "      <th>3</th>\n",
       "      <td>DOI_NO_ACCESS</td>\n",
       "      <td>('doi_status_code', 500)</td>\n",
       "      <td>1</td>\n",
       "    </tr>\n",
       "    <tr>\n",
       "      <th>4</th>\n",
       "      <td>DOI_NO_ACCESS</td>\n",
       "      <td>('doi_status_code', 502)</td>\n",
       "      <td>2</td>\n",
       "    </tr>\n",
       "    <tr>\n",
       "      <th>5</th>\n",
       "      <td>DOI_NO_CROSSREF</td>\n",
       "      <td>('agency', 'datacite')</td>\n",
       "      <td>5</td>\n",
       "    </tr>\n",
       "    <tr>\n",
       "      <th>6</th>\n",
       "      <td>DOI_NO_CROSSREF</td>\n",
       "      <td>('agency', 'medra')</td>\n",
       "      <td>2</td>\n",
       "    </tr>\n",
       "    <tr>\n",
       "      <th>7</th>\n",
       "      <td>DOI_NO_CROSSREF</td>\n",
       "      <td>('agency', 'op')</td>\n",
       "      <td>2</td>\n",
       "    </tr>\n",
       "    <tr>\n",
       "      <th>8</th>\n",
       "      <td>MISMATCH_FRENCH_AFFILIATION</td>\n",
       "      <td>['1015 Lausanne; EPFL; Laboratoire des Matéria...</td>\n",
       "      <td>1</td>\n",
       "    </tr>\n",
       "    <tr>\n",
       "      <th>9</th>\n",
       "      <td>MISMATCH_FRENCH_AFFILIATION</td>\n",
       "      <td>['Clinique du Vertige, Centre Hospitalier Emil...</td>\n",
       "      <td>1</td>\n",
       "    </tr>\n",
       "    <tr>\n",
       "      <th>10</th>\n",
       "      <td>MISMATCH_FRENCH_AFFILIATION</td>\n",
       "      <td>['Department of Sciences and Engineering Sorbo...</td>\n",
       "      <td>1</td>\n",
       "    </tr>\n",
       "    <tr>\n",
       "      <th>11</th>\n",
       "      <td>MISMATCH_FRENCH_AFFILIATION</td>\n",
       "      <td>['Department of Sciences and Engineering, Sorb...</td>\n",
       "      <td>1</td>\n",
       "    </tr>\n",
       "    <tr>\n",
       "      <th>12</th>\n",
       "      <td>MISMATCH_FRENCH_AFFILIATION</td>\n",
       "      <td>['Department of Sciences and Engineering, Sorb...</td>\n",
       "      <td>1</td>\n",
       "    </tr>\n",
       "    <tr>\n",
       "      <th>13</th>\n",
       "      <td>MISMATCH_FRENCH_AFFILIATION</td>\n",
       "      <td>['Department of Sciences and Engineering, Sorb...</td>\n",
       "      <td>1</td>\n",
       "    </tr>\n",
       "    <tr>\n",
       "      <th>14</th>\n",
       "      <td>MISMATCH_FRENCH_AFFILIATION</td>\n",
       "      <td>['Dipartimento di Scienze e Tecnologie Chimich...</td>\n",
       "      <td>1</td>\n",
       "    </tr>\n",
       "    <tr>\n",
       "      <th>15</th>\n",
       "      <td>MISMATCH_FRENCH_AFFILIATION</td>\n",
       "      <td>['Division of Nephrology and Hypertension, Cen...</td>\n",
       "      <td>1</td>\n",
       "    </tr>\n",
       "    <tr>\n",
       "      <th>16</th>\n",
       "      <td>MISMATCH_FRENCH_AFFILIATION</td>\n",
       "      <td>['EPFL ,']</td>\n",
       "      <td>1</td>\n",
       "    </tr>\n",
       "    <tr>\n",
       "      <th>17</th>\n",
       "      <td>MISMATCH_FRENCH_AFFILIATION</td>\n",
       "      <td>['EPFL; Faculty of Engineering; Institute of M...</td>\n",
       "      <td>1</td>\n",
       "    </tr>\n",
       "    <tr>\n",
       "      <th>18</th>\n",
       "      <td>MISMATCH_FRENCH_AFFILIATION</td>\n",
       "      <td>['Foundation of Research and Technology-Hellas...</td>\n",
       "      <td>1</td>\n",
       "    </tr>\n",
       "    <tr>\n",
       "      <th>19</th>\n",
       "      <td>MISMATCH_FRENCH_AFFILIATION</td>\n",
       "      <td>['Laboratoire de Biochimie, CHU Habib Bourguib...</td>\n",
       "      <td>1</td>\n",
       "    </tr>\n",
       "    <tr>\n",
       "      <th>20</th>\n",
       "      <td>MISMATCH_FRENCH_AFFILIATION</td>\n",
       "      <td>['Medicine and Endocrinology, Pondicherry Inst...</td>\n",
       "      <td>1</td>\n",
       "    </tr>\n",
       "    <tr>\n",
       "      <th>21</th>\n",
       "      <td>MISMATCH_FRENCH_AFFILIATION</td>\n",
       "      <td>['Montimage']</td>\n",
       "      <td>1</td>\n",
       "    </tr>\n",
       "    <tr>\n",
       "      <th>22</th>\n",
       "      <td>MISMATCH_FRENCH_AFFILIATION</td>\n",
       "      <td>['Science and Engineering Department, Sorbonne...</td>\n",
       "      <td>1</td>\n",
       "    </tr>\n",
       "    <tr>\n",
       "      <th>23</th>\n",
       "      <td>MISMATCH_FRENCH_AFFILIATION</td>\n",
       "      <td>['Sciences and Engineering Department, Sorbonn...</td>\n",
       "      <td>1</td>\n",
       "    </tr>\n",
       "    <tr>\n",
       "      <th>24</th>\n",
       "      <td>MISMATCH_FRENCH_AFFILIATION</td>\n",
       "      <td>['Sorbonne Center of Artificial Intelligence, ...</td>\n",
       "      <td>2</td>\n",
       "    </tr>\n",
       "    <tr>\n",
       "      <th>25</th>\n",
       "      <td>MISMATCH_FRENCH_AFFILIATION</td>\n",
       "      <td>['[ATOS]']</td>\n",
       "      <td>1</td>\n",
       "    </tr>\n",
       "    <tr>\n",
       "      <th>26</th>\n",
       "      <td>MISMATCH_TYPE</td>\n",
       "      <td>('journal-article', 'editorial')</td>\n",
       "      <td>16</td>\n",
       "    </tr>\n",
       "    <tr>\n",
       "      <th>27</th>\n",
       "      <td>MISMATCH_TYPE</td>\n",
       "      <td>('journal-article', 'erratum')</td>\n",
       "      <td>10</td>\n",
       "    </tr>\n",
       "    <tr>\n",
       "      <th>28</th>\n",
       "      <td>MISMATCH_TYPE</td>\n",
       "      <td>('journal-article', 'letter')</td>\n",
       "      <td>5</td>\n",
       "    </tr>\n",
       "    <tr>\n",
       "      <th>29</th>\n",
       "      <td>MISMATCH_TYPE</td>\n",
       "      <td>('other', 'article')</td>\n",
       "      <td>12</td>\n",
       "    </tr>\n",
       "    <tr>\n",
       "      <th>30</th>\n",
       "      <td>MISMATCH_TYPE</td>\n",
       "      <td>('other', 'peer-review')</td>\n",
       "      <td>3</td>\n",
       "    </tr>\n",
       "    <tr>\n",
       "      <th>31</th>\n",
       "      <td>MISMATCH_TYPE</td>\n",
       "      <td>('other', 'report')</td>\n",
       "      <td>1</td>\n",
       "    </tr>\n",
       "    <tr>\n",
       "      <th>32</th>\n",
       "      <td>MISMATCH_TYPE</td>\n",
       "      <td>('preprint', 'article')</td>\n",
       "      <td>171</td>\n",
       "    </tr>\n",
       "    <tr>\n",
       "      <th>33</th>\n",
       "      <td>MISMATCH_TYPE</td>\n",
       "      <td>('proceedings', 'article')</td>\n",
       "      <td>757</td>\n",
       "    </tr>\n",
       "    <tr>\n",
       "      <th>34</th>\n",
       "      <td>MISMATCH_YEAR</td>\n",
       "      <td>(2016, 2023)</td>\n",
       "      <td>1</td>\n",
       "    </tr>\n",
       "    <tr>\n",
       "      <th>35</th>\n",
       "      <td>MISMATCH_YEAR</td>\n",
       "      <td>(2017, 2018)</td>\n",
       "      <td>2</td>\n",
       "    </tr>\n",
       "    <tr>\n",
       "      <th>36</th>\n",
       "      <td>MISMATCH_YEAR</td>\n",
       "      <td>(2018, 2019)</td>\n",
       "      <td>2</td>\n",
       "    </tr>\n",
       "    <tr>\n",
       "      <th>37</th>\n",
       "      <td>MISMATCH_YEAR</td>\n",
       "      <td>(2018, 2023)</td>\n",
       "      <td>1</td>\n",
       "    </tr>\n",
       "    <tr>\n",
       "      <th>38</th>\n",
       "      <td>MISMATCH_YEAR</td>\n",
       "      <td>(2019, 2018)</td>\n",
       "      <td>1</td>\n",
       "    </tr>\n",
       "    <tr>\n",
       "      <th>39</th>\n",
       "      <td>MISMATCH_YEAR</td>\n",
       "      <td>(2020, 2019)</td>\n",
       "      <td>9</td>\n",
       "    </tr>\n",
       "    <tr>\n",
       "      <th>40</th>\n",
       "      <td>MISMATCH_YEAR</td>\n",
       "      <td>(2021, 2022)</td>\n",
       "      <td>2</td>\n",
       "    </tr>\n",
       "    <tr>\n",
       "      <th>41</th>\n",
       "      <td>MISMATCH_YEAR</td>\n",
       "      <td>(2022, 2021)</td>\n",
       "      <td>1</td>\n",
       "    </tr>\n",
       "    <tr>\n",
       "      <th>42</th>\n",
       "      <td>MISMATCH_YEAR</td>\n",
       "      <td>(2022, 2023)</td>\n",
       "      <td>7</td>\n",
       "    </tr>\n",
       "    <tr>\n",
       "      <th>43</th>\n",
       "      <td>NOT_CRAWLED</td>\n",
       "      <td>None</td>\n",
       "      <td>89</td>\n",
       "    </tr>\n",
       "    <tr>\n",
       "      <th>44</th>\n",
       "      <td>NOT_PARSED</td>\n",
       "      <td>None</td>\n",
       "      <td>8</td>\n",
       "    </tr>\n",
       "    <tr>\n",
       "      <th>45</th>\n",
       "      <td>NOT_PARSED_FR</td>\n",
       "      <td>None</td>\n",
       "      <td>496</td>\n",
       "    </tr>\n",
       "  </tbody>\n",
       "</table>\n",
       "</div>"
      ],
      "text/plain": [
       "            coverage.last_error  \\\n",
       "0     DOI_LATE_PUBLICATION_YEAR   \n",
       "1     DOI_LATE_PUBLICATION_YEAR   \n",
       "2                 DOI_NO_ACCESS   \n",
       "3                 DOI_NO_ACCESS   \n",
       "4                 DOI_NO_ACCESS   \n",
       "5               DOI_NO_CROSSREF   \n",
       "6               DOI_NO_CROSSREF   \n",
       "7               DOI_NO_CROSSREF   \n",
       "8   MISMATCH_FRENCH_AFFILIATION   \n",
       "9   MISMATCH_FRENCH_AFFILIATION   \n",
       "10  MISMATCH_FRENCH_AFFILIATION   \n",
       "11  MISMATCH_FRENCH_AFFILIATION   \n",
       "12  MISMATCH_FRENCH_AFFILIATION   \n",
       "13  MISMATCH_FRENCH_AFFILIATION   \n",
       "14  MISMATCH_FRENCH_AFFILIATION   \n",
       "15  MISMATCH_FRENCH_AFFILIATION   \n",
       "16  MISMATCH_FRENCH_AFFILIATION   \n",
       "17  MISMATCH_FRENCH_AFFILIATION   \n",
       "18  MISMATCH_FRENCH_AFFILIATION   \n",
       "19  MISMATCH_FRENCH_AFFILIATION   \n",
       "20  MISMATCH_FRENCH_AFFILIATION   \n",
       "21  MISMATCH_FRENCH_AFFILIATION   \n",
       "22  MISMATCH_FRENCH_AFFILIATION   \n",
       "23  MISMATCH_FRENCH_AFFILIATION   \n",
       "24  MISMATCH_FRENCH_AFFILIATION   \n",
       "25  MISMATCH_FRENCH_AFFILIATION   \n",
       "26                MISMATCH_TYPE   \n",
       "27                MISMATCH_TYPE   \n",
       "28                MISMATCH_TYPE   \n",
       "29                MISMATCH_TYPE   \n",
       "30                MISMATCH_TYPE   \n",
       "31                MISMATCH_TYPE   \n",
       "32                MISMATCH_TYPE   \n",
       "33                MISMATCH_TYPE   \n",
       "34                MISMATCH_YEAR   \n",
       "35                MISMATCH_YEAR   \n",
       "36                MISMATCH_YEAR   \n",
       "37                MISMATCH_YEAR   \n",
       "38                MISMATCH_YEAR   \n",
       "39                MISMATCH_YEAR   \n",
       "40                MISMATCH_YEAR   \n",
       "41                MISMATCH_YEAR   \n",
       "42                MISMATCH_YEAR   \n",
       "43                  NOT_CRAWLED   \n",
       "44                   NOT_PARSED   \n",
       "45                NOT_PARSED_FR   \n",
       "\n",
       "                             coverage.last_error_data  size  \n",
       "0                          ('publication_year', 2022)    11  \n",
       "1                          ('publication_year', 2023)    50  \n",
       "2                            ('doi_status_code', 404)    14  \n",
       "3                            ('doi_status_code', 500)     1  \n",
       "4                            ('doi_status_code', 502)     2  \n",
       "5                              ('agency', 'datacite')     5  \n",
       "6                                 ('agency', 'medra')     2  \n",
       "7                                    ('agency', 'op')     2  \n",
       "8   ['1015 Lausanne; EPFL; Laboratoire des Matéria...     1  \n",
       "9   ['Clinique du Vertige, Centre Hospitalier Emil...     1  \n",
       "10  ['Department of Sciences and Engineering Sorbo...     1  \n",
       "11  ['Department of Sciences and Engineering, Sorb...     1  \n",
       "12  ['Department of Sciences and Engineering, Sorb...     1  \n",
       "13  ['Department of Sciences and Engineering, Sorb...     1  \n",
       "14  ['Dipartimento di Scienze e Tecnologie Chimich...     1  \n",
       "15  ['Division of Nephrology and Hypertension, Cen...     1  \n",
       "16                                         ['EPFL ,']     1  \n",
       "17  ['EPFL; Faculty of Engineering; Institute of M...     1  \n",
       "18  ['Foundation of Research and Technology-Hellas...     1  \n",
       "19  ['Laboratoire de Biochimie, CHU Habib Bourguib...     1  \n",
       "20  ['Medicine and Endocrinology, Pondicherry Inst...     1  \n",
       "21                                      ['Montimage']     1  \n",
       "22  ['Science and Engineering Department, Sorbonne...     1  \n",
       "23  ['Sciences and Engineering Department, Sorbonn...     1  \n",
       "24  ['Sorbonne Center of Artificial Intelligence, ...     2  \n",
       "25                                         ['[ATOS]']     1  \n",
       "26                   ('journal-article', 'editorial')    16  \n",
       "27                     ('journal-article', 'erratum')    10  \n",
       "28                      ('journal-article', 'letter')     5  \n",
       "29                               ('other', 'article')    12  \n",
       "30                           ('other', 'peer-review')     3  \n",
       "31                                ('other', 'report')     1  \n",
       "32                            ('preprint', 'article')   171  \n",
       "33                         ('proceedings', 'article')   757  \n",
       "34                                       (2016, 2023)     1  \n",
       "35                                       (2017, 2018)     2  \n",
       "36                                       (2018, 2019)     2  \n",
       "37                                       (2018, 2023)     1  \n",
       "38                                       (2019, 2018)     1  \n",
       "39                                       (2020, 2019)     9  \n",
       "40                                       (2021, 2022)     2  \n",
       "41                                       (2022, 2021)     1  \n",
       "42                                       (2022, 2023)     7  \n",
       "43                                               None    89  \n",
       "44                                               None     8  \n",
       "45                                               None   496  "
      ]
     },
     "metadata": {},
     "output_type": "display_data"
    }
   ],
   "source": [
    "grouped_df = part000.groupby(by=[\"coverage.last_error\", \"coverage.last_error_data\"], as_index=False).size()\n",
    "display(grouped_df)"
   ]
  },
  {
   "cell_type": "code",
   "execution_count": 98,
   "metadata": {},
   "outputs": [
    {
     "data": {
      "application/vnd.plotly.v1+json": {
       "config": {
        "plotlyServerURL": "https://plot.ly"
       },
       "data": [
        {
         "link": {
          "source": [
           0,
           0,
           0,
           0,
           0,
           0,
           0,
           3,
           2,
           2,
           2,
           6,
           6,
           6,
           7,
           7,
           7,
           4,
           5,
           1
          ],
          "target": [
           7,
           4,
           5,
           2,
           6,
           1,
           3,
           16,
           14,
           10,
           17,
           26,
           25,
           27,
           25,
           24,
           27,
           15,
           27,
           9
          ],
          "value": [
           46324,
           496,
           342,
           159,
           24,
           17,
           8,
           8,
           61,
           9,
           89,
           19,
           2,
           3,
           973,
           26,
           45325,
           496,
           342,
           17
          ]
         },
         "node": {
          "color": "blue",
          "label": [
           "OpenAlex",
           "UNDEFINED",
           "DOI_FOUND",
           "CRAWLED",
           "PARSED",
           "PARSED_FR",
           "IN_FOSM",
           "IN_FOSM_FR",
           "BAD_DOI",
           "DOI_NO_ACCESS",
           "DOI_NO_CROSSREF",
           "DOI_NO_UNPAYWALL",
           "DOI_NO_PUBLICATION_YEAR",
           "DOI_EARLY_PUBLICATION_YEAR",
           "DOI_LATE_PUBLICATION_YEAR",
           "NOT_PARSED_FR",
           "NOT_PARSED",
           "NOT_CRAWLED",
           "ALEX_DOI_NOT_FOUND",
           "ALEX_AUTHORSHIPS_NOT_FOUND",
           "ALEX_YEAR_NOT_FOUND",
           "ALEX_TYPE_NOT_FOUND",
           "FOSM_YEAR_NOT_FOUND",
           "FOSM_TYPE_NOT_FOUND",
           "MISMATCH_YEAR",
           "MISMATCH_TYPE",
           "MISMATCH_FRENCH_AFFILIATION",
           "OK"
          ],
          "line": {
           "color": "black",
           "width": 0.5
          },
          "pad": 15,
          "thickness": 20
         },
         "type": "sankey"
        }
       ],
       "layout": {
        "font": {
         "size": 10
        },
        "template": {
         "data": {
          "bar": [
           {
            "error_x": {
             "color": "#2a3f5f"
            },
            "error_y": {
             "color": "#2a3f5f"
            },
            "marker": {
             "line": {
              "color": "#E5ECF6",
              "width": 0.5
             },
             "pattern": {
              "fillmode": "overlay",
              "size": 10,
              "solidity": 0.2
             }
            },
            "type": "bar"
           }
          ],
          "barpolar": [
           {
            "marker": {
             "line": {
              "color": "#E5ECF6",
              "width": 0.5
             },
             "pattern": {
              "fillmode": "overlay",
              "size": 10,
              "solidity": 0.2
             }
            },
            "type": "barpolar"
           }
          ],
          "carpet": [
           {
            "aaxis": {
             "endlinecolor": "#2a3f5f",
             "gridcolor": "white",
             "linecolor": "white",
             "minorgridcolor": "white",
             "startlinecolor": "#2a3f5f"
            },
            "baxis": {
             "endlinecolor": "#2a3f5f",
             "gridcolor": "white",
             "linecolor": "white",
             "minorgridcolor": "white",
             "startlinecolor": "#2a3f5f"
            },
            "type": "carpet"
           }
          ],
          "choropleth": [
           {
            "colorbar": {
             "outlinewidth": 0,
             "ticks": ""
            },
            "type": "choropleth"
           }
          ],
          "contour": [
           {
            "colorbar": {
             "outlinewidth": 0,
             "ticks": ""
            },
            "colorscale": [
             [
              0,
              "#0d0887"
             ],
             [
              0.1111111111111111,
              "#46039f"
             ],
             [
              0.2222222222222222,
              "#7201a8"
             ],
             [
              0.3333333333333333,
              "#9c179e"
             ],
             [
              0.4444444444444444,
              "#bd3786"
             ],
             [
              0.5555555555555556,
              "#d8576b"
             ],
             [
              0.6666666666666666,
              "#ed7953"
             ],
             [
              0.7777777777777778,
              "#fb9f3a"
             ],
             [
              0.8888888888888888,
              "#fdca26"
             ],
             [
              1,
              "#f0f921"
             ]
            ],
            "type": "contour"
           }
          ],
          "contourcarpet": [
           {
            "colorbar": {
             "outlinewidth": 0,
             "ticks": ""
            },
            "type": "contourcarpet"
           }
          ],
          "heatmap": [
           {
            "colorbar": {
             "outlinewidth": 0,
             "ticks": ""
            },
            "colorscale": [
             [
              0,
              "#0d0887"
             ],
             [
              0.1111111111111111,
              "#46039f"
             ],
             [
              0.2222222222222222,
              "#7201a8"
             ],
             [
              0.3333333333333333,
              "#9c179e"
             ],
             [
              0.4444444444444444,
              "#bd3786"
             ],
             [
              0.5555555555555556,
              "#d8576b"
             ],
             [
              0.6666666666666666,
              "#ed7953"
             ],
             [
              0.7777777777777778,
              "#fb9f3a"
             ],
             [
              0.8888888888888888,
              "#fdca26"
             ],
             [
              1,
              "#f0f921"
             ]
            ],
            "type": "heatmap"
           }
          ],
          "heatmapgl": [
           {
            "colorbar": {
             "outlinewidth": 0,
             "ticks": ""
            },
            "colorscale": [
             [
              0,
              "#0d0887"
             ],
             [
              0.1111111111111111,
              "#46039f"
             ],
             [
              0.2222222222222222,
              "#7201a8"
             ],
             [
              0.3333333333333333,
              "#9c179e"
             ],
             [
              0.4444444444444444,
              "#bd3786"
             ],
             [
              0.5555555555555556,
              "#d8576b"
             ],
             [
              0.6666666666666666,
              "#ed7953"
             ],
             [
              0.7777777777777778,
              "#fb9f3a"
             ],
             [
              0.8888888888888888,
              "#fdca26"
             ],
             [
              1,
              "#f0f921"
             ]
            ],
            "type": "heatmapgl"
           }
          ],
          "histogram": [
           {
            "marker": {
             "pattern": {
              "fillmode": "overlay",
              "size": 10,
              "solidity": 0.2
             }
            },
            "type": "histogram"
           }
          ],
          "histogram2d": [
           {
            "colorbar": {
             "outlinewidth": 0,
             "ticks": ""
            },
            "colorscale": [
             [
              0,
              "#0d0887"
             ],
             [
              0.1111111111111111,
              "#46039f"
             ],
             [
              0.2222222222222222,
              "#7201a8"
             ],
             [
              0.3333333333333333,
              "#9c179e"
             ],
             [
              0.4444444444444444,
              "#bd3786"
             ],
             [
              0.5555555555555556,
              "#d8576b"
             ],
             [
              0.6666666666666666,
              "#ed7953"
             ],
             [
              0.7777777777777778,
              "#fb9f3a"
             ],
             [
              0.8888888888888888,
              "#fdca26"
             ],
             [
              1,
              "#f0f921"
             ]
            ],
            "type": "histogram2d"
           }
          ],
          "histogram2dcontour": [
           {
            "colorbar": {
             "outlinewidth": 0,
             "ticks": ""
            },
            "colorscale": [
             [
              0,
              "#0d0887"
             ],
             [
              0.1111111111111111,
              "#46039f"
             ],
             [
              0.2222222222222222,
              "#7201a8"
             ],
             [
              0.3333333333333333,
              "#9c179e"
             ],
             [
              0.4444444444444444,
              "#bd3786"
             ],
             [
              0.5555555555555556,
              "#d8576b"
             ],
             [
              0.6666666666666666,
              "#ed7953"
             ],
             [
              0.7777777777777778,
              "#fb9f3a"
             ],
             [
              0.8888888888888888,
              "#fdca26"
             ],
             [
              1,
              "#f0f921"
             ]
            ],
            "type": "histogram2dcontour"
           }
          ],
          "mesh3d": [
           {
            "colorbar": {
             "outlinewidth": 0,
             "ticks": ""
            },
            "type": "mesh3d"
           }
          ],
          "parcoords": [
           {
            "line": {
             "colorbar": {
              "outlinewidth": 0,
              "ticks": ""
             }
            },
            "type": "parcoords"
           }
          ],
          "pie": [
           {
            "automargin": true,
            "type": "pie"
           }
          ],
          "scatter": [
           {
            "fillpattern": {
             "fillmode": "overlay",
             "size": 10,
             "solidity": 0.2
            },
            "type": "scatter"
           }
          ],
          "scatter3d": [
           {
            "line": {
             "colorbar": {
              "outlinewidth": 0,
              "ticks": ""
             }
            },
            "marker": {
             "colorbar": {
              "outlinewidth": 0,
              "ticks": ""
             }
            },
            "type": "scatter3d"
           }
          ],
          "scattercarpet": [
           {
            "marker": {
             "colorbar": {
              "outlinewidth": 0,
              "ticks": ""
             }
            },
            "type": "scattercarpet"
           }
          ],
          "scattergeo": [
           {
            "marker": {
             "colorbar": {
              "outlinewidth": 0,
              "ticks": ""
             }
            },
            "type": "scattergeo"
           }
          ],
          "scattergl": [
           {
            "marker": {
             "colorbar": {
              "outlinewidth": 0,
              "ticks": ""
             }
            },
            "type": "scattergl"
           }
          ],
          "scattermapbox": [
           {
            "marker": {
             "colorbar": {
              "outlinewidth": 0,
              "ticks": ""
             }
            },
            "type": "scattermapbox"
           }
          ],
          "scatterpolar": [
           {
            "marker": {
             "colorbar": {
              "outlinewidth": 0,
              "ticks": ""
             }
            },
            "type": "scatterpolar"
           }
          ],
          "scatterpolargl": [
           {
            "marker": {
             "colorbar": {
              "outlinewidth": 0,
              "ticks": ""
             }
            },
            "type": "scatterpolargl"
           }
          ],
          "scatterternary": [
           {
            "marker": {
             "colorbar": {
              "outlinewidth": 0,
              "ticks": ""
             }
            },
            "type": "scatterternary"
           }
          ],
          "surface": [
           {
            "colorbar": {
             "outlinewidth": 0,
             "ticks": ""
            },
            "colorscale": [
             [
              0,
              "#0d0887"
             ],
             [
              0.1111111111111111,
              "#46039f"
             ],
             [
              0.2222222222222222,
              "#7201a8"
             ],
             [
              0.3333333333333333,
              "#9c179e"
             ],
             [
              0.4444444444444444,
              "#bd3786"
             ],
             [
              0.5555555555555556,
              "#d8576b"
             ],
             [
              0.6666666666666666,
              "#ed7953"
             ],
             [
              0.7777777777777778,
              "#fb9f3a"
             ],
             [
              0.8888888888888888,
              "#fdca26"
             ],
             [
              1,
              "#f0f921"
             ]
            ],
            "type": "surface"
           }
          ],
          "table": [
           {
            "cells": {
             "fill": {
              "color": "#EBF0F8"
             },
             "line": {
              "color": "white"
             }
            },
            "header": {
             "fill": {
              "color": "#C8D4E3"
             },
             "line": {
              "color": "white"
             }
            },
            "type": "table"
           }
          ]
         },
         "layout": {
          "annotationdefaults": {
           "arrowcolor": "#2a3f5f",
           "arrowhead": 0,
           "arrowwidth": 1
          },
          "autotypenumbers": "strict",
          "coloraxis": {
           "colorbar": {
            "outlinewidth": 0,
            "ticks": ""
           }
          },
          "colorscale": {
           "diverging": [
            [
             0,
             "#8e0152"
            ],
            [
             0.1,
             "#c51b7d"
            ],
            [
             0.2,
             "#de77ae"
            ],
            [
             0.3,
             "#f1b6da"
            ],
            [
             0.4,
             "#fde0ef"
            ],
            [
             0.5,
             "#f7f7f7"
            ],
            [
             0.6,
             "#e6f5d0"
            ],
            [
             0.7,
             "#b8e186"
            ],
            [
             0.8,
             "#7fbc41"
            ],
            [
             0.9,
             "#4d9221"
            ],
            [
             1,
             "#276419"
            ]
           ],
           "sequential": [
            [
             0,
             "#0d0887"
            ],
            [
             0.1111111111111111,
             "#46039f"
            ],
            [
             0.2222222222222222,
             "#7201a8"
            ],
            [
             0.3333333333333333,
             "#9c179e"
            ],
            [
             0.4444444444444444,
             "#bd3786"
            ],
            [
             0.5555555555555556,
             "#d8576b"
            ],
            [
             0.6666666666666666,
             "#ed7953"
            ],
            [
             0.7777777777777778,
             "#fb9f3a"
            ],
            [
             0.8888888888888888,
             "#fdca26"
            ],
            [
             1,
             "#f0f921"
            ]
           ],
           "sequentialminus": [
            [
             0,
             "#0d0887"
            ],
            [
             0.1111111111111111,
             "#46039f"
            ],
            [
             0.2222222222222222,
             "#7201a8"
            ],
            [
             0.3333333333333333,
             "#9c179e"
            ],
            [
             0.4444444444444444,
             "#bd3786"
            ],
            [
             0.5555555555555556,
             "#d8576b"
            ],
            [
             0.6666666666666666,
             "#ed7953"
            ],
            [
             0.7777777777777778,
             "#fb9f3a"
            ],
            [
             0.8888888888888888,
             "#fdca26"
            ],
            [
             1,
             "#f0f921"
            ]
           ]
          },
          "colorway": [
           "#636efa",
           "#EF553B",
           "#00cc96",
           "#ab63fa",
           "#FFA15A",
           "#19d3f3",
           "#FF6692",
           "#B6E880",
           "#FF97FF",
           "#FECB52"
          ],
          "font": {
           "color": "#2a3f5f"
          },
          "geo": {
           "bgcolor": "white",
           "lakecolor": "white",
           "landcolor": "#E5ECF6",
           "showlakes": true,
           "showland": true,
           "subunitcolor": "white"
          },
          "hoverlabel": {
           "align": "left"
          },
          "hovermode": "closest",
          "mapbox": {
           "style": "light"
          },
          "paper_bgcolor": "white",
          "plot_bgcolor": "#E5ECF6",
          "polar": {
           "angularaxis": {
            "gridcolor": "white",
            "linecolor": "white",
            "ticks": ""
           },
           "bgcolor": "#E5ECF6",
           "radialaxis": {
            "gridcolor": "white",
            "linecolor": "white",
            "ticks": ""
           }
          },
          "scene": {
           "xaxis": {
            "backgroundcolor": "#E5ECF6",
            "gridcolor": "white",
            "gridwidth": 2,
            "linecolor": "white",
            "showbackground": true,
            "ticks": "",
            "zerolinecolor": "white"
           },
           "yaxis": {
            "backgroundcolor": "#E5ECF6",
            "gridcolor": "white",
            "gridwidth": 2,
            "linecolor": "white",
            "showbackground": true,
            "ticks": "",
            "zerolinecolor": "white"
           },
           "zaxis": {
            "backgroundcolor": "#E5ECF6",
            "gridcolor": "white",
            "gridwidth": 2,
            "linecolor": "white",
            "showbackground": true,
            "ticks": "",
            "zerolinecolor": "white"
           }
          },
          "shapedefaults": {
           "line": {
            "color": "#2a3f5f"
           }
          },
          "ternary": {
           "aaxis": {
            "gridcolor": "white",
            "linecolor": "white",
            "ticks": ""
           },
           "baxis": {
            "gridcolor": "white",
            "linecolor": "white",
            "ticks": ""
           },
           "bgcolor": "#E5ECF6",
           "caxis": {
            "gridcolor": "white",
            "linecolor": "white",
            "ticks": ""
           }
          },
          "title": {
           "x": 0.05
          },
          "xaxis": {
           "automargin": true,
           "gridcolor": "white",
           "linecolor": "white",
           "ticks": "",
           "title": {
            "standoff": 15
           },
           "zerolinecolor": "white",
           "zerolinewidth": 2
          },
          "yaxis": {
           "automargin": true,
           "gridcolor": "white",
           "linecolor": "white",
           "ticks": "",
           "title": {
            "standoff": 15
           },
           "zerolinecolor": "white",
           "zerolinewidth": 2
          }
         }
        },
        "title": {
         "text": "OpenAlex french publications coverage"
        }
       }
      }
     },
     "metadata": {},
     "output_type": "display_data"
    }
   ],
   "source": [
    "fig = go.Figure(data=[go.Sankey(\n",
    "    node = dict(\n",
    "      pad = 15,\n",
    "      thickness = 20,\n",
    "      line = dict(color = \"black\", width = 0.5),\n",
    "      label = labels,\n",
    "      color = \"blue\"\n",
    "    ),\n",
    "    link = dict(\n",
    "      source = sources,\n",
    "      target = targets,\n",
    "      value = values\n",
    "  ))])\n",
    "\n",
    "fig.update_layout(title_text=\"OpenAlex french publications coverage\", font_size=10)\n",
    "fig.show()"
   ]
  }
 ],
 "metadata": {
  "kernelspec": {
   "display_name": "Python 3",
   "language": "python",
   "name": "python3"
  },
  "language_info": {
   "codemirror_mode": {
    "name": "ipython",
    "version": 3
   },
   "file_extension": ".py",
   "mimetype": "text/x-python",
   "name": "python",
   "nbconvert_exporter": "python",
   "pygments_lexer": "ipython3",
   "version": "3.11.5"
  },
  "orig_nbformat": 4
 },
 "nbformat": 4,
 "nbformat_minor": 2
}
