{
 "cells": [
  {
   "cell_type": "code",
   "execution_count": 1,
   "metadata": {},
   "outputs": [],
   "source": [
    "import duckdb\n",
    "import json\n",
    "import pandas as pd\n",
    "import matplotlib.pyplot as plt\n",
    "import seaborn as sns\n",
    "import plotly.graph_objects as go\n",
    "import requests\n",
    "import mercury\n",
    "sns.set_theme(palette=\"tab10\")"
   ]
  },
  {
   "cell_type": "code",
   "execution_count": 2,
   "metadata": {},
   "outputs": [
    {
     "data": {
      "text/plain": [
       "<duckdb.duckdb.DuckDBPyConnection at 0x24d9266a630>"
      ]
     },
     "execution_count": 2,
     "metadata": {},
     "output_type": "execute_result"
    }
   ],
   "source": [
    "# Merge parquet files\n",
    "duckdb.execute(\"\"\"\n",
    "COPY (SELECT * FROM 'data/openalex/*.parquet') TO 'merge.parquet' (FORMAT 'parquet');\n",
    "\"\"\")"
   ]
  },
  {
   "cell_type": "code",
   "execution_count": 3,
   "metadata": {},
   "outputs": [
    {
     "data": {
      "text/html": [
       "<div>\n",
       "<style scoped>\n",
       "    .dataframe tbody tr th:only-of-type {\n",
       "        vertical-align: middle;\n",
       "    }\n",
       "\n",
       "    .dataframe tbody tr th {\n",
       "        vertical-align: top;\n",
       "    }\n",
       "\n",
       "    .dataframe thead th {\n",
       "        text-align: right;\n",
       "    }\n",
       "</style>\n",
       "<table border=\"1\" class=\"dataframe\">\n",
       "  <thead>\n",
       "    <tr style=\"text-align: right;\">\n",
       "      <th></th>\n",
       "      <th>id</th>\n",
       "      <th>doi</th>\n",
       "      <th>year</th>\n",
       "      <th>type</th>\n",
       "      <th>type_crossref</th>\n",
       "      <th>institutions</th>\n",
       "      <th>countries</th>\n",
       "      <th>primary_location</th>\n",
       "      <th>is_oa</th>\n",
       "      <th>coverage.last_state</th>\n",
       "      <th>coverage.last_error</th>\n",
       "      <th>coverage.last_error_data</th>\n",
       "    </tr>\n",
       "  </thead>\n",
       "  <tbody>\n",
       "    <tr>\n",
       "      <th>0</th>\n",
       "      <td>https://openalex.org/W3103145119</td>\n",
       "      <td>https://doi.org/10.1038/s41592-019-0686-2</td>\n",
       "      <td>2020</td>\n",
       "      <td>article</td>\n",
       "      <td>journal-article</td>\n",
       "      <td>[Universidade Federal de Minas Gerais, Univers...</td>\n",
       "      <td>[FR, NL, AU, JP, RU, CA, FI, BR, GB, CZ, EE, US]</td>\n",
       "      <td>Nature Methods</td>\n",
       "      <td>True</td>\n",
       "      <td>IN_FOSM_FR</td>\n",
       "      <td>MISMATCH_TYPE</td>\n",
       "      <td>('journal-article', 'article')</td>\n",
       "    </tr>\n",
       "    <tr>\n",
       "      <th>1</th>\n",
       "      <td>https://openalex.org/W2970684805</td>\n",
       "      <td>https://doi.org/10.1136/bmj.l4898</td>\n",
       "      <td>2019</td>\n",
       "      <td>article</td>\n",
       "      <td>journal-article</td>\n",
       "      <td>[Cochrane, Monash University, Inserm, Harvard–...</td>\n",
       "      <td>[FR, AU, CA, GB, DK, US]</td>\n",
       "      <td>BMJ</td>\n",
       "      <td>True</td>\n",
       "      <td>IN_FOSM_FR</td>\n",
       "      <td>MISMATCH_TYPE</td>\n",
       "      <td>('journal-article', 'article')</td>\n",
       "    </tr>\n",
       "    <tr>\n",
       "      <th>2</th>\n",
       "      <td>https://openalex.org/W2798336535</td>\n",
       "      <td>https://doi.org/10.1051/0004-6361/201833051</td>\n",
       "      <td>2018</td>\n",
       "      <td>article</td>\n",
       "      <td>journal-article</td>\n",
       "      <td>[Laboratoire de Physique de l'ENS, Laboratoire...</td>\n",
       "      <td>[CN, RU, CU, AT, SE, FR, RS, IL, BR, ZA, MA, S...</td>\n",
       "      <td>Astronomy and Astrophysics</td>\n",
       "      <td>True</td>\n",
       "      <td>IN_FOSM_FR</td>\n",
       "      <td>MISMATCH_TYPE</td>\n",
       "      <td>('journal-article', 'article')</td>\n",
       "    </tr>\n",
       "    <tr>\n",
       "      <th>3</th>\n",
       "      <td>https://openalex.org/W2900756811</td>\n",
       "      <td>https://doi.org/10.1080/20013078.2018.1535750</td>\n",
       "      <td>2018</td>\n",
       "      <td>article</td>\n",
       "      <td>journal-article</td>\n",
       "      <td>[Women &amp; Infants Hospital of Rhode Island, Cas...</td>\n",
       "      <td>[TW, CN, GR, RU, MT, AT, NO, GM, IR, SI, SE, F...</td>\n",
       "      <td>Journal of extracellular vesicles</td>\n",
       "      <td>True</td>\n",
       "      <td>IN_FOSM_FR</td>\n",
       "      <td>MISMATCH_TYPE</td>\n",
       "      <td>('journal-article', 'article')</td>\n",
       "    </tr>\n",
       "    <tr>\n",
       "      <th>4</th>\n",
       "      <td>https://openalex.org/W2777074421</td>\n",
       "      <td>https://doi.org/10.1016/s1474-4422(17)30470-2</td>\n",
       "      <td>2018</td>\n",
       "      <td>article</td>\n",
       "      <td>journal-article</td>\n",
       "      <td>[University of California, San Francisco, Medi...</td>\n",
       "      <td>[DE, AR, FR, ES, NL, AU, CA, JP, AT, CH, GB, D...</td>\n",
       "      <td>Lancet Neurology</td>\n",
       "      <td>True</td>\n",
       "      <td>IN_FOSM_FR</td>\n",
       "      <td>MISMATCH_TYPE</td>\n",
       "      <td>('journal-article', 'article')</td>\n",
       "    </tr>\n",
       "  </tbody>\n",
       "</table>\n",
       "</div>"
      ],
      "text/plain": [
       "                                 id  \\\n",
       "0  https://openalex.org/W3103145119   \n",
       "1  https://openalex.org/W2970684805   \n",
       "2  https://openalex.org/W2798336535   \n",
       "3  https://openalex.org/W2900756811   \n",
       "4  https://openalex.org/W2777074421   \n",
       "\n",
       "                                             doi  year     type  \\\n",
       "0      https://doi.org/10.1038/s41592-019-0686-2  2020  article   \n",
       "1              https://doi.org/10.1136/bmj.l4898  2019  article   \n",
       "2    https://doi.org/10.1051/0004-6361/201833051  2018  article   \n",
       "3  https://doi.org/10.1080/20013078.2018.1535750  2018  article   \n",
       "4  https://doi.org/10.1016/s1474-4422(17)30470-2  2018  article   \n",
       "\n",
       "     type_crossref                                       institutions  \\\n",
       "0  journal-article  [Universidade Federal de Minas Gerais, Univers...   \n",
       "1  journal-article  [Cochrane, Monash University, Inserm, Harvard–...   \n",
       "2  journal-article  [Laboratoire de Physique de l'ENS, Laboratoire...   \n",
       "3  journal-article  [Women & Infants Hospital of Rhode Island, Cas...   \n",
       "4  journal-article  [University of California, San Francisco, Medi...   \n",
       "\n",
       "                                           countries  \\\n",
       "0   [FR, NL, AU, JP, RU, CA, FI, BR, GB, CZ, EE, US]   \n",
       "1                           [FR, AU, CA, GB, DK, US]   \n",
       "2  [CN, RU, CU, AT, SE, FR, RS, IL, BR, ZA, MA, S...   \n",
       "3  [TW, CN, GR, RU, MT, AT, NO, GM, IR, SI, SE, F...   \n",
       "4  [DE, AR, FR, ES, NL, AU, CA, JP, AT, CH, GB, D...   \n",
       "\n",
       "                    primary_location  is_oa coverage.last_state  \\\n",
       "0                     Nature Methods   True          IN_FOSM_FR   \n",
       "1                                BMJ   True          IN_FOSM_FR   \n",
       "2         Astronomy and Astrophysics   True          IN_FOSM_FR   \n",
       "3  Journal of extracellular vesicles   True          IN_FOSM_FR   \n",
       "4                   Lancet Neurology   True          IN_FOSM_FR   \n",
       "\n",
       "  coverage.last_error        coverage.last_error_data  \n",
       "0       MISMATCH_TYPE  ('journal-article', 'article')  \n",
       "1       MISMATCH_TYPE  ('journal-article', 'article')  \n",
       "2       MISMATCH_TYPE  ('journal-article', 'article')  \n",
       "3       MISMATCH_TYPE  ('journal-article', 'article')  \n",
       "4       MISMATCH_TYPE  ('journal-article', 'article')  "
      ]
     },
     "metadata": {},
     "output_type": "display_data"
    },
    {
     "name": "stdout",
     "output_type": "stream",
     "text": [
      "(74174, 12)\n"
     ]
    }
   ],
   "source": [
    "# Build dataframe\n",
    "df = pd.read_parquet(\"merge.parquet\")\n",
    "display(df.head(5))\n",
    "print(df.shape)"
   ]
  },
  {
   "cell_type": "raw",
   "metadata": {},
   "source": [
    "# Tests ...\n",
    "test13 = pd.read_parquet(\"data/openalex/part_013.parquet\")\n",
    "test14 = pd.read_parquet(\"data/openalex/part_014.parquet\")\n",
    "with open(f\"data/openalex/part_013.jsonl\") as f:\n",
    "            for line in f:\n",
    "                json13 = json.loads(line)\n",
    "                break\n",
    "with open(f\"data/openalex/part_014.jsonl\") as f:\n",
    "            for line in f:\n",
    "                json14 = json.loads(line)\n",
    "                break"
   ]
  },
  {
   "cell_type": "markdown",
   "metadata": {},
   "source": [
    "# Sankey graph"
   ]
  },
  {
   "cell_type": "code",
   "execution_count": 4,
   "metadata": {},
   "outputs": [],
   "source": [
    "# Build Sankey data\n",
    "labels = [\"OpenAlex\", \"UNDEFINED\", \"DOI_MISSING\", \"DOI_FOUND\", \"CRAWLED\", \"PARSED\", \"PARSED_FR\", \"IN_FOSM\", \"IN_FOSM_FR\", \n",
    "          \"BAD_DOI\", \"DOI_NO_ACCESS\", \"DOI_NO_CROSSREF\", \"DOI_NO_UNPAYWALL\", \"DOI_NO_PUBLICATION_YEAR\",\n",
    "          \"DOI_EARLY_PUBLICATION_YEAR\", \"DOI_LATE_PUBLICATION_YEAR\", \"NOT_PARSED_FR\", \"NOT_PARSED\", \n",
    "          \"NOT_CRAWLED\", \"ALEX_DOI_NOT_FOUND\", \"ALEX_AUTHORSHIPS_NOT_FOUND\", \"ALEX_YEAR_NOT_FOUND\", \n",
    "          \"ALEX_TYPE_NOT_FOUND\", \"FOSM_YEAR_NOT_FOUND\", \"FOSM_TYPE_NOT_FOUND\", \"MISMATCH_YEAR\", \n",
    "          \"MISMATCH_TYPE\", \"MISMATCH_FRENCH_AFFILIATION\", \"OK\"]\n",
    "\n",
    "sources = []\n",
    "targets = []\n",
    "values = []"
   ]
  },
  {
   "cell_type": "code",
   "execution_count": 5,
   "metadata": {},
   "outputs": [],
   "source": [
    "# Valid journal-article / article error\n",
    "df.loc[df[\"coverage.last_error_data\"] == \"('journal-article', 'article')\", \"coverage.last_error\"] = \"OK\"\n",
    "df.loc[df[\"coverage.last_error\"] == \"OK\", \"coverage.last_error_data\"] = None"
   ]
  },
  {
   "cell_type": "code",
   "execution_count": 6,
   "metadata": {},
   "outputs": [],
   "source": [
    "# Add missing dois\n",
    "sources.append(labels.index(\"OpenAlex\"))\n",
    "targets.append(labels.index(\"DOI_MISSING\"))\n",
    "values.append(df[\"doi\"].isnull().sum())"
   ]
  },
  {
   "cell_type": "code",
   "execution_count": 7,
   "metadata": {},
   "outputs": [
    {
     "name": "stdout",
     "output_type": "stream",
     "text": [
      "{'IN_FOSM_FR': 67665, 'PARSED': 1669, 'PARSED_FR': 1559, 'DOI_FOUND': 812, 'UNDEFINED': 71, 'IN_FOSM': 42, 'CRAWLED': 35}\n",
      "[0, 0, 0, 0, 0, 0, 0, 0] [2, 8, 5, 6, 3, 1, 7, 4] [2321, 67665, 1669, 1559, 812, 71, 42, 35]\n"
     ]
    }
   ],
   "source": [
    "# Add publications states\n",
    "states_dict = df[\"coverage.last_state\"].value_counts().to_dict()\n",
    "print(states_dict)\n",
    "for key in states_dict:\n",
    "    sources.append(labels.index(\"OpenAlex\"))\n",
    "    targets.append(labels.index(key))\n",
    "    values.append(states_dict.get(key))\n",
    "\n",
    "print(sources, targets, values)"
   ]
  },
  {
   "cell_type": "code",
   "execution_count": 8,
   "metadata": {},
   "outputs": [
    {
     "data": {
      "text/html": [
       "<div>\n",
       "<style scoped>\n",
       "    .dataframe tbody tr th:only-of-type {\n",
       "        vertical-align: middle;\n",
       "    }\n",
       "\n",
       "    .dataframe tbody tr th {\n",
       "        vertical-align: top;\n",
       "    }\n",
       "\n",
       "    .dataframe thead th {\n",
       "        text-align: right;\n",
       "    }\n",
       "</style>\n",
       "<table border=\"1\" class=\"dataframe\">\n",
       "  <thead>\n",
       "    <tr style=\"text-align: right;\">\n",
       "      <th></th>\n",
       "      <th>coverage.last_state</th>\n",
       "      <th>coverage.last_error</th>\n",
       "      <th>size</th>\n",
       "    </tr>\n",
       "  </thead>\n",
       "  <tbody>\n",
       "    <tr>\n",
       "      <th>0</th>\n",
       "      <td>CRAWLED</td>\n",
       "      <td>NOT_PARSED</td>\n",
       "      <td>35</td>\n",
       "    </tr>\n",
       "    <tr>\n",
       "      <th>1</th>\n",
       "      <td>DOI_FOUND</td>\n",
       "      <td>DOI_LATE_PUBLICATION_YEAR</td>\n",
       "      <td>427</td>\n",
       "    </tr>\n",
       "    <tr>\n",
       "      <th>2</th>\n",
       "      <td>DOI_FOUND</td>\n",
       "      <td>DOI_NO_CROSSREF</td>\n",
       "      <td>58</td>\n",
       "    </tr>\n",
       "    <tr>\n",
       "      <th>3</th>\n",
       "      <td>DOI_FOUND</td>\n",
       "      <td>DOI_NO_PUBLICATION_YEAR</td>\n",
       "      <td>2</td>\n",
       "    </tr>\n",
       "    <tr>\n",
       "      <th>4</th>\n",
       "      <td>DOI_FOUND</td>\n",
       "      <td>NOT_CRAWLED</td>\n",
       "      <td>325</td>\n",
       "    </tr>\n",
       "    <tr>\n",
       "      <th>5</th>\n",
       "      <td>IN_FOSM</td>\n",
       "      <td>MISMATCH_FRENCH_AFFILIATION</td>\n",
       "      <td>29</td>\n",
       "    </tr>\n",
       "    <tr>\n",
       "      <th>6</th>\n",
       "      <td>IN_FOSM</td>\n",
       "      <td>MISMATCH_TYPE</td>\n",
       "      <td>8</td>\n",
       "    </tr>\n",
       "    <tr>\n",
       "      <th>7</th>\n",
       "      <td>IN_FOSM</td>\n",
       "      <td>OK</td>\n",
       "      <td>5</td>\n",
       "    </tr>\n",
       "    <tr>\n",
       "      <th>8</th>\n",
       "      <td>IN_FOSM_FR</td>\n",
       "      <td>MISMATCH_TYPE</td>\n",
       "      <td>3528</td>\n",
       "    </tr>\n",
       "    <tr>\n",
       "      <th>9</th>\n",
       "      <td>IN_FOSM_FR</td>\n",
       "      <td>MISMATCH_YEAR</td>\n",
       "      <td>92</td>\n",
       "    </tr>\n",
       "    <tr>\n",
       "      <th>10</th>\n",
       "      <td>IN_FOSM_FR</td>\n",
       "      <td>OK</td>\n",
       "      <td>64045</td>\n",
       "    </tr>\n",
       "    <tr>\n",
       "      <th>11</th>\n",
       "      <td>PARSED</td>\n",
       "      <td>NOT_PARSED_FR</td>\n",
       "      <td>1669</td>\n",
       "    </tr>\n",
       "    <tr>\n",
       "      <th>12</th>\n",
       "      <td>PARSED_FR</td>\n",
       "      <td>OK</td>\n",
       "      <td>1559</td>\n",
       "    </tr>\n",
       "    <tr>\n",
       "      <th>13</th>\n",
       "      <td>UNDEFINED</td>\n",
       "      <td>DOI_NO_ACCESS</td>\n",
       "      <td>71</td>\n",
       "    </tr>\n",
       "  </tbody>\n",
       "</table>\n",
       "</div>"
      ],
      "text/plain": [
       "   coverage.last_state          coverage.last_error   size\n",
       "0              CRAWLED                   NOT_PARSED     35\n",
       "1            DOI_FOUND    DOI_LATE_PUBLICATION_YEAR    427\n",
       "2            DOI_FOUND              DOI_NO_CROSSREF     58\n",
       "3            DOI_FOUND      DOI_NO_PUBLICATION_YEAR      2\n",
       "4            DOI_FOUND                  NOT_CRAWLED    325\n",
       "5              IN_FOSM  MISMATCH_FRENCH_AFFILIATION     29\n",
       "6              IN_FOSM                MISMATCH_TYPE      8\n",
       "7              IN_FOSM                           OK      5\n",
       "8           IN_FOSM_FR                MISMATCH_TYPE   3528\n",
       "9           IN_FOSM_FR                MISMATCH_YEAR     92\n",
       "10          IN_FOSM_FR                           OK  64045\n",
       "11              PARSED                NOT_PARSED_FR   1669\n",
       "12           PARSED_FR                           OK   1559\n",
       "13           UNDEFINED                DOI_NO_ACCESS     71"
      ]
     },
     "metadata": {},
     "output_type": "display_data"
    },
    {
     "name": "stdout",
     "output_type": "stream",
     "text": [
      "[0, 0, 0, 0, 0, 0, 0, 0, 4, 3, 3, 3, 3, 7, 7, 7, 8, 8, 8, 5, 6, 1] [2, 8, 5, 6, 3, 1, 7, 4, 17, 15, 11, 13, 18, 27, 26, 28, 26, 25, 28, 16, 28, 10] [2321, 67665, 1669, 1559, 812, 71, 42, 35, 35, 427, 58, 2, 325, 29, 8, 5, 3528, 92, 64045, 1669, 1559, 71]\n"
     ]
    }
   ],
   "source": [
    "# Add publications errors\n",
    "grouped_df = df.groupby(by=[\"coverage.last_state\", \"coverage.last_error\"], as_index=False).size()\n",
    "display(grouped_df)\n",
    "for index, row in grouped_df.iterrows():\n",
    "    sources.append(labels.index(row[\"coverage.last_state\"]))\n",
    "    targets.append(labels.index(row[\"coverage.last_error\"]))\n",
    "    values.append(row[\"size\"])\n",
    "\n",
    "print(sources, targets, values)"
   ]
  },
  {
   "cell_type": "code",
   "execution_count": 9,
   "metadata": {},
   "outputs": [
    {
     "data": {
      "text/html": [
       "<div>\n",
       "<style scoped>\n",
       "    .dataframe tbody tr th:only-of-type {\n",
       "        vertical-align: middle;\n",
       "    }\n",
       "\n",
       "    .dataframe tbody tr th {\n",
       "        vertical-align: top;\n",
       "    }\n",
       "\n",
       "    .dataframe thead th {\n",
       "        text-align: right;\n",
       "    }\n",
       "</style>\n",
       "<table border=\"1\" class=\"dataframe\">\n",
       "  <thead>\n",
       "    <tr style=\"text-align: right;\">\n",
       "      <th></th>\n",
       "      <th>coverage.last_error</th>\n",
       "      <th>coverage.last_error_data</th>\n",
       "      <th>size</th>\n",
       "    </tr>\n",
       "  </thead>\n",
       "  <tbody>\n",
       "    <tr>\n",
       "      <th>0</th>\n",
       "      <td>DOI_LATE_PUBLICATION_YEAR</td>\n",
       "      <td>('publication_year', 2022)</td>\n",
       "      <td>38</td>\n",
       "    </tr>\n",
       "    <tr>\n",
       "      <th>1</th>\n",
       "      <td>DOI_LATE_PUBLICATION_YEAR</td>\n",
       "      <td>('publication_year', 2023)</td>\n",
       "      <td>389</td>\n",
       "    </tr>\n",
       "    <tr>\n",
       "      <th>2</th>\n",
       "      <td>DOI_NO_ACCESS</td>\n",
       "      <td>('doi_status_code', 404)</td>\n",
       "      <td>67</td>\n",
       "    </tr>\n",
       "    <tr>\n",
       "      <th>3</th>\n",
       "      <td>DOI_NO_ACCESS</td>\n",
       "      <td>('doi_status_code', 500)</td>\n",
       "      <td>2</td>\n",
       "    </tr>\n",
       "    <tr>\n",
       "      <th>4</th>\n",
       "      <td>DOI_NO_ACCESS</td>\n",
       "      <td>('doi_status_code', 502)</td>\n",
       "      <td>2</td>\n",
       "    </tr>\n",
       "    <tr>\n",
       "      <th>...</th>\n",
       "      <td>...</td>\n",
       "      <td>...</td>\n",
       "      <td>...</td>\n",
       "    </tr>\n",
       "    <tr>\n",
       "      <th>61</th>\n",
       "      <td>MISMATCH_YEAR</td>\n",
       "      <td>(2022, 2021)</td>\n",
       "      <td>4</td>\n",
       "    </tr>\n",
       "    <tr>\n",
       "      <th>62</th>\n",
       "      <td>MISMATCH_YEAR</td>\n",
       "      <td>(2022, 2023)</td>\n",
       "      <td>11</td>\n",
       "    </tr>\n",
       "    <tr>\n",
       "      <th>63</th>\n",
       "      <td>NOT_CRAWLED</td>\n",
       "      <td>None</td>\n",
       "      <td>325</td>\n",
       "    </tr>\n",
       "    <tr>\n",
       "      <th>64</th>\n",
       "      <td>NOT_PARSED</td>\n",
       "      <td>None</td>\n",
       "      <td>35</td>\n",
       "    </tr>\n",
       "    <tr>\n",
       "      <th>65</th>\n",
       "      <td>NOT_PARSED_FR</td>\n",
       "      <td>None</td>\n",
       "      <td>1669</td>\n",
       "    </tr>\n",
       "  </tbody>\n",
       "</table>\n",
       "<p>66 rows × 3 columns</p>\n",
       "</div>"
      ],
      "text/plain": [
       "          coverage.last_error    coverage.last_error_data  size\n",
       "0   DOI_LATE_PUBLICATION_YEAR  ('publication_year', 2022)    38\n",
       "1   DOI_LATE_PUBLICATION_YEAR  ('publication_year', 2023)   389\n",
       "2               DOI_NO_ACCESS    ('doi_status_code', 404)    67\n",
       "3               DOI_NO_ACCESS    ('doi_status_code', 500)     2\n",
       "4               DOI_NO_ACCESS    ('doi_status_code', 502)     2\n",
       "..                        ...                         ...   ...\n",
       "61              MISMATCH_YEAR                (2022, 2021)     4\n",
       "62              MISMATCH_YEAR                (2022, 2023)    11\n",
       "63                NOT_CRAWLED                        None   325\n",
       "64                 NOT_PARSED                        None    35\n",
       "65              NOT_PARSED_FR                        None  1669\n",
       "\n",
       "[66 rows x 3 columns]"
      ]
     },
     "metadata": {},
     "output_type": "display_data"
    }
   ],
   "source": [
    "grouped_df = df.groupby(by=[\"coverage.last_error\", \"coverage.last_error_data\"], as_index=False).size()\n",
    "display(grouped_df)"
   ]
  },
  {
   "cell_type": "code",
   "execution_count": 10,
   "metadata": {},
   "outputs": [
    {
     "data": {
      "application/vnd.plotly.v1+json": {
       "config": {
        "plotlyServerURL": "https://plot.ly"
       },
       "data": [
        {
         "link": {
          "source": [
           0,
           0,
           0,
           0,
           0,
           0,
           0,
           0,
           4,
           3,
           3,
           3,
           3,
           7,
           7,
           7,
           8,
           8,
           8,
           5,
           6,
           1
          ],
          "target": [
           2,
           8,
           5,
           6,
           3,
           1,
           7,
           4,
           17,
           15,
           11,
           13,
           18,
           27,
           26,
           28,
           26,
           25,
           28,
           16,
           28,
           10
          ],
          "value": [
           2321,
           67665,
           1669,
           1559,
           812,
           71,
           42,
           35,
           35,
           427,
           58,
           2,
           325,
           29,
           8,
           5,
           3528,
           92,
           64045,
           1669,
           1559,
           71
          ]
         },
         "node": {
          "color": "blue",
          "label": [
           "OpenAlex",
           "UNDEFINED",
           "DOI_MISSING",
           "DOI_FOUND",
           "CRAWLED",
           "PARSED",
           "PARSED_FR",
           "IN_FOSM",
           "IN_FOSM_FR",
           "BAD_DOI",
           "DOI_NO_ACCESS",
           "DOI_NO_CROSSREF",
           "DOI_NO_UNPAYWALL",
           "DOI_NO_PUBLICATION_YEAR",
           "DOI_EARLY_PUBLICATION_YEAR",
           "DOI_LATE_PUBLICATION_YEAR",
           "NOT_PARSED_FR",
           "NOT_PARSED",
           "NOT_CRAWLED",
           "ALEX_DOI_NOT_FOUND",
           "ALEX_AUTHORSHIPS_NOT_FOUND",
           "ALEX_YEAR_NOT_FOUND",
           "ALEX_TYPE_NOT_FOUND",
           "FOSM_YEAR_NOT_FOUND",
           "FOSM_TYPE_NOT_FOUND",
           "MISMATCH_YEAR",
           "MISMATCH_TYPE",
           "MISMATCH_FRENCH_AFFILIATION",
           "OK"
          ],
          "line": {
           "color": "black",
           "width": 0.5
          },
          "pad": 15,
          "thickness": 20
         },
         "type": "sankey"
        }
       ],
       "layout": {
        "font": {
         "size": 10
        },
        "template": {
         "data": {
          "bar": [
           {
            "error_x": {
             "color": "#2a3f5f"
            },
            "error_y": {
             "color": "#2a3f5f"
            },
            "marker": {
             "line": {
              "color": "#E5ECF6",
              "width": 0.5
             },
             "pattern": {
              "fillmode": "overlay",
              "size": 10,
              "solidity": 0.2
             }
            },
            "type": "bar"
           }
          ],
          "barpolar": [
           {
            "marker": {
             "line": {
              "color": "#E5ECF6",
              "width": 0.5
             },
             "pattern": {
              "fillmode": "overlay",
              "size": 10,
              "solidity": 0.2
             }
            },
            "type": "barpolar"
           }
          ],
          "carpet": [
           {
            "aaxis": {
             "endlinecolor": "#2a3f5f",
             "gridcolor": "white",
             "linecolor": "white",
             "minorgridcolor": "white",
             "startlinecolor": "#2a3f5f"
            },
            "baxis": {
             "endlinecolor": "#2a3f5f",
             "gridcolor": "white",
             "linecolor": "white",
             "minorgridcolor": "white",
             "startlinecolor": "#2a3f5f"
            },
            "type": "carpet"
           }
          ],
          "choropleth": [
           {
            "colorbar": {
             "outlinewidth": 0,
             "ticks": ""
            },
            "type": "choropleth"
           }
          ],
          "contour": [
           {
            "colorbar": {
             "outlinewidth": 0,
             "ticks": ""
            },
            "colorscale": [
             [
              0,
              "#0d0887"
             ],
             [
              0.1111111111111111,
              "#46039f"
             ],
             [
              0.2222222222222222,
              "#7201a8"
             ],
             [
              0.3333333333333333,
              "#9c179e"
             ],
             [
              0.4444444444444444,
              "#bd3786"
             ],
             [
              0.5555555555555556,
              "#d8576b"
             ],
             [
              0.6666666666666666,
              "#ed7953"
             ],
             [
              0.7777777777777778,
              "#fb9f3a"
             ],
             [
              0.8888888888888888,
              "#fdca26"
             ],
             [
              1,
              "#f0f921"
             ]
            ],
            "type": "contour"
           }
          ],
          "contourcarpet": [
           {
            "colorbar": {
             "outlinewidth": 0,
             "ticks": ""
            },
            "type": "contourcarpet"
           }
          ],
          "heatmap": [
           {
            "colorbar": {
             "outlinewidth": 0,
             "ticks": ""
            },
            "colorscale": [
             [
              0,
              "#0d0887"
             ],
             [
              0.1111111111111111,
              "#46039f"
             ],
             [
              0.2222222222222222,
              "#7201a8"
             ],
             [
              0.3333333333333333,
              "#9c179e"
             ],
             [
              0.4444444444444444,
              "#bd3786"
             ],
             [
              0.5555555555555556,
              "#d8576b"
             ],
             [
              0.6666666666666666,
              "#ed7953"
             ],
             [
              0.7777777777777778,
              "#fb9f3a"
             ],
             [
              0.8888888888888888,
              "#fdca26"
             ],
             [
              1,
              "#f0f921"
             ]
            ],
            "type": "heatmap"
           }
          ],
          "heatmapgl": [
           {
            "colorbar": {
             "outlinewidth": 0,
             "ticks": ""
            },
            "colorscale": [
             [
              0,
              "#0d0887"
             ],
             [
              0.1111111111111111,
              "#46039f"
             ],
             [
              0.2222222222222222,
              "#7201a8"
             ],
             [
              0.3333333333333333,
              "#9c179e"
             ],
             [
              0.4444444444444444,
              "#bd3786"
             ],
             [
              0.5555555555555556,
              "#d8576b"
             ],
             [
              0.6666666666666666,
              "#ed7953"
             ],
             [
              0.7777777777777778,
              "#fb9f3a"
             ],
             [
              0.8888888888888888,
              "#fdca26"
             ],
             [
              1,
              "#f0f921"
             ]
            ],
            "type": "heatmapgl"
           }
          ],
          "histogram": [
           {
            "marker": {
             "pattern": {
              "fillmode": "overlay",
              "size": 10,
              "solidity": 0.2
             }
            },
            "type": "histogram"
           }
          ],
          "histogram2d": [
           {
            "colorbar": {
             "outlinewidth": 0,
             "ticks": ""
            },
            "colorscale": [
             [
              0,
              "#0d0887"
             ],
             [
              0.1111111111111111,
              "#46039f"
             ],
             [
              0.2222222222222222,
              "#7201a8"
             ],
             [
              0.3333333333333333,
              "#9c179e"
             ],
             [
              0.4444444444444444,
              "#bd3786"
             ],
             [
              0.5555555555555556,
              "#d8576b"
             ],
             [
              0.6666666666666666,
              "#ed7953"
             ],
             [
              0.7777777777777778,
              "#fb9f3a"
             ],
             [
              0.8888888888888888,
              "#fdca26"
             ],
             [
              1,
              "#f0f921"
             ]
            ],
            "type": "histogram2d"
           }
          ],
          "histogram2dcontour": [
           {
            "colorbar": {
             "outlinewidth": 0,
             "ticks": ""
            },
            "colorscale": [
             [
              0,
              "#0d0887"
             ],
             [
              0.1111111111111111,
              "#46039f"
             ],
             [
              0.2222222222222222,
              "#7201a8"
             ],
             [
              0.3333333333333333,
              "#9c179e"
             ],
             [
              0.4444444444444444,
              "#bd3786"
             ],
             [
              0.5555555555555556,
              "#d8576b"
             ],
             [
              0.6666666666666666,
              "#ed7953"
             ],
             [
              0.7777777777777778,
              "#fb9f3a"
             ],
             [
              0.8888888888888888,
              "#fdca26"
             ],
             [
              1,
              "#f0f921"
             ]
            ],
            "type": "histogram2dcontour"
           }
          ],
          "mesh3d": [
           {
            "colorbar": {
             "outlinewidth": 0,
             "ticks": ""
            },
            "type": "mesh3d"
           }
          ],
          "parcoords": [
           {
            "line": {
             "colorbar": {
              "outlinewidth": 0,
              "ticks": ""
             }
            },
            "type": "parcoords"
           }
          ],
          "pie": [
           {
            "automargin": true,
            "type": "pie"
           }
          ],
          "scatter": [
           {
            "fillpattern": {
             "fillmode": "overlay",
             "size": 10,
             "solidity": 0.2
            },
            "type": "scatter"
           }
          ],
          "scatter3d": [
           {
            "line": {
             "colorbar": {
              "outlinewidth": 0,
              "ticks": ""
             }
            },
            "marker": {
             "colorbar": {
              "outlinewidth": 0,
              "ticks": ""
             }
            },
            "type": "scatter3d"
           }
          ],
          "scattercarpet": [
           {
            "marker": {
             "colorbar": {
              "outlinewidth": 0,
              "ticks": ""
             }
            },
            "type": "scattercarpet"
           }
          ],
          "scattergeo": [
           {
            "marker": {
             "colorbar": {
              "outlinewidth": 0,
              "ticks": ""
             }
            },
            "type": "scattergeo"
           }
          ],
          "scattergl": [
           {
            "marker": {
             "colorbar": {
              "outlinewidth": 0,
              "ticks": ""
             }
            },
            "type": "scattergl"
           }
          ],
          "scattermapbox": [
           {
            "marker": {
             "colorbar": {
              "outlinewidth": 0,
              "ticks": ""
             }
            },
            "type": "scattermapbox"
           }
          ],
          "scatterpolar": [
           {
            "marker": {
             "colorbar": {
              "outlinewidth": 0,
              "ticks": ""
             }
            },
            "type": "scatterpolar"
           }
          ],
          "scatterpolargl": [
           {
            "marker": {
             "colorbar": {
              "outlinewidth": 0,
              "ticks": ""
             }
            },
            "type": "scatterpolargl"
           }
          ],
          "scatterternary": [
           {
            "marker": {
             "colorbar": {
              "outlinewidth": 0,
              "ticks": ""
             }
            },
            "type": "scatterternary"
           }
          ],
          "surface": [
           {
            "colorbar": {
             "outlinewidth": 0,
             "ticks": ""
            },
            "colorscale": [
             [
              0,
              "#0d0887"
             ],
             [
              0.1111111111111111,
              "#46039f"
             ],
             [
              0.2222222222222222,
              "#7201a8"
             ],
             [
              0.3333333333333333,
              "#9c179e"
             ],
             [
              0.4444444444444444,
              "#bd3786"
             ],
             [
              0.5555555555555556,
              "#d8576b"
             ],
             [
              0.6666666666666666,
              "#ed7953"
             ],
             [
              0.7777777777777778,
              "#fb9f3a"
             ],
             [
              0.8888888888888888,
              "#fdca26"
             ],
             [
              1,
              "#f0f921"
             ]
            ],
            "type": "surface"
           }
          ],
          "table": [
           {
            "cells": {
             "fill": {
              "color": "#EBF0F8"
             },
             "line": {
              "color": "white"
             }
            },
            "header": {
             "fill": {
              "color": "#C8D4E3"
             },
             "line": {
              "color": "white"
             }
            },
            "type": "table"
           }
          ]
         },
         "layout": {
          "annotationdefaults": {
           "arrowcolor": "#2a3f5f",
           "arrowhead": 0,
           "arrowwidth": 1
          },
          "autotypenumbers": "strict",
          "coloraxis": {
           "colorbar": {
            "outlinewidth": 0,
            "ticks": ""
           }
          },
          "colorscale": {
           "diverging": [
            [
             0,
             "#8e0152"
            ],
            [
             0.1,
             "#c51b7d"
            ],
            [
             0.2,
             "#de77ae"
            ],
            [
             0.3,
             "#f1b6da"
            ],
            [
             0.4,
             "#fde0ef"
            ],
            [
             0.5,
             "#f7f7f7"
            ],
            [
             0.6,
             "#e6f5d0"
            ],
            [
             0.7,
             "#b8e186"
            ],
            [
             0.8,
             "#7fbc41"
            ],
            [
             0.9,
             "#4d9221"
            ],
            [
             1,
             "#276419"
            ]
           ],
           "sequential": [
            [
             0,
             "#0d0887"
            ],
            [
             0.1111111111111111,
             "#46039f"
            ],
            [
             0.2222222222222222,
             "#7201a8"
            ],
            [
             0.3333333333333333,
             "#9c179e"
            ],
            [
             0.4444444444444444,
             "#bd3786"
            ],
            [
             0.5555555555555556,
             "#d8576b"
            ],
            [
             0.6666666666666666,
             "#ed7953"
            ],
            [
             0.7777777777777778,
             "#fb9f3a"
            ],
            [
             0.8888888888888888,
             "#fdca26"
            ],
            [
             1,
             "#f0f921"
            ]
           ],
           "sequentialminus": [
            [
             0,
             "#0d0887"
            ],
            [
             0.1111111111111111,
             "#46039f"
            ],
            [
             0.2222222222222222,
             "#7201a8"
            ],
            [
             0.3333333333333333,
             "#9c179e"
            ],
            [
             0.4444444444444444,
             "#bd3786"
            ],
            [
             0.5555555555555556,
             "#d8576b"
            ],
            [
             0.6666666666666666,
             "#ed7953"
            ],
            [
             0.7777777777777778,
             "#fb9f3a"
            ],
            [
             0.8888888888888888,
             "#fdca26"
            ],
            [
             1,
             "#f0f921"
            ]
           ]
          },
          "colorway": [
           "#636efa",
           "#EF553B",
           "#00cc96",
           "#ab63fa",
           "#FFA15A",
           "#19d3f3",
           "#FF6692",
           "#B6E880",
           "#FF97FF",
           "#FECB52"
          ],
          "font": {
           "color": "#2a3f5f"
          },
          "geo": {
           "bgcolor": "white",
           "lakecolor": "white",
           "landcolor": "#E5ECF6",
           "showlakes": true,
           "showland": true,
           "subunitcolor": "white"
          },
          "hoverlabel": {
           "align": "left"
          },
          "hovermode": "closest",
          "mapbox": {
           "style": "light"
          },
          "paper_bgcolor": "white",
          "plot_bgcolor": "#E5ECF6",
          "polar": {
           "angularaxis": {
            "gridcolor": "white",
            "linecolor": "white",
            "ticks": ""
           },
           "bgcolor": "#E5ECF6",
           "radialaxis": {
            "gridcolor": "white",
            "linecolor": "white",
            "ticks": ""
           }
          },
          "scene": {
           "xaxis": {
            "backgroundcolor": "#E5ECF6",
            "gridcolor": "white",
            "gridwidth": 2,
            "linecolor": "white",
            "showbackground": true,
            "ticks": "",
            "zerolinecolor": "white"
           },
           "yaxis": {
            "backgroundcolor": "#E5ECF6",
            "gridcolor": "white",
            "gridwidth": 2,
            "linecolor": "white",
            "showbackground": true,
            "ticks": "",
            "zerolinecolor": "white"
           },
           "zaxis": {
            "backgroundcolor": "#E5ECF6",
            "gridcolor": "white",
            "gridwidth": 2,
            "linecolor": "white",
            "showbackground": true,
            "ticks": "",
            "zerolinecolor": "white"
           }
          },
          "shapedefaults": {
           "line": {
            "color": "#2a3f5f"
           }
          },
          "ternary": {
           "aaxis": {
            "gridcolor": "white",
            "linecolor": "white",
            "ticks": ""
           },
           "baxis": {
            "gridcolor": "white",
            "linecolor": "white",
            "ticks": ""
           },
           "bgcolor": "#E5ECF6",
           "caxis": {
            "gridcolor": "white",
            "linecolor": "white",
            "ticks": ""
           }
          },
          "title": {
           "x": 0.05
          },
          "xaxis": {
           "automargin": true,
           "gridcolor": "white",
           "linecolor": "white",
           "ticks": "",
           "title": {
            "standoff": 15
           },
           "zerolinecolor": "white",
           "zerolinewidth": 2
          },
          "yaxis": {
           "automargin": true,
           "gridcolor": "white",
           "linecolor": "white",
           "ticks": "",
           "title": {
            "standoff": 15
           },
           "zerolinecolor": "white",
           "zerolinewidth": 2
          }
         }
        },
        "title": {
         "text": "OpenAlex french publications coverage"
        }
       }
      }
     },
     "metadata": {},
     "output_type": "display_data"
    }
   ],
   "source": [
    "fig = go.Figure(data=[go.Sankey(\n",
    "    node = dict(\n",
    "      pad = 15,\n",
    "      thickness = 20,\n",
    "      line = dict(color = \"black\", width = 0.5),\n",
    "      label = labels,\n",
    "      color = \"blue\"\n",
    "    ),\n",
    "    link = dict(\n",
    "      source = sources,\n",
    "      target = targets,\n",
    "      value = values\n",
    "  ))])\n",
    "\n",
    "fig.update_layout(title_text=\"OpenAlex french publications coverage\", font_size=10)\n",
    "fig.show()"
   ]
  },
  {
   "cell_type": "markdown",
   "metadata": {},
   "source": [
    "# French affiliations analysis"
   ]
  },
  {
   "cell_type": "code",
   "execution_count": 11,
   "metadata": {},
   "outputs": [
    {
     "data": {
      "text/html": [
       "<div>\n",
       "<style scoped>\n",
       "    .dataframe tbody tr th:only-of-type {\n",
       "        vertical-align: middle;\n",
       "    }\n",
       "\n",
       "    .dataframe tbody tr th {\n",
       "        vertical-align: top;\n",
       "    }\n",
       "\n",
       "    .dataframe thead th {\n",
       "        text-align: right;\n",
       "    }\n",
       "</style>\n",
       "<table border=\"1\" class=\"dataframe\">\n",
       "  <thead>\n",
       "    <tr style=\"text-align: right;\">\n",
       "      <th></th>\n",
       "      <th>id</th>\n",
       "      <th>doi</th>\n",
       "      <th>coverage.last_error_data</th>\n",
       "    </tr>\n",
       "  </thead>\n",
       "  <tbody>\n",
       "    <tr>\n",
       "      <th>2049</th>\n",
       "      <td>https://openalex.org/W2805870922</td>\n",
       "      <td>https://doi.org/10.1681/asn.2017121260</td>\n",
       "      <td>['Division of Nephrology and Hypertension, Cen...</td>\n",
       "    </tr>\n",
       "    <tr>\n",
       "      <th>10381</th>\n",
       "      <td>https://openalex.org/W2889373178</td>\n",
       "      <td>https://doi.org/10.1039/c8nr05787g</td>\n",
       "      <td>['1015 Lausanne; EPFL; Laboratoire des Matéria...</td>\n",
       "    </tr>\n",
       "    <tr>\n",
       "      <th>11188</th>\n",
       "      <td>https://openalex.org/W2887463283</td>\n",
       "      <td>https://doi.org/10.12688/f1000research.14417.1</td>\n",
       "      <td>['Clinique du Vertige, Centre Hospitalier Emil...</td>\n",
       "    </tr>\n",
       "    <tr>\n",
       "      <th>11933</th>\n",
       "      <td>https://openalex.org/W4225140177</td>\n",
       "      <td>https://doi.org/10.1038/s41467-022-29959-1</td>\n",
       "      <td>['Department of Sciences and Engineering, Sorb...</td>\n",
       "    </tr>\n",
       "    <tr>\n",
       "      <th>15831</th>\n",
       "      <td>https://openalex.org/W3080555168</td>\n",
       "      <td>https://doi.org/10.1145/3407023.3409219</td>\n",
       "      <td>['Montimage']</td>\n",
       "    </tr>\n",
       "    <tr>\n",
       "      <th>17668</th>\n",
       "      <td>https://openalex.org/W4223896490</td>\n",
       "      <td>https://doi.org/10.1007/s00500-022-07068-x</td>\n",
       "      <td>['Sorbonne Center of Artificial Intelligence, ...</td>\n",
       "    </tr>\n",
       "    <tr>\n",
       "      <th>23124</th>\n",
       "      <td>https://openalex.org/W4224233561</td>\n",
       "      <td>https://doi.org/10.1002/anie.202203938</td>\n",
       "      <td>['Department of Sciences and Engineering Sorbo...</td>\n",
       "    </tr>\n",
       "    <tr>\n",
       "      <th>25604</th>\n",
       "      <td>https://openalex.org/W3101925414</td>\n",
       "      <td>https://doi.org/10.1039/c9na00323a</td>\n",
       "      <td>['Foundation of Research and Technology-Hellas...</td>\n",
       "    </tr>\n",
       "    <tr>\n",
       "      <th>26874</th>\n",
       "      <td>https://openalex.org/W2992815577</td>\n",
       "      <td>https://doi.org/10.1039/c9nr08453c</td>\n",
       "      <td>['EPFL; Faculty of Engineering; Institute of M...</td>\n",
       "    </tr>\n",
       "    <tr>\n",
       "      <th>27790</th>\n",
       "      <td>https://openalex.org/W4226275118</td>\n",
       "      <td>https://doi.org/10.1021/acs.cgd.2c00225</td>\n",
       "      <td>['Department of Sciences and Engineering, Sorb...</td>\n",
       "    </tr>\n",
       "    <tr>\n",
       "      <th>27893</th>\n",
       "      <td>https://openalex.org/W4319458487</td>\n",
       "      <td>https://doi.org/10.1007/s42235-023-00336-y</td>\n",
       "      <td>['Sorbonne Center of Artificial Intelligence, ...</td>\n",
       "    </tr>\n",
       "    <tr>\n",
       "      <th>29717</th>\n",
       "      <td>https://openalex.org/W4280553732</td>\n",
       "      <td>https://doi.org/10.1038/s41467-022-30541-y</td>\n",
       "      <td>['Science and Engineering Department, Sorbonne...</td>\n",
       "    </tr>\n",
       "    <tr>\n",
       "      <th>30139</th>\n",
       "      <td>https://openalex.org/W2893387639</td>\n",
       "      <td>https://doi.org/10.1109/icton.2018.8473898</td>\n",
       "      <td>['[ATOS]']</td>\n",
       "    </tr>\n",
       "    <tr>\n",
       "      <th>30298</th>\n",
       "      <td>https://openalex.org/W2914858760</td>\n",
       "      <td>https://doi.org/10.2478/popets-2019-0017</td>\n",
       "      <td>['EPFL ,']</td>\n",
       "    </tr>\n",
       "    <tr>\n",
       "      <th>37029</th>\n",
       "      <td>https://openalex.org/W2787943086</td>\n",
       "      <td>https://doi.org/10.1039/c7cp07642h</td>\n",
       "      <td>['Dipartimento di Scienze e Tecnologie Chimich...</td>\n",
       "    </tr>\n",
       "    <tr>\n",
       "      <th>37753</th>\n",
       "      <td>https://openalex.org/W2970288042</td>\n",
       "      <td>https://doi.org/10.1177/0706743719870513</td>\n",
       "      <td>['Laboratoire de Biochimie, CHU Habib Bourguib...</td>\n",
       "    </tr>\n",
       "    <tr>\n",
       "      <th>38202</th>\n",
       "      <td>https://openalex.org/W3035525659</td>\n",
       "      <td>https://doi.org/10.7759/cureus.8636</td>\n",
       "      <td>['Medicine and Endocrinology, Pondicherry Inst...</td>\n",
       "    </tr>\n",
       "    <tr>\n",
       "      <th>39426</th>\n",
       "      <td>https://openalex.org/W4214887291</td>\n",
       "      <td>https://doi.org/10.1002/adfm.202112117</td>\n",
       "      <td>['Sciences and Engineering Department, Sorbonn...</td>\n",
       "    </tr>\n",
       "    <tr>\n",
       "      <th>42932</th>\n",
       "      <td>https://openalex.org/W4281618938</td>\n",
       "      <td>https://doi.org/10.1002/adom.202200627</td>\n",
       "      <td>['Department of Sciences and Engineering, Sorb...</td>\n",
       "    </tr>\n",
       "    <tr>\n",
       "      <th>50708</th>\n",
       "      <td>https://openalex.org/W4200023305</td>\n",
       "      <td>https://doi.org/10.1016/j.jse.2021.11.011</td>\n",
       "      <td>['Department of Orthopedic Surgery, Hôpital Am...</td>\n",
       "    </tr>\n",
       "    <tr>\n",
       "      <th>51809</th>\n",
       "      <td>https://openalex.org/W4309348847</td>\n",
       "      <td>https://doi.org/10.1007/978-3-031-17576-3_10</td>\n",
       "      <td>['Sorbonne Center of Artificial Intelligence, ...</td>\n",
       "    </tr>\n",
       "    <tr>\n",
       "      <th>51905</th>\n",
       "      <td>https://openalex.org/W4312222790</td>\n",
       "      <td>https://doi.org/10.1002/adfm.202211760</td>\n",
       "      <td>['Science and Engineering Department, Sorbonne...</td>\n",
       "    </tr>\n",
       "    <tr>\n",
       "      <th>58374</th>\n",
       "      <td>https://openalex.org/W4378211401</td>\n",
       "      <td>https://doi.org/10.1038/s41598-023-35457-1</td>\n",
       "      <td>['Sorbonne Center of Artificial Intelligence, ...</td>\n",
       "    </tr>\n",
       "    <tr>\n",
       "      <th>59674</th>\n",
       "      <td>https://openalex.org/W2914317778</td>\n",
       "      <td>https://doi.org/10.3166/bspe-2018-0014</td>\n",
       "      <td>[\"Unité de biologie, département des sciences ...</td>\n",
       "    </tr>\n",
       "    <tr>\n",
       "      <th>66193</th>\n",
       "      <td>https://openalex.org/W4313237004</td>\n",
       "      <td>https://doi.org/10.1002/anie.202217329</td>\n",
       "      <td>['Science and Engineering Department, Sorbonne...</td>\n",
       "    </tr>\n",
       "    <tr>\n",
       "      <th>66755</th>\n",
       "      <td>https://openalex.org/W4327569506</td>\n",
       "      <td>https://doi.org/10.1038/s41557-023-01158-5</td>\n",
       "      <td>['Department of Sciences and Engineering, Sorb...</td>\n",
       "    </tr>\n",
       "    <tr>\n",
       "      <th>70173</th>\n",
       "      <td>https://openalex.org/W2898195792</td>\n",
       "      <td>https://doi.org/10.1051/refdp/201859002</td>\n",
       "      <td>['Présidente de la SFP.', 'Président de la div...</td>\n",
       "    </tr>\n",
       "    <tr>\n",
       "      <th>71836</th>\n",
       "      <td>https://openalex.org/W2924329629</td>\n",
       "      <td>https://doi.org/10.1016/j.euroneuro.2017.08.119</td>\n",
       "      <td>['Institut Pasteur', 'Institut Pasteur']</td>\n",
       "    </tr>\n",
       "    <tr>\n",
       "      <th>72461</th>\n",
       "      <td>https://openalex.org/W2946830563</td>\n",
       "      <td>https://doi.org/10.1016/j.biopsych.2019.03.265</td>\n",
       "      <td>['Institut Pasteur']</td>\n",
       "    </tr>\n",
       "  </tbody>\n",
       "</table>\n",
       "</div>"
      ],
      "text/plain": [
       "                                     id  \\\n",
       "2049   https://openalex.org/W2805870922   \n",
       "10381  https://openalex.org/W2889373178   \n",
       "11188  https://openalex.org/W2887463283   \n",
       "11933  https://openalex.org/W4225140177   \n",
       "15831  https://openalex.org/W3080555168   \n",
       "17668  https://openalex.org/W4223896490   \n",
       "23124  https://openalex.org/W4224233561   \n",
       "25604  https://openalex.org/W3101925414   \n",
       "26874  https://openalex.org/W2992815577   \n",
       "27790  https://openalex.org/W4226275118   \n",
       "27893  https://openalex.org/W4319458487   \n",
       "29717  https://openalex.org/W4280553732   \n",
       "30139  https://openalex.org/W2893387639   \n",
       "30298  https://openalex.org/W2914858760   \n",
       "37029  https://openalex.org/W2787943086   \n",
       "37753  https://openalex.org/W2970288042   \n",
       "38202  https://openalex.org/W3035525659   \n",
       "39426  https://openalex.org/W4214887291   \n",
       "42932  https://openalex.org/W4281618938   \n",
       "50708  https://openalex.org/W4200023305   \n",
       "51809  https://openalex.org/W4309348847   \n",
       "51905  https://openalex.org/W4312222790   \n",
       "58374  https://openalex.org/W4378211401   \n",
       "59674  https://openalex.org/W2914317778   \n",
       "66193  https://openalex.org/W4313237004   \n",
       "66755  https://openalex.org/W4327569506   \n",
       "70173  https://openalex.org/W2898195792   \n",
       "71836  https://openalex.org/W2924329629   \n",
       "72461  https://openalex.org/W2946830563   \n",
       "\n",
       "                                                   doi  \\\n",
       "2049            https://doi.org/10.1681/asn.2017121260   \n",
       "10381               https://doi.org/10.1039/c8nr05787g   \n",
       "11188   https://doi.org/10.12688/f1000research.14417.1   \n",
       "11933       https://doi.org/10.1038/s41467-022-29959-1   \n",
       "15831          https://doi.org/10.1145/3407023.3409219   \n",
       "17668       https://doi.org/10.1007/s00500-022-07068-x   \n",
       "23124           https://doi.org/10.1002/anie.202203938   \n",
       "25604               https://doi.org/10.1039/c9na00323a   \n",
       "26874               https://doi.org/10.1039/c9nr08453c   \n",
       "27790          https://doi.org/10.1021/acs.cgd.2c00225   \n",
       "27893       https://doi.org/10.1007/s42235-023-00336-y   \n",
       "29717       https://doi.org/10.1038/s41467-022-30541-y   \n",
       "30139       https://doi.org/10.1109/icton.2018.8473898   \n",
       "30298         https://doi.org/10.2478/popets-2019-0017   \n",
       "37029               https://doi.org/10.1039/c7cp07642h   \n",
       "37753         https://doi.org/10.1177/0706743719870513   \n",
       "38202              https://doi.org/10.7759/cureus.8636   \n",
       "39426           https://doi.org/10.1002/adfm.202112117   \n",
       "42932           https://doi.org/10.1002/adom.202200627   \n",
       "50708        https://doi.org/10.1016/j.jse.2021.11.011   \n",
       "51809     https://doi.org/10.1007/978-3-031-17576-3_10   \n",
       "51905           https://doi.org/10.1002/adfm.202211760   \n",
       "58374       https://doi.org/10.1038/s41598-023-35457-1   \n",
       "59674           https://doi.org/10.3166/bspe-2018-0014   \n",
       "66193           https://doi.org/10.1002/anie.202217329   \n",
       "66755       https://doi.org/10.1038/s41557-023-01158-5   \n",
       "70173          https://doi.org/10.1051/refdp/201859002   \n",
       "71836  https://doi.org/10.1016/j.euroneuro.2017.08.119   \n",
       "72461   https://doi.org/10.1016/j.biopsych.2019.03.265   \n",
       "\n",
       "                                coverage.last_error_data  \n",
       "2049   ['Division of Nephrology and Hypertension, Cen...  \n",
       "10381  ['1015 Lausanne; EPFL; Laboratoire des Matéria...  \n",
       "11188  ['Clinique du Vertige, Centre Hospitalier Emil...  \n",
       "11933  ['Department of Sciences and Engineering, Sorb...  \n",
       "15831                                      ['Montimage']  \n",
       "17668  ['Sorbonne Center of Artificial Intelligence, ...  \n",
       "23124  ['Department of Sciences and Engineering Sorbo...  \n",
       "25604  ['Foundation of Research and Technology-Hellas...  \n",
       "26874  ['EPFL; Faculty of Engineering; Institute of M...  \n",
       "27790  ['Department of Sciences and Engineering, Sorb...  \n",
       "27893  ['Sorbonne Center of Artificial Intelligence, ...  \n",
       "29717  ['Science and Engineering Department, Sorbonne...  \n",
       "30139                                         ['[ATOS]']  \n",
       "30298                                         ['EPFL ,']  \n",
       "37029  ['Dipartimento di Scienze e Tecnologie Chimich...  \n",
       "37753  ['Laboratoire de Biochimie, CHU Habib Bourguib...  \n",
       "38202  ['Medicine and Endocrinology, Pondicherry Inst...  \n",
       "39426  ['Sciences and Engineering Department, Sorbonn...  \n",
       "42932  ['Department of Sciences and Engineering, Sorb...  \n",
       "50708  ['Department of Orthopedic Surgery, Hôpital Am...  \n",
       "51809  ['Sorbonne Center of Artificial Intelligence, ...  \n",
       "51905  ['Science and Engineering Department, Sorbonne...  \n",
       "58374  ['Sorbonne Center of Artificial Intelligence, ...  \n",
       "59674  [\"Unité de biologie, département des sciences ...  \n",
       "66193  ['Science and Engineering Department, Sorbonne...  \n",
       "66755  ['Department of Sciences and Engineering, Sorb...  \n",
       "70173  ['Présidente de la SFP.', 'Président de la div...  \n",
       "71836           ['Institut Pasteur', 'Institut Pasteur']  \n",
       "72461                               ['Institut Pasteur']  "
      ]
     },
     "metadata": {},
     "output_type": "display_data"
    }
   ],
   "source": [
    "bad_affiliations_df = df[df[\"coverage.last_error\"] == \"MISMATCH_FRENCH_AFFILIATION\"]\n",
    "display(bad_affiliations_df[[\"id\", \"doi\", \"coverage.last_error_data\"]])\n",
    "bad_affiliations = bad_affiliations_df[\"coverage.last_error_data\"].to_list()"
   ]
  },
  {
   "cell_type": "code",
   "execution_count": 12,
   "metadata": {},
   "outputs": [],
   "source": [
    "def clean_affiliations(affiliation):\n",
    "    return affiliation.removeprefix(\"['\").removesuffix(\"']\").split(\"', '\")"
   ]
  },
  {
   "cell_type": "code",
   "execution_count": 13,
   "metadata": {},
   "outputs": [
    {
     "data": {
      "text/plain": [
       "['Medicine and Endocrinology, Pondicherry Institute of Medical Sciences, Pondicherry, IND.',\n",
       " 'Science and Engineering Department, Sorbonne University Abu Dhabi, Abu Dhabi, UAE; Smart Materials Lab, New York University Abu Dhabi, Abu Dhabi, UAE',\n",
       " '1015 Lausanne; EPFL; Laboratoire des Matériaux Semiconducteurs; Switzerland; École Polytechnique Fédérale de Lausanne',\n",
       " 'EPFL; Faculty of Engineering; Institute of Materials; Laboratoire des Matériaux Semiconducteurs; École Polytechnique Fédérale de Lausanne',\n",
       " 'Laboratoire de Biochimie, CHU Habib Bourguiba, Sfax, Tunisie; UR 12ES17 « Bases moléculaires de la pathologie humaine », Faculté de Médecine de Sfax, Université de Sfax, Sfax, Tunisie',\n",
       " 'Présidente de la SFP.',\n",
       " 'Department of Sciences and Engineering, Sorbonne University Abu Dhabi, Abu Dhabi, UAE; Smart Materials Lab, New York University Abu Dhabi, Abu Dhabi, UAE',\n",
       " 'Montimage',\n",
       " 'Department of Sciences and Engineering Sorbonne University Abu Dhabi  38044 Abu Dhabi United Arab Emirates; Smart Materials Lab New York University Abu Dhabi  129188 Abu Dhabi United Arab Emirates',\n",
       " 'Sorbonne Center of Artificial Intelligence, Sorbonne University-Abu Dhabi, Abu Dhabi, United Arab Emirates',\n",
       " 'Clinique du Vertige, Centre Hospitalier Emile Mayrisch, Esch-sur-Alzette',\n",
       " 'Institut Pasteur',\n",
       " 'Department of Sciences and Engineering, Sorbonne University Abu Dhabi, Abu Dhabi, United Arab Emirates',\n",
       " 'Président de la division Matière Condensée de la SFP.',\n",
       " 'EPFL ,',\n",
       " 'Dipartimento di Scienze e Tecnologie Chimiche; Italy; Rome; Università di Tor Vergata',\n",
       " 'Department of Orthopedic Surgery, Hôpital Ambroise-Paré, Boulogne-Billancourt, France; Department of Orthopedic Surgery, Mayo Clinic, Jacksonville, FL, USA',\n",
       " '[\"Unité de biologie, département des sciences de la vie et de la terre, Centre régional des métiers de l\\'éducation et de la formation (CRMEF), Marrakech BP 797, Maroc.\"]',\n",
       " 'Science and Engineering Department, Sorbonne University Abu Dhabi, Abu Dhabi, PO Box 38044 UAE; Smart Materials Lab, New York University Abu Dhabi, Abu Dhabi, PO Box 129188 UAE',\n",
       " 'Department of Sciences and Engineering, Sorbonne University Abu Dhabi, PO Box 38044, Abu Dhabi, United Arab Emirates; Smart Materials Lab, New York University Abu Dhabi, PO Box 129188, Abu Dhabi, United Arab Emirates',\n",
       " 'Department of Sciences and Engineering, Sorbonne University Abu Dhabi, PO Box 38044, Abu Dhabi, UAE; Smart Materials Lab, New York University, Abu Dhabi, PO Box 38044, Abu Dhabi, UAE',\n",
       " 'Division of Nephrology and Hypertension, Center for Translational Metabolism and Health, Institute for Public Health and Medicine, Northwestern University Feinberg School of Medicine, Chicago, Illinois;; Renal Division and',\n",
       " 'Science and Engineering Department, Sorbonne University Abu Dhabi, PO Box, 38044 Abu Dhabi, United Arab Emirates; Smart Materials Lab, New York University Abu Dhabi, PO Box, 129188 Abu Dhabi, United Arab Emirates',\n",
       " 'Foundation of Research and Technology-Hellas (FORTH/ICE-HT); Institute of Chemical Engineering Sciences, Foundation of Research and Technology-Hellas (FORTH/ICE-HT), Stadiou Street, Platani, Patras, 26504 Greece; Laboratory of Quantum and Computational Chemistry; Laboratory of Quantum and Computational Chemistry, Department of Chemistry, Aristotle University of Thessaloniki, GR-54124 Thessaloniki, Greece; Patras',\n",
       " 'Renal Division and',\n",
       " 'Sciences and Engineering Department, Sorbonne University Abu Dhabi, Abu Dhabi, PO Box, 38044 UAE; Smart Materials Lab, New York University Abu Dhabi, Abu Dhabi, PO Box, 129188 UAE',\n",
       " '[ATOS]']"
      ]
     },
     "execution_count": 13,
     "metadata": {},
     "output_type": "execute_result"
    }
   ],
   "source": [
    "cleaned_affiliations = list(set(sum([clean_affiliations(affiliation) for affiliation in bad_affiliations], [])))\n",
    "cleaned_affiliations"
   ]
  },
  {
   "cell_type": "code",
   "execution_count": null,
   "metadata": {},
   "outputs": [],
   "source": [
    "id = \"W3080555168\"\n",
    "response = requests.get(f\"https://api.openalex.org/works/{id}\").json()\n",
    "mercury.JSON(response)"
   ]
  }
 ],
 "metadata": {
  "kernelspec": {
   "display_name": "Python 3",
   "language": "python",
   "name": "python3"
  },
  "language_info": {
   "codemirror_mode": {
    "name": "ipython",
    "version": 3
   },
   "file_extension": ".py",
   "mimetype": "text/x-python",
   "name": "python",
   "nbconvert_exporter": "python",
   "pygments_lexer": "ipython3",
   "version": "3.11.5"
  },
  "orig_nbformat": 4
 },
 "nbformat": 4,
 "nbformat_minor": 2
}
